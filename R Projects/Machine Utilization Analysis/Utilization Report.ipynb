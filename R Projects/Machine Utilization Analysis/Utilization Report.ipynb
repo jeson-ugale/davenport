{
 "cells": [
  {
   "cell_type": "markdown",
   "metadata": {},
   "source": [
    "# The Challenge\n",
    "\n",
    "You have been engaged as a Data Science consultant by a coal terminal. They would like you to investigate one of their heavy machines - RL1.  \n",
    "\n",
    "You have been supplied one month worth of data for all of their machines. The\n",
    "dataset shows what percentage of capacity for each machine was idle (unused) in any given hour. You are required to deliver an R list with the following components:  \n",
    "\n",
    "Character: Machine name  \n",
    "Vector: (min, mean, max) utilisation for the month (excluding unknown hours)  \n",
    "Logical: Has utilisation ever fallen below 90%? TRUE / FALSE  \n",
    "Vector: All hours where utilisation is unknown (NA’s)  \n",
    "Dataframe: For this machine  \n",
    "Plot: For all machines  "
   ]
  },
  {
   "cell_type": "markdown",
   "metadata": {},
   "source": [
    "# Import data into R"
   ]
  },
  {
   "cell_type": "code",
   "execution_count": 36,
   "metadata": {},
   "outputs": [
    {
     "data": {
      "text/html": [
       "'C:/Users/jeson/Udemy/R/Projects/Machine Utilization'"
      ],
      "text/latex": [
       "'C:/Users/jeson/Udemy/R/Projects/Machine Utilization'"
      ],
      "text/markdown": [
       "'C:/Users/jeson/Udemy/R/Projects/Machine Utilization'"
      ],
      "text/plain": [
       "[1] \"C:/Users/jeson/Udemy/R/Projects/Machine Utilization\""
      ]
     },
     "metadata": {},
     "output_type": "display_data"
    }
   ],
   "source": [
    "getwd()"
   ]
  },
  {
   "cell_type": "code",
   "execution_count": 37,
   "metadata": {},
   "outputs": [],
   "source": [
    "util <- read.csv(\"Machine-Utilization.csv\")"
   ]
  },
  {
   "cell_type": "code",
   "execution_count": 38,
   "metadata": {},
   "outputs": [
    {
     "data": {
      "text/html": [
       "<table>\n",
       "<thead><tr><th scope=col>Timestamp</th><th scope=col>Machine</th><th scope=col>Percent.Idle</th></tr></thead>\n",
       "<tbody>\n",
       "\t<tr><td>01/09/2016 00:00</td><td>RL1             </td><td>        NA      </td></tr>\n",
       "\t<tr><td>01/09/2016 01:00</td><td>RL1             </td><td>        NA      </td></tr>\n",
       "\t<tr><td>01/09/2016 02:00</td><td>RL1             </td><td>        NA      </td></tr>\n",
       "\t<tr><td>01/09/2016 03:00</td><td>RL1             </td><td>        NA      </td></tr>\n",
       "\t<tr><td>01/09/2016 04:00</td><td>RL1             </td><td>        NA      </td></tr>\n",
       "\t<tr><td>01/09/2016 05:00</td><td>RL1             </td><td>        NA      </td></tr>\n",
       "\t<tr><td>01/09/2016 06:00</td><td>RL1             </td><td>        NA      </td></tr>\n",
       "\t<tr><td>01/09/2016 07:00</td><td>RL1             </td><td>0.01994048      </td></tr>\n",
       "\t<tr><td>01/09/2016 08:00</td><td>RL1             </td><td>0.01997024      </td></tr>\n",
       "\t<tr><td>01/09/2016 09:00</td><td>RL1             </td><td>0.02119048      </td></tr>\n",
       "\t<tr><td>01/09/2016 10:00</td><td>RL1             </td><td>0.01375000      </td></tr>\n",
       "\t<tr><td>01/09/2016 11:00</td><td>RL1             </td><td>0.01916667      </td></tr>\n",
       "</tbody>\n",
       "</table>\n"
      ],
      "text/latex": [
       "\\begin{tabular}{r|lll}\n",
       " Timestamp & Machine & Percent.Idle\\\\\n",
       "\\hline\n",
       "\t 01/09/2016 00:00 & RL1              &         NA      \\\\\n",
       "\t 01/09/2016 01:00 & RL1              &         NA      \\\\\n",
       "\t 01/09/2016 02:00 & RL1              &         NA      \\\\\n",
       "\t 01/09/2016 03:00 & RL1              &         NA      \\\\\n",
       "\t 01/09/2016 04:00 & RL1              &         NA      \\\\\n",
       "\t 01/09/2016 05:00 & RL1              &         NA      \\\\\n",
       "\t 01/09/2016 06:00 & RL1              &         NA      \\\\\n",
       "\t 01/09/2016 07:00 & RL1              & 0.01994048      \\\\\n",
       "\t 01/09/2016 08:00 & RL1              & 0.01997024      \\\\\n",
       "\t 01/09/2016 09:00 & RL1              & 0.02119048      \\\\\n",
       "\t 01/09/2016 10:00 & RL1              & 0.01375000      \\\\\n",
       "\t 01/09/2016 11:00 & RL1              & 0.01916667      \\\\\n",
       "\\end{tabular}\n"
      ],
      "text/markdown": [
       "\n",
       "Timestamp | Machine | Percent.Idle | \n",
       "|---|---|---|---|---|---|---|---|---|---|---|---|\n",
       "| 01/09/2016 00:00 | RL1              |         NA       | \n",
       "| 01/09/2016 01:00 | RL1              |         NA       | \n",
       "| 01/09/2016 02:00 | RL1              |         NA       | \n",
       "| 01/09/2016 03:00 | RL1              |         NA       | \n",
       "| 01/09/2016 04:00 | RL1              |         NA       | \n",
       "| 01/09/2016 05:00 | RL1              |         NA       | \n",
       "| 01/09/2016 06:00 | RL1              |         NA       | \n",
       "| 01/09/2016 07:00 | RL1              | 0.01994048       | \n",
       "| 01/09/2016 08:00 | RL1              | 0.01997024       | \n",
       "| 01/09/2016 09:00 | RL1              | 0.02119048       | \n",
       "| 01/09/2016 10:00 | RL1              | 0.01375000       | \n",
       "| 01/09/2016 11:00 | RL1              | 0.01916667       | \n",
       "\n",
       "\n"
      ],
      "text/plain": [
       "   Timestamp        Machine Percent.Idle\n",
       "1  01/09/2016 00:00 RL1             NA  \n",
       "2  01/09/2016 01:00 RL1             NA  \n",
       "3  01/09/2016 02:00 RL1             NA  \n",
       "4  01/09/2016 03:00 RL1             NA  \n",
       "5  01/09/2016 04:00 RL1             NA  \n",
       "6  01/09/2016 05:00 RL1             NA  \n",
       "7  01/09/2016 06:00 RL1             NA  \n",
       "8  01/09/2016 07:00 RL1     0.01994048  \n",
       "9  01/09/2016 08:00 RL1     0.01997024  \n",
       "10 01/09/2016 09:00 RL1     0.02119048  \n",
       "11 01/09/2016 10:00 RL1     0.01375000  \n",
       "12 01/09/2016 11:00 RL1     0.01916667  "
      ]
     },
     "metadata": {},
     "output_type": "display_data"
    }
   ],
   "source": [
    "head(util, 12)"
   ]
  },
  {
   "cell_type": "code",
   "execution_count": 39,
   "metadata": {
    "scrolled": true
   },
   "outputs": [
    {
     "name": "stdout",
     "output_type": "stream",
     "text": [
      "'data.frame':\t3600 obs. of  3 variables:\n",
      " $ Timestamp   : Factor w/ 720 levels \"01/09/2016 00:00\",..: 1 2 3 4 5 6 7 8 9 10 ...\n",
      " $ Machine     : Factor w/ 5 levels \"RL1\",\"RL2\",\"SR1\",..: 1 1 1 1 1 1 1 1 1 1 ...\n",
      " $ Percent.Idle: num  NA NA NA NA NA ...\n"
     ]
    }
   ],
   "source": [
    "str(util)"
   ]
  },
  {
   "cell_type": "code",
   "execution_count": 40,
   "metadata": {},
   "outputs": [
    {
     "data": {
      "text/plain": [
       "            Timestamp    Machine     Percent.Idle   \n",
       " 01/09/2016 00:00:   5   RL1 :720   Min.   :0.0000  \n",
       " 01/09/2016 01:00:   5   RL2 :720   1st Qu.:0.0262  \n",
       " 01/09/2016 02:00:   5   SR1 :720   Median :0.0410  \n",
       " 01/09/2016 03:00:   5   SR4A:720   Mean   :0.0431  \n",
       " 01/09/2016 04:00:   5   SR6 :720   3rd Qu.:0.0576  \n",
       " 01/09/2016 05:00:   5              Max.   :0.1508  \n",
       " (Other)         :3570              NA's   :361     "
      ]
     },
     "metadata": {},
     "output_type": "display_data"
    }
   ],
   "source": [
    "summary(util)"
   ]
  },
  {
   "cell_type": "markdown",
   "metadata": {},
   "source": [
    "From the summary, we know that each machine has 720 records, meaning each hour of the month has been recorded."
   ]
  },
  {
   "cell_type": "markdown",
   "metadata": {},
   "source": [
    "Analyzing the data will be easier if we pay attention to how long the machine has been in use, as opposed to paying attention to how long the machine has been idle."
   ]
  },
  {
   "cell_type": "code",
   "execution_count": 41,
   "metadata": {},
   "outputs": [],
   "source": [
    "# Derive utilization column\n",
    "util$Utilization <- 1-util$Percent.Idle"
   ]
  },
  {
   "cell_type": "code",
   "execution_count": 42,
   "metadata": {},
   "outputs": [
    {
     "data": {
      "text/html": [
       "<table>\n",
       "<thead><tr><th scope=col>Timestamp</th><th scope=col>Machine</th><th scope=col>Percent.Idle</th><th scope=col>Utilization</th></tr></thead>\n",
       "<tbody>\n",
       "\t<tr><td>01/09/2016 00:00</td><td>RL1             </td><td>        NA      </td><td>       NA       </td></tr>\n",
       "\t<tr><td>01/09/2016 01:00</td><td>RL1             </td><td>        NA      </td><td>       NA       </td></tr>\n",
       "\t<tr><td>01/09/2016 02:00</td><td>RL1             </td><td>        NA      </td><td>       NA       </td></tr>\n",
       "\t<tr><td>01/09/2016 03:00</td><td>RL1             </td><td>        NA      </td><td>       NA       </td></tr>\n",
       "\t<tr><td>01/09/2016 04:00</td><td>RL1             </td><td>        NA      </td><td>       NA       </td></tr>\n",
       "\t<tr><td>01/09/2016 05:00</td><td>RL1             </td><td>        NA      </td><td>       NA       </td></tr>\n",
       "\t<tr><td>01/09/2016 06:00</td><td>RL1             </td><td>        NA      </td><td>       NA       </td></tr>\n",
       "\t<tr><td>01/09/2016 07:00</td><td>RL1             </td><td>0.01994048      </td><td>0.9800595       </td></tr>\n",
       "\t<tr><td>01/09/2016 08:00</td><td>RL1             </td><td>0.01997024      </td><td>0.9800298       </td></tr>\n",
       "\t<tr><td>01/09/2016 09:00</td><td>RL1             </td><td>0.02119048      </td><td>0.9788095       </td></tr>\n",
       "\t<tr><td>01/09/2016 10:00</td><td>RL1             </td><td>0.01375000      </td><td>0.9862500       </td></tr>\n",
       "\t<tr><td>01/09/2016 11:00</td><td>RL1             </td><td>0.01916667      </td><td>0.9808333       </td></tr>\n",
       "</tbody>\n",
       "</table>\n"
      ],
      "text/latex": [
       "\\begin{tabular}{r|llll}\n",
       " Timestamp & Machine & Percent.Idle & Utilization\\\\\n",
       "\\hline\n",
       "\t 01/09/2016 00:00 & RL1              &         NA       &        NA       \\\\\n",
       "\t 01/09/2016 01:00 & RL1              &         NA       &        NA       \\\\\n",
       "\t 01/09/2016 02:00 & RL1              &         NA       &        NA       \\\\\n",
       "\t 01/09/2016 03:00 & RL1              &         NA       &        NA       \\\\\n",
       "\t 01/09/2016 04:00 & RL1              &         NA       &        NA       \\\\\n",
       "\t 01/09/2016 05:00 & RL1              &         NA       &        NA       \\\\\n",
       "\t 01/09/2016 06:00 & RL1              &         NA       &        NA       \\\\\n",
       "\t 01/09/2016 07:00 & RL1              & 0.01994048       & 0.9800595       \\\\\n",
       "\t 01/09/2016 08:00 & RL1              & 0.01997024       & 0.9800298       \\\\\n",
       "\t 01/09/2016 09:00 & RL1              & 0.02119048       & 0.9788095       \\\\\n",
       "\t 01/09/2016 10:00 & RL1              & 0.01375000       & 0.9862500       \\\\\n",
       "\t 01/09/2016 11:00 & RL1              & 0.01916667       & 0.9808333       \\\\\n",
       "\\end{tabular}\n"
      ],
      "text/markdown": [
       "\n",
       "Timestamp | Machine | Percent.Idle | Utilization | \n",
       "|---|---|---|---|---|---|---|---|---|---|---|---|\n",
       "| 01/09/2016 00:00 | RL1              |         NA       |        NA        | \n",
       "| 01/09/2016 01:00 | RL1              |         NA       |        NA        | \n",
       "| 01/09/2016 02:00 | RL1              |         NA       |        NA        | \n",
       "| 01/09/2016 03:00 | RL1              |         NA       |        NA        | \n",
       "| 01/09/2016 04:00 | RL1              |         NA       |        NA        | \n",
       "| 01/09/2016 05:00 | RL1              |         NA       |        NA        | \n",
       "| 01/09/2016 06:00 | RL1              |         NA       |        NA        | \n",
       "| 01/09/2016 07:00 | RL1              | 0.01994048       | 0.9800595        | \n",
       "| 01/09/2016 08:00 | RL1              | 0.01997024       | 0.9800298        | \n",
       "| 01/09/2016 09:00 | RL1              | 0.02119048       | 0.9788095        | \n",
       "| 01/09/2016 10:00 | RL1              | 0.01375000       | 0.9862500        | \n",
       "| 01/09/2016 11:00 | RL1              | 0.01916667       | 0.9808333        | \n",
       "\n",
       "\n"
      ],
      "text/plain": [
       "   Timestamp        Machine Percent.Idle Utilization\n",
       "1  01/09/2016 00:00 RL1             NA          NA  \n",
       "2  01/09/2016 01:00 RL1             NA          NA  \n",
       "3  01/09/2016 02:00 RL1             NA          NA  \n",
       "4  01/09/2016 03:00 RL1             NA          NA  \n",
       "5  01/09/2016 04:00 RL1             NA          NA  \n",
       "6  01/09/2016 05:00 RL1             NA          NA  \n",
       "7  01/09/2016 06:00 RL1             NA          NA  \n",
       "8  01/09/2016 07:00 RL1     0.01994048   0.9800595  \n",
       "9  01/09/2016 08:00 RL1     0.01997024   0.9800298  \n",
       "10 01/09/2016 09:00 RL1     0.02119048   0.9788095  \n",
       "11 01/09/2016 10:00 RL1     0.01375000   0.9862500  \n",
       "12 01/09/2016 11:00 RL1     0.01916667   0.9808333  "
      ]
     },
     "metadata": {},
     "output_type": "display_data"
    }
   ],
   "source": [
    "head(util, 12)"
   ]
  },
  {
   "cell_type": "markdown",
   "metadata": {},
   "source": [
    "# Handling Date-Times in R"
   ]
  },
  {
   "cell_type": "code",
   "execution_count": 43,
   "metadata": {},
   "outputs": [
    {
     "data": {
      "text/html": [
       "<table>\n",
       "<thead><tr><th></th><th scope=col>Timestamp</th><th scope=col>Machine</th><th scope=col>Percent.Idle</th><th scope=col>Utilization</th></tr></thead>\n",
       "<tbody>\n",
       "\t<tr><th scope=row>3595</th><td>30/09/2016 18:00</td><td>SR6             </td><td>0.03485507      </td><td>0.9651449       </td></tr>\n",
       "\t<tr><th scope=row>3596</th><td>30/09/2016 19:00</td><td>SR6             </td><td>0.04605073      </td><td>0.9539493       </td></tr>\n",
       "\t<tr><th scope=row>3597</th><td>30/09/2016 20:00</td><td>SR6             </td><td>0.04427536      </td><td>0.9557246       </td></tr>\n",
       "\t<tr><th scope=row>3598</th><td>30/09/2016 21:00</td><td>SR6             </td><td>0.04141304      </td><td>0.9585870       </td></tr>\n",
       "\t<tr><th scope=row>3599</th><td>30/09/2016 22:00</td><td>SR6             </td><td>0.06750000      </td><td>0.9325000       </td></tr>\n",
       "\t<tr><th scope=row>3600</th><td>30/09/2016 23:00</td><td>SR6             </td><td>0.05355073      </td><td>0.9464493       </td></tr>\n",
       "</tbody>\n",
       "</table>\n"
      ],
      "text/latex": [
       "\\begin{tabular}{r|llll}\n",
       "  & Timestamp & Machine & Percent.Idle & Utilization\\\\\n",
       "\\hline\n",
       "\t3595 & 30/09/2016 18:00 & SR6              & 0.03485507       & 0.9651449       \\\\\n",
       "\t3596 & 30/09/2016 19:00 & SR6              & 0.04605073       & 0.9539493       \\\\\n",
       "\t3597 & 30/09/2016 20:00 & SR6              & 0.04427536       & 0.9557246       \\\\\n",
       "\t3598 & 30/09/2016 21:00 & SR6              & 0.04141304       & 0.9585870       \\\\\n",
       "\t3599 & 30/09/2016 22:00 & SR6              & 0.06750000       & 0.9325000       \\\\\n",
       "\t3600 & 30/09/2016 23:00 & SR6              & 0.05355073       & 0.9464493       \\\\\n",
       "\\end{tabular}\n"
      ],
      "text/markdown": [
       "\n",
       "| <!--/--> | Timestamp | Machine | Percent.Idle | Utilization | \n",
       "|---|---|---|---|---|---|\n",
       "| 3595 | 30/09/2016 18:00 | SR6              | 0.03485507       | 0.9651449        | \n",
       "| 3596 | 30/09/2016 19:00 | SR6              | 0.04605073       | 0.9539493        | \n",
       "| 3597 | 30/09/2016 20:00 | SR6              | 0.04427536       | 0.9557246        | \n",
       "| 3598 | 30/09/2016 21:00 | SR6              | 0.04141304       | 0.9585870        | \n",
       "| 3599 | 30/09/2016 22:00 | SR6              | 0.06750000       | 0.9325000        | \n",
       "| 3600 | 30/09/2016 23:00 | SR6              | 0.05355073       | 0.9464493        | \n",
       "\n",
       "\n"
      ],
      "text/plain": [
       "     Timestamp        Machine Percent.Idle Utilization\n",
       "3595 30/09/2016 18:00 SR6     0.03485507   0.9651449  \n",
       "3596 30/09/2016 19:00 SR6     0.04605073   0.9539493  \n",
       "3597 30/09/2016 20:00 SR6     0.04427536   0.9557246  \n",
       "3598 30/09/2016 21:00 SR6     0.04141304   0.9585870  \n",
       "3599 30/09/2016 22:00 SR6     0.06750000   0.9325000  \n",
       "3600 30/09/2016 23:00 SR6     0.05355073   0.9464493  "
      ]
     },
     "metadata": {},
     "output_type": "display_data"
    }
   ],
   "source": [
    "tail(util)  # To see the format of the date-time"
   ]
  },
  {
   "cell_type": "markdown",
   "metadata": {},
   "source": [
    "We can see that the format of the Timestamp is day/month/year.\n",
    "\n",
    "Suppose we didn't have this info and the date format was ambiguous. We would use the universal format called POSIXct. It stores time as the number of seconds that passed since the start of the year of 1973 until the current time in the UTC timezone."
   ]
  },
  {
   "cell_type": "code",
   "execution_count": 44,
   "metadata": {},
   "outputs": [],
   "source": [
    "# Universal Date-Time in R.\n",
    "util$PosixTime <- as.POSIXct(util$Timestamp, format=\"%d/%m/%Y %H:%M\")"
   ]
  },
  {
   "cell_type": "code",
   "execution_count": 45,
   "metadata": {},
   "outputs": [
    {
     "data": {
      "text/html": [
       "<table>\n",
       "<thead><tr><th scope=col>Timestamp</th><th scope=col>Machine</th><th scope=col>Percent.Idle</th><th scope=col>Utilization</th><th scope=col>PosixTime</th></tr></thead>\n",
       "<tbody>\n",
       "\t<tr><td>01/09/2016 00:00   </td><td>RL1                </td><td>        NA         </td><td>       NA          </td><td>2016-09-01 00:00:00</td></tr>\n",
       "\t<tr><td>01/09/2016 01:00   </td><td>RL1                </td><td>        NA         </td><td>       NA          </td><td>2016-09-01 01:00:00</td></tr>\n",
       "\t<tr><td>01/09/2016 02:00   </td><td>RL1                </td><td>        NA         </td><td>       NA          </td><td>2016-09-01 02:00:00</td></tr>\n",
       "\t<tr><td>01/09/2016 03:00   </td><td>RL1                </td><td>        NA         </td><td>       NA          </td><td>2016-09-01 03:00:00</td></tr>\n",
       "\t<tr><td>01/09/2016 04:00   </td><td>RL1                </td><td>        NA         </td><td>       NA          </td><td>2016-09-01 04:00:00</td></tr>\n",
       "\t<tr><td>01/09/2016 05:00   </td><td>RL1                </td><td>        NA         </td><td>       NA          </td><td>2016-09-01 05:00:00</td></tr>\n",
       "\t<tr><td>01/09/2016 06:00   </td><td>RL1                </td><td>        NA         </td><td>       NA          </td><td>2016-09-01 06:00:00</td></tr>\n",
       "\t<tr><td>01/09/2016 07:00   </td><td>RL1                </td><td>0.01994048         </td><td>0.9800595          </td><td>2016-09-01 07:00:00</td></tr>\n",
       "\t<tr><td>01/09/2016 08:00   </td><td>RL1                </td><td>0.01997024         </td><td>0.9800298          </td><td>2016-09-01 08:00:00</td></tr>\n",
       "\t<tr><td>01/09/2016 09:00   </td><td>RL1                </td><td>0.02119048         </td><td>0.9788095          </td><td>2016-09-01 09:00:00</td></tr>\n",
       "\t<tr><td>01/09/2016 10:00   </td><td>RL1                </td><td>0.01375000         </td><td>0.9862500          </td><td>2016-09-01 10:00:00</td></tr>\n",
       "\t<tr><td>01/09/2016 11:00   </td><td>RL1                </td><td>0.01916667         </td><td>0.9808333          </td><td>2016-09-01 11:00:00</td></tr>\n",
       "</tbody>\n",
       "</table>\n"
      ],
      "text/latex": [
       "\\begin{tabular}{r|lllll}\n",
       " Timestamp & Machine & Percent.Idle & Utilization & PosixTime\\\\\n",
       "\\hline\n",
       "\t 01/09/2016 00:00    & RL1                 &         NA          &        NA           & 2016-09-01 00:00:00\\\\\n",
       "\t 01/09/2016 01:00    & RL1                 &         NA          &        NA           & 2016-09-01 01:00:00\\\\\n",
       "\t 01/09/2016 02:00    & RL1                 &         NA          &        NA           & 2016-09-01 02:00:00\\\\\n",
       "\t 01/09/2016 03:00    & RL1                 &         NA          &        NA           & 2016-09-01 03:00:00\\\\\n",
       "\t 01/09/2016 04:00    & RL1                 &         NA          &        NA           & 2016-09-01 04:00:00\\\\\n",
       "\t 01/09/2016 05:00    & RL1                 &         NA          &        NA           & 2016-09-01 05:00:00\\\\\n",
       "\t 01/09/2016 06:00    & RL1                 &         NA          &        NA           & 2016-09-01 06:00:00\\\\\n",
       "\t 01/09/2016 07:00    & RL1                 & 0.01994048          & 0.9800595           & 2016-09-01 07:00:00\\\\\n",
       "\t 01/09/2016 08:00    & RL1                 & 0.01997024          & 0.9800298           & 2016-09-01 08:00:00\\\\\n",
       "\t 01/09/2016 09:00    & RL1                 & 0.02119048          & 0.9788095           & 2016-09-01 09:00:00\\\\\n",
       "\t 01/09/2016 10:00    & RL1                 & 0.01375000          & 0.9862500           & 2016-09-01 10:00:00\\\\\n",
       "\t 01/09/2016 11:00    & RL1                 & 0.01916667          & 0.9808333           & 2016-09-01 11:00:00\\\\\n",
       "\\end{tabular}\n"
      ],
      "text/markdown": [
       "\n",
       "Timestamp | Machine | Percent.Idle | Utilization | PosixTime | \n",
       "|---|---|---|---|---|---|---|---|---|---|---|---|\n",
       "| 01/09/2016 00:00    | RL1                 |         NA          |        NA           | 2016-09-01 00:00:00 | \n",
       "| 01/09/2016 01:00    | RL1                 |         NA          |        NA           | 2016-09-01 01:00:00 | \n",
       "| 01/09/2016 02:00    | RL1                 |         NA          |        NA           | 2016-09-01 02:00:00 | \n",
       "| 01/09/2016 03:00    | RL1                 |         NA          |        NA           | 2016-09-01 03:00:00 | \n",
       "| 01/09/2016 04:00    | RL1                 |         NA          |        NA           | 2016-09-01 04:00:00 | \n",
       "| 01/09/2016 05:00    | RL1                 |         NA          |        NA           | 2016-09-01 05:00:00 | \n",
       "| 01/09/2016 06:00    | RL1                 |         NA          |        NA           | 2016-09-01 06:00:00 | \n",
       "| 01/09/2016 07:00    | RL1                 | 0.01994048          | 0.9800595           | 2016-09-01 07:00:00 | \n",
       "| 01/09/2016 08:00    | RL1                 | 0.01997024          | 0.9800298           | 2016-09-01 08:00:00 | \n",
       "| 01/09/2016 09:00    | RL1                 | 0.02119048          | 0.9788095           | 2016-09-01 09:00:00 | \n",
       "| 01/09/2016 10:00    | RL1                 | 0.01375000          | 0.9862500           | 2016-09-01 10:00:00 | \n",
       "| 01/09/2016 11:00    | RL1                 | 0.01916667          | 0.9808333           | 2016-09-01 11:00:00 | \n",
       "\n",
       "\n"
      ],
      "text/plain": [
       "   Timestamp        Machine Percent.Idle Utilization PosixTime          \n",
       "1  01/09/2016 00:00 RL1             NA          NA   2016-09-01 00:00:00\n",
       "2  01/09/2016 01:00 RL1             NA          NA   2016-09-01 01:00:00\n",
       "3  01/09/2016 02:00 RL1             NA          NA   2016-09-01 02:00:00\n",
       "4  01/09/2016 03:00 RL1             NA          NA   2016-09-01 03:00:00\n",
       "5  01/09/2016 04:00 RL1             NA          NA   2016-09-01 04:00:00\n",
       "6  01/09/2016 05:00 RL1             NA          NA   2016-09-01 05:00:00\n",
       "7  01/09/2016 06:00 RL1             NA          NA   2016-09-01 06:00:00\n",
       "8  01/09/2016 07:00 RL1     0.01994048   0.9800595   2016-09-01 07:00:00\n",
       "9  01/09/2016 08:00 RL1     0.01997024   0.9800298   2016-09-01 08:00:00\n",
       "10 01/09/2016 09:00 RL1     0.02119048   0.9788095   2016-09-01 09:00:00\n",
       "11 01/09/2016 10:00 RL1     0.01375000   0.9862500   2016-09-01 10:00:00\n",
       "12 01/09/2016 11:00 RL1     0.01916667   0.9808333   2016-09-01 11:00:00"
      ]
     },
     "metadata": {},
     "output_type": "display_data"
    }
   ],
   "source": [
    "head(util,12)"
   ]
  },
  {
   "cell_type": "code",
   "execution_count": 46,
   "metadata": {},
   "outputs": [
    {
     "data": {
      "text/plain": [
       "            Timestamp    Machine     Percent.Idle     Utilization    \n",
       " 01/09/2016 00:00:   5   RL1 :720   Min.   :0.0000   Min.   :0.8492  \n",
       " 01/09/2016 01:00:   5   RL2 :720   1st Qu.:0.0262   1st Qu.:0.9424  \n",
       " 01/09/2016 02:00:   5   SR1 :720   Median :0.0410   Median :0.9590  \n",
       " 01/09/2016 03:00:   5   SR4A:720   Mean   :0.0431   Mean   :0.9569  \n",
       " 01/09/2016 04:00:   5   SR6 :720   3rd Qu.:0.0576   3rd Qu.:0.9738  \n",
       " 01/09/2016 05:00:   5              Max.   :0.1508   Max.   :1.0000  \n",
       " (Other)         :3570              NA's   :361      NA's   :361     \n",
       "   PosixTime                  \n",
       " Min.   :2016-09-01 00:00:00  \n",
       " 1st Qu.:2016-09-08 11:45:00  \n",
       " Median :2016-09-15 23:30:00  \n",
       " Mean   :2016-09-15 23:30:00  \n",
       " 3rd Qu.:2016-09-23 11:15:00  \n",
       " Max.   :2016-09-30 23:00:00  \n",
       "                              "
      ]
     },
     "metadata": {},
     "output_type": "display_data"
    }
   ],
   "source": [
    "summary(util)"
   ]
  },
  {
   "cell_type": "markdown",
   "metadata": {},
   "source": [
    "Since we no longer need the original Timestamp column, we will replace it with our new PosixTime."
   ]
  },
  {
   "cell_type": "code",
   "execution_count": 47,
   "metadata": {},
   "outputs": [
    {
     "data": {
      "text/html": [
       "<table>\n",
       "<thead><tr><th scope=col>Machine</th><th scope=col>Percent.Idle</th><th scope=col>Utilization</th><th scope=col>PosixTime</th></tr></thead>\n",
       "<tbody>\n",
       "\t<tr><td>RL1                </td><td>        NA         </td><td>       NA          </td><td>2016-09-01 00:00:00</td></tr>\n",
       "\t<tr><td>RL1                </td><td>        NA         </td><td>       NA          </td><td>2016-09-01 01:00:00</td></tr>\n",
       "\t<tr><td>RL1                </td><td>        NA         </td><td>       NA          </td><td>2016-09-01 02:00:00</td></tr>\n",
       "\t<tr><td>RL1                </td><td>        NA         </td><td>       NA          </td><td>2016-09-01 03:00:00</td></tr>\n",
       "\t<tr><td>RL1                </td><td>        NA         </td><td>       NA          </td><td>2016-09-01 04:00:00</td></tr>\n",
       "\t<tr><td>RL1                </td><td>        NA         </td><td>       NA          </td><td>2016-09-01 05:00:00</td></tr>\n",
       "\t<tr><td>RL1                </td><td>        NA         </td><td>       NA          </td><td>2016-09-01 06:00:00</td></tr>\n",
       "\t<tr><td>RL1                </td><td>0.01994048         </td><td>0.9800595          </td><td>2016-09-01 07:00:00</td></tr>\n",
       "\t<tr><td>RL1                </td><td>0.01997024         </td><td>0.9800298          </td><td>2016-09-01 08:00:00</td></tr>\n",
       "\t<tr><td>RL1                </td><td>0.02119048         </td><td>0.9788095          </td><td>2016-09-01 09:00:00</td></tr>\n",
       "\t<tr><td>RL1                </td><td>0.01375000         </td><td>0.9862500          </td><td>2016-09-01 10:00:00</td></tr>\n",
       "\t<tr><td>RL1                </td><td>0.01916667         </td><td>0.9808333          </td><td>2016-09-01 11:00:00</td></tr>\n",
       "</tbody>\n",
       "</table>\n"
      ],
      "text/latex": [
       "\\begin{tabular}{r|llll}\n",
       " Machine & Percent.Idle & Utilization & PosixTime\\\\\n",
       "\\hline\n",
       "\t RL1                 &         NA          &        NA           & 2016-09-01 00:00:00\\\\\n",
       "\t RL1                 &         NA          &        NA           & 2016-09-01 01:00:00\\\\\n",
       "\t RL1                 &         NA          &        NA           & 2016-09-01 02:00:00\\\\\n",
       "\t RL1                 &         NA          &        NA           & 2016-09-01 03:00:00\\\\\n",
       "\t RL1                 &         NA          &        NA           & 2016-09-01 04:00:00\\\\\n",
       "\t RL1                 &         NA          &        NA           & 2016-09-01 05:00:00\\\\\n",
       "\t RL1                 &         NA          &        NA           & 2016-09-01 06:00:00\\\\\n",
       "\t RL1                 & 0.01994048          & 0.9800595           & 2016-09-01 07:00:00\\\\\n",
       "\t RL1                 & 0.01997024          & 0.9800298           & 2016-09-01 08:00:00\\\\\n",
       "\t RL1                 & 0.02119048          & 0.9788095           & 2016-09-01 09:00:00\\\\\n",
       "\t RL1                 & 0.01375000          & 0.9862500           & 2016-09-01 10:00:00\\\\\n",
       "\t RL1                 & 0.01916667          & 0.9808333           & 2016-09-01 11:00:00\\\\\n",
       "\\end{tabular}\n"
      ],
      "text/markdown": [
       "\n",
       "Machine | Percent.Idle | Utilization | PosixTime | \n",
       "|---|---|---|---|---|---|---|---|---|---|---|---|\n",
       "| RL1                 |         NA          |        NA           | 2016-09-01 00:00:00 | \n",
       "| RL1                 |         NA          |        NA           | 2016-09-01 01:00:00 | \n",
       "| RL1                 |         NA          |        NA           | 2016-09-01 02:00:00 | \n",
       "| RL1                 |         NA          |        NA           | 2016-09-01 03:00:00 | \n",
       "| RL1                 |         NA          |        NA           | 2016-09-01 04:00:00 | \n",
       "| RL1                 |         NA          |        NA           | 2016-09-01 05:00:00 | \n",
       "| RL1                 |         NA          |        NA           | 2016-09-01 06:00:00 | \n",
       "| RL1                 | 0.01994048          | 0.9800595           | 2016-09-01 07:00:00 | \n",
       "| RL1                 | 0.01997024          | 0.9800298           | 2016-09-01 08:00:00 | \n",
       "| RL1                 | 0.02119048          | 0.9788095           | 2016-09-01 09:00:00 | \n",
       "| RL1                 | 0.01375000          | 0.9862500           | 2016-09-01 10:00:00 | \n",
       "| RL1                 | 0.01916667          | 0.9808333           | 2016-09-01 11:00:00 | \n",
       "\n",
       "\n"
      ],
      "text/plain": [
       "   Machine Percent.Idle Utilization PosixTime          \n",
       "1  RL1             NA          NA   2016-09-01 00:00:00\n",
       "2  RL1             NA          NA   2016-09-01 01:00:00\n",
       "3  RL1             NA          NA   2016-09-01 02:00:00\n",
       "4  RL1             NA          NA   2016-09-01 03:00:00\n",
       "5  RL1             NA          NA   2016-09-01 04:00:00\n",
       "6  RL1             NA          NA   2016-09-01 05:00:00\n",
       "7  RL1             NA          NA   2016-09-01 06:00:00\n",
       "8  RL1     0.01994048   0.9800595   2016-09-01 07:00:00\n",
       "9  RL1     0.01997024   0.9800298   2016-09-01 08:00:00\n",
       "10 RL1     0.02119048   0.9788095   2016-09-01 09:00:00\n",
       "11 RL1     0.01375000   0.9862500   2016-09-01 10:00:00\n",
       "12 RL1     0.01916667   0.9808333   2016-09-01 11:00:00"
      ]
     },
     "metadata": {},
     "output_type": "display_data"
    }
   ],
   "source": [
    "# Tip: How to rearrange columns in a df:\n",
    "util$Timestamp <- NULL\n",
    "head(util,12)"
   ]
  },
  {
   "cell_type": "code",
   "execution_count": 48,
   "metadata": {},
   "outputs": [],
   "source": [
    "util <- util[,c(4,1,2,3)]"
   ]
  },
  {
   "cell_type": "code",
   "execution_count": 49,
   "metadata": {},
   "outputs": [
    {
     "data": {
      "text/html": [
       "<table>\n",
       "<thead><tr><th scope=col>PosixTime</th><th scope=col>Machine</th><th scope=col>Percent.Idle</th><th scope=col>Utilization</th></tr></thead>\n",
       "<tbody>\n",
       "\t<tr><td>2016-09-01 00:00:00</td><td>RL1                </td><td>        NA         </td><td>       NA          </td></tr>\n",
       "\t<tr><td>2016-09-01 01:00:00</td><td>RL1                </td><td>        NA         </td><td>       NA          </td></tr>\n",
       "\t<tr><td>2016-09-01 02:00:00</td><td>RL1                </td><td>        NA         </td><td>       NA          </td></tr>\n",
       "\t<tr><td>2016-09-01 03:00:00</td><td>RL1                </td><td>        NA         </td><td>       NA          </td></tr>\n",
       "\t<tr><td>2016-09-01 04:00:00</td><td>RL1                </td><td>        NA         </td><td>       NA          </td></tr>\n",
       "\t<tr><td>2016-09-01 05:00:00</td><td>RL1                </td><td>        NA         </td><td>       NA          </td></tr>\n",
       "\t<tr><td>2016-09-01 06:00:00</td><td>RL1                </td><td>        NA         </td><td>       NA          </td></tr>\n",
       "\t<tr><td>2016-09-01 07:00:00</td><td>RL1                </td><td>0.01994048         </td><td>0.9800595          </td></tr>\n",
       "\t<tr><td>2016-09-01 08:00:00</td><td>RL1                </td><td>0.01997024         </td><td>0.9800298          </td></tr>\n",
       "\t<tr><td>2016-09-01 09:00:00</td><td>RL1                </td><td>0.02119048         </td><td>0.9788095          </td></tr>\n",
       "\t<tr><td>2016-09-01 10:00:00</td><td>RL1                </td><td>0.01375000         </td><td>0.9862500          </td></tr>\n",
       "\t<tr><td>2016-09-01 11:00:00</td><td>RL1                </td><td>0.01916667         </td><td>0.9808333          </td></tr>\n",
       "</tbody>\n",
       "</table>\n"
      ],
      "text/latex": [
       "\\begin{tabular}{r|llll}\n",
       " PosixTime & Machine & Percent.Idle & Utilization\\\\\n",
       "\\hline\n",
       "\t 2016-09-01 00:00:00 & RL1                 &         NA          &        NA          \\\\\n",
       "\t 2016-09-01 01:00:00 & RL1                 &         NA          &        NA          \\\\\n",
       "\t 2016-09-01 02:00:00 & RL1                 &         NA          &        NA          \\\\\n",
       "\t 2016-09-01 03:00:00 & RL1                 &         NA          &        NA          \\\\\n",
       "\t 2016-09-01 04:00:00 & RL1                 &         NA          &        NA          \\\\\n",
       "\t 2016-09-01 05:00:00 & RL1                 &         NA          &        NA          \\\\\n",
       "\t 2016-09-01 06:00:00 & RL1                 &         NA          &        NA          \\\\\n",
       "\t 2016-09-01 07:00:00 & RL1                 & 0.01994048          & 0.9800595          \\\\\n",
       "\t 2016-09-01 08:00:00 & RL1                 & 0.01997024          & 0.9800298          \\\\\n",
       "\t 2016-09-01 09:00:00 & RL1                 & 0.02119048          & 0.9788095          \\\\\n",
       "\t 2016-09-01 10:00:00 & RL1                 & 0.01375000          & 0.9862500          \\\\\n",
       "\t 2016-09-01 11:00:00 & RL1                 & 0.01916667          & 0.9808333          \\\\\n",
       "\\end{tabular}\n"
      ],
      "text/markdown": [
       "\n",
       "PosixTime | Machine | Percent.Idle | Utilization | \n",
       "|---|---|---|---|---|---|---|---|---|---|---|---|\n",
       "| 2016-09-01 00:00:00 | RL1                 |         NA          |        NA           | \n",
       "| 2016-09-01 01:00:00 | RL1                 |         NA          |        NA           | \n",
       "| 2016-09-01 02:00:00 | RL1                 |         NA          |        NA           | \n",
       "| 2016-09-01 03:00:00 | RL1                 |         NA          |        NA           | \n",
       "| 2016-09-01 04:00:00 | RL1                 |         NA          |        NA           | \n",
       "| 2016-09-01 05:00:00 | RL1                 |         NA          |        NA           | \n",
       "| 2016-09-01 06:00:00 | RL1                 |         NA          |        NA           | \n",
       "| 2016-09-01 07:00:00 | RL1                 | 0.01994048          | 0.9800595           | \n",
       "| 2016-09-01 08:00:00 | RL1                 | 0.01997024          | 0.9800298           | \n",
       "| 2016-09-01 09:00:00 | RL1                 | 0.02119048          | 0.9788095           | \n",
       "| 2016-09-01 10:00:00 | RL1                 | 0.01375000          | 0.9862500           | \n",
       "| 2016-09-01 11:00:00 | RL1                 | 0.01916667          | 0.9808333           | \n",
       "\n",
       "\n"
      ],
      "text/plain": [
       "   PosixTime           Machine Percent.Idle Utilization\n",
       "1  2016-09-01 00:00:00 RL1             NA          NA  \n",
       "2  2016-09-01 01:00:00 RL1             NA          NA  \n",
       "3  2016-09-01 02:00:00 RL1             NA          NA  \n",
       "4  2016-09-01 03:00:00 RL1             NA          NA  \n",
       "5  2016-09-01 04:00:00 RL1             NA          NA  \n",
       "6  2016-09-01 05:00:00 RL1             NA          NA  \n",
       "7  2016-09-01 06:00:00 RL1             NA          NA  \n",
       "8  2016-09-01 07:00:00 RL1     0.01994048   0.9800595  \n",
       "9  2016-09-01 08:00:00 RL1     0.01997024   0.9800298  \n",
       "10 2016-09-01 09:00:00 RL1     0.02119048   0.9788095  \n",
       "11 2016-09-01 10:00:00 RL1     0.01375000   0.9862500  \n",
       "12 2016-09-01 11:00:00 RL1     0.01916667   0.9808333  "
      ]
     },
     "metadata": {},
     "output_type": "display_data"
    }
   ],
   "source": [
    "head(util,12)"
   ]
  },
  {
   "cell_type": "markdown",
   "metadata": {},
   "source": [
    "# What is a list?"
   ]
  },
  {
   "cell_type": "code",
   "execution_count": 50,
   "metadata": {},
   "outputs": [
    {
     "data": {
      "text/plain": [
       "   PosixTime                   Machine     Percent.Idle     Utilization    \n",
       " Min.   :2016-09-01 00:00:00   RL1 :720   Min.   :0.0000   Min.   :0.8492  \n",
       " 1st Qu.:2016-09-08 11:45:00   RL2 :720   1st Qu.:0.0262   1st Qu.:0.9424  \n",
       " Median :2016-09-15 23:30:00   SR1 :720   Median :0.0410   Median :0.9590  \n",
       " Mean   :2016-09-15 23:30:00   SR4A:720   Mean   :0.0431   Mean   :0.9569  \n",
       " 3rd Qu.:2016-09-23 11:15:00   SR6 :720   3rd Qu.:0.0576   3rd Qu.:0.9738  \n",
       " Max.   :2016-09-30 23:00:00              Max.   :0.1508   Max.   :1.0000  \n",
       "                                          NA's   :361      NA's   :361     "
      ]
     },
     "metadata": {},
     "output_type": "display_data"
    }
   ],
   "source": [
    "# Like a vector with multiple types\n",
    "summary(util)"
   ]
  },
  {
   "cell_type": "code",
   "execution_count": 51,
   "metadata": {},
   "outputs": [],
   "source": [
    "RL1 <- util[util$Machine==\"RL1\",]"
   ]
  },
  {
   "cell_type": "code",
   "execution_count": 52,
   "metadata": {},
   "outputs": [
    {
     "data": {
      "text/plain": [
       "   PosixTime                   Machine     Percent.Idle      Utilization    \n",
       " Min.   :2016-09-01 00:00:00   RL1 :720   Min.   :0.00500   Min.   :0.8492  \n",
       " 1st Qu.:2016-09-08 11:45:00   RL2 :  0   1st Qu.:0.03208   1st Qu.:0.9403  \n",
       " Median :2016-09-15 23:30:00   SR1 :  0   Median :0.04613   Median :0.9539  \n",
       " Mean   :2016-09-15 23:30:00   SR4A:  0   Mean   :0.04830   Mean   :0.9517  \n",
       " 3rd Qu.:2016-09-23 11:15:00   SR6 :  0   3rd Qu.:0.05967   3rd Qu.:0.9679  \n",
       " Max.   :2016-09-30 23:00:00              Max.   :0.15077   Max.   :0.9950  \n",
       "                                          NA's   :7         NA's   :7       "
      ]
     },
     "metadata": {},
     "output_type": "display_data"
    }
   ],
   "source": [
    "summary(RL1)"
   ]
  },
  {
   "cell_type": "markdown",
   "metadata": {},
   "source": [
    "Since RL1 has brought over the legacy factorization, we must refactor the Machine column to get rid of RL2, SR1, etc."
   ]
  },
  {
   "cell_type": "code",
   "execution_count": 53,
   "metadata": {},
   "outputs": [],
   "source": [
    "RL1$Machine <- factor(RL1$Machine)"
   ]
  },
  {
   "cell_type": "code",
   "execution_count": 54,
   "metadata": {},
   "outputs": [
    {
     "data": {
      "text/plain": [
       "   PosixTime                   Machine    Percent.Idle      Utilization    \n",
       " Min.   :2016-09-01 00:00:00   RL1:720   Min.   :0.00500   Min.   :0.8492  \n",
       " 1st Qu.:2016-09-08 11:45:00             1st Qu.:0.03208   1st Qu.:0.9403  \n",
       " Median :2016-09-15 23:30:00             Median :0.04613   Median :0.9539  \n",
       " Mean   :2016-09-15 23:30:00             Mean   :0.04830   Mean   :0.9517  \n",
       " 3rd Qu.:2016-09-23 11:15:00             3rd Qu.:0.05967   3rd Qu.:0.9679  \n",
       " Max.   :2016-09-30 23:00:00             Max.   :0.15077   Max.   :0.9950  \n",
       "                                         NA's   :7         NA's   :7       "
      ]
     },
     "metadata": {},
     "output_type": "display_data"
    }
   ],
   "source": [
    "summary(RL1)"
   ]
  },
  {
   "cell_type": "markdown",
   "metadata": {},
   "source": [
    "# Deliverables: Name, Machine Stats and Under 90% Utilization"
   ]
  },
  {
   "cell_type": "code",
   "execution_count": 55,
   "metadata": {},
   "outputs": [
    {
     "data": {
      "text/html": [
       "<ol class=list-inline>\n",
       "\t<li>0.84922619</li>\n",
       "\t<li>0.951697597345021</li>\n",
       "\t<li>0.995</li>\n",
       "</ol>\n"
      ],
      "text/latex": [
       "\\begin{enumerate*}\n",
       "\\item 0.84922619\n",
       "\\item 0.951697597345021\n",
       "\\item 0.995\n",
       "\\end{enumerate*}\n"
      ],
      "text/markdown": [
       "1. 0.84922619\n",
       "2. 0.951697597345021\n",
       "3. 0.995\n",
       "\n",
       "\n"
      ],
      "text/plain": [
       "[1] 0.8492262 0.9516976 0.9950000"
      ]
     },
     "metadata": {},
     "output_type": "display_data"
    },
    {
     "data": {
      "text/html": [
       "TRUE"
      ],
      "text/latex": [
       "TRUE"
      ],
      "text/markdown": [
       "TRUE"
      ],
      "text/plain": [
       "[1] TRUE"
      ]
     },
     "metadata": {},
     "output_type": "display_data"
    }
   ],
   "source": [
    "# Construct list:\n",
    "util_stats_rl1 <- c(min(RL1$Utilization, na.rm=1), mean(RL1$Utilization, na.rm=1), max(RL1$Utilization, na.rm=1))\n",
    "util_stats_rl1\n",
    "\n",
    "util_under_90_flag <- length(which(RL1$Utilization < 0.90)) > 0\n",
    "util_under_90_flag\n",
    "\n"
   ]
  },
  {
   "cell_type": "code",
   "execution_count": 56,
   "metadata": {},
   "outputs": [
    {
     "data": {
      "text/html": [
       "<dl>\n",
       "\t<dt>$Machine</dt>\n",
       "\t\t<dd>'RL1'</dd>\n",
       "\t<dt>$Stats</dt>\n",
       "\t\t<dd><ol class=list-inline>\n",
       "\t<li>0.84922619</li>\n",
       "\t<li>0.951697597345021</li>\n",
       "\t<li>0.995</li>\n",
       "</ol>\n",
       "</dd>\n",
       "\t<dt>$LowThreshold</dt>\n",
       "\t\t<dd>TRUE</dd>\n",
       "</dl>\n"
      ],
      "text/latex": [
       "\\begin{description}\n",
       "\\item[\\$Machine] 'RL1'\n",
       "\\item[\\$Stats] \\begin{enumerate*}\n",
       "\\item 0.84922619\n",
       "\\item 0.951697597345021\n",
       "\\item 0.995\n",
       "\\end{enumerate*}\n",
       "\n",
       "\\item[\\$LowThreshold] TRUE\n",
       "\\end{description}\n"
      ],
      "text/markdown": [
       "$Machine\n",
       ":   'RL1'\n",
       "$Stats\n",
       ":   1. 0.84922619\n",
       "2. 0.951697597345021\n",
       "3. 0.995\n",
       "\n",
       "\n",
       "\n",
       "$LowThreshold\n",
       ":   TRUE\n",
       "\n",
       "\n"
      ],
      "text/plain": [
       "$Machine\n",
       "[1] \"RL1\"\n",
       "\n",
       "$Stats\n",
       "[1] 0.8492262 0.9516976 0.9950000\n",
       "\n",
       "$LowThreshold\n",
       "[1] TRUE\n"
      ]
     },
     "metadata": {},
     "output_type": "display_data"
    }
   ],
   "source": [
    "list_rl1 <- list(Machine=\"RL1\", Stats=util_stats_rl1, LowThreshold=util_under_90_flag)\n",
    "list_rl1"
   ]
  },
  {
   "cell_type": "markdown",
   "metadata": {},
   "source": [
    "# Deliverables: All hours where utilization is unknown (null), and Machine DataFrame"
   ]
  },
  {
   "cell_type": "code",
   "execution_count": 57,
   "metadata": {},
   "outputs": [
    {
     "data": {
      "text/plain": [
       "[1] \"2016-09-01 00:00:00 EDT\" \"2016-09-01 01:00:00 EDT\"\n",
       "[3] \"2016-09-01 02:00:00 EDT\" \"2016-09-01 03:00:00 EDT\"\n",
       "[5] \"2016-09-01 04:00:00 EDT\" \"2016-09-01 05:00:00 EDT\"\n",
       "[7] \"2016-09-01 06:00:00 EDT\""
      ]
     },
     "metadata": {},
     "output_type": "display_data"
    }
   ],
   "source": [
    "# Another way to add a component - via the $\n",
    "# Vector: All hours where utilization is unknown (NA)\n",
    "RL1[is.na(RL1$Utilization), \"PosixTime\"]"
   ]
  },
  {
   "cell_type": "code",
   "execution_count": 58,
   "metadata": {},
   "outputs": [],
   "source": [
    "list_rl1$UnknownHours = RL1[is.na(RL1$Utilization),\"PosixTime\"]"
   ]
  },
  {
   "cell_type": "code",
   "execution_count": 59,
   "metadata": {
    "scrolled": true
   },
   "outputs": [
    {
     "data": {
      "text/plain": [
       "$Machine\n",
       "[1] \"RL1\"\n",
       "\n",
       "$Stats\n",
       "[1] 0.8492262 0.9516976 0.9950000\n",
       "\n",
       "$LowThreshold\n",
       "[1] TRUE\n",
       "\n",
       "$UnknownHours\n",
       "[1] \"2016-09-01 00:00:00 EDT\" \"2016-09-01 01:00:00 EDT\"\n",
       "[3] \"2016-09-01 02:00:00 EDT\" \"2016-09-01 03:00:00 EDT\"\n",
       "[5] \"2016-09-01 04:00:00 EDT\" \"2016-09-01 05:00:00 EDT\"\n",
       "[7] \"2016-09-01 06:00:00 EDT\"\n"
      ]
     },
     "metadata": {},
     "output_type": "display_data"
    }
   ],
   "source": [
    "list_rl1"
   ]
  },
  {
   "cell_type": "code",
   "execution_count": 60,
   "metadata": {},
   "outputs": [
    {
     "data": {
      "text/plain": [
       "             Length Class      Mode     \n",
       "Machine      1      -none-     character\n",
       "Stats        3      -none-     numeric  \n",
       "LowThreshold 1      -none-     logical  \n",
       "UnknownHours 7      POSIXct    numeric  \n",
       "Data         4      data.frame list     "
      ]
     },
     "metadata": {},
     "output_type": "display_data"
    }
   ],
   "source": [
    "# Add another component:\n",
    "# Dataframe: For this machine\n",
    "list_rl1$Data = RL1\n",
    "summary(list_rl1)"
   ]
  },
  {
   "cell_type": "code",
   "execution_count": 61,
   "metadata": {},
   "outputs": [
    {
     "name": "stdout",
     "output_type": "stream",
     "text": [
      "List of 5\n",
      " $ Machine     : chr \"RL1\"\n",
      " $ Stats       : num [1:3] 0.849 0.952 0.995\n",
      " $ LowThreshold: logi TRUE\n",
      " $ UnknownHours: POSIXct[1:7], format: \"2016-09-01 00:00:00\" \"2016-09-01 01:00:00\" ...\n",
      " $ Data        :'data.frame':\t720 obs. of  4 variables:\n",
      "  ..$ PosixTime   : POSIXct[1:720], format: \"2016-09-01 00:00:00\" \"2016-09-01 01:00:00\" ...\n",
      "  ..$ Machine     : Factor w/ 1 level \"RL1\": 1 1 1 1 1 1 1 1 1 1 ...\n",
      "  ..$ Percent.Idle: num [1:720] NA NA NA NA NA ...\n",
      "  ..$ Utilization : num [1:720] NA NA NA NA NA ...\n"
     ]
    }
   ],
   "source": [
    "str(list_rl1)"
   ]
  },
  {
   "cell_type": "markdown",
   "metadata": {},
   "source": [
    "# Creating a TimeSeries Plot"
   ]
  },
  {
   "cell_type": "code",
   "execution_count": 62,
   "metadata": {},
   "outputs": [],
   "source": [
    "library(ggplot2)"
   ]
  },
  {
   "cell_type": "code",
   "execution_count": 63,
   "metadata": {},
   "outputs": [],
   "source": [
    "p = ggplot(data=util)"
   ]
  },
  {
   "cell_type": "code",
   "execution_count": 64,
   "metadata": {},
   "outputs": [
    {
     "name": "stderr",
     "output_type": "stream",
     "text": [
      "Warning message:\n",
      "\"Removed 155 rows containing missing values (geom_path).\""
     ]
    },
    {
     "data": {},
     "metadata": {},
     "output_type": "display_data"
    },
    {
     "data": {
      "image/png": "[encoded data removed]",
      "text/plain": [
       "plot without title"
      ]
     },
     "metadata": {},
     "output_type": "display_data"
    }
   ],
   "source": [
    "myplot = p + geom_line(aes(x=PosixTime, y=Utilization, colour=Machine), size=1.2) + \n",
    "facet_grid(Machine~.) +\n",
    "geom_hline(yintercept = 0.90, colour=\"Gray\", size=1.2, linetype=3)\n",
    "\n",
    "# Dotted line shows where machine utilzation dropped below 90%\n",
    "myplot\n",
    "list_rl1$Plot = myplot  # You can even add an image to a list"
   ]
  },
  {
   "cell_type": "code",
   "execution_count": 65,
   "metadata": {},
   "outputs": [
    {
     "name": "stderr",
     "output_type": "stream",
     "text": [
      "Warning message:\n",
      "\"Removed 155 rows containing missing values (geom_path).\""
     ]
    },
    {
     "data": {
      "text/plain": [
       "$Machine\n",
       "[1] \"RL1\"\n",
       "\n",
       "$Stats\n",
       "[1] 0.8492262 0.9516976 0.9950000\n",
       "\n",
       "$LowThreshold\n",
       "[1] TRUE\n",
       "\n",
       "$UnknownHours\n",
       "[1] \"2016-09-01 00:00:00 EDT\" \"2016-09-01 01:00:00 EDT\"\n",
       "[3] \"2016-09-01 02:00:00 EDT\" \"2016-09-01 03:00:00 EDT\"\n",
       "[5] \"2016-09-01 04:00:00 EDT\" \"2016-09-01 05:00:00 EDT\"\n",
       "[7] \"2016-09-01 06:00:00 EDT\"\n",
       "\n",
       "$Data\n",
       "              PosixTime Machine Percent.Idle Utilization\n",
       "1   2016-09-01 00:00:00     RL1           NA          NA\n",
       "2   2016-09-01 01:00:00     RL1           NA          NA\n",
       "3   2016-09-01 02:00:00     RL1           NA          NA\n",
       "4   2016-09-01 03:00:00     RL1           NA          NA\n",
       "5   2016-09-01 04:00:00     RL1           NA          NA\n",
       "6   2016-09-01 05:00:00     RL1           NA          NA\n",
       "7   2016-09-01 06:00:00     RL1           NA          NA\n",
       "8   2016-09-01 07:00:00     RL1  0.019940476   0.9800595\n",
       "9   2016-09-01 08:00:00     RL1  0.019970238   0.9800298\n",
       "10  2016-09-01 09:00:00     RL1  0.021190476   0.9788095\n",
       "11  2016-09-01 10:00:00     RL1  0.013750000   0.9862500\n",
       "12  2016-09-01 11:00:00     RL1  0.019166667   0.9808333\n",
       "13  2016-09-01 12:00:00     RL1  0.030863095   0.9691369\n",
       "14  2016-09-01 13:00:00     RL1  0.030863095   0.9691369\n",
       "15  2016-09-01 14:00:00     RL1  0.033779762   0.9662202\n",
       "16  2016-09-01 15:00:00     RL1  0.042470238   0.9575298\n",
       "17  2016-09-01 16:00:00     RL1  0.042500000   0.9575000\n",
       "18  2016-09-01 17:00:00     RL1  0.033571429   0.9664286\n",
       "19  2016-09-01 18:00:00     RL1  0.036815476   0.9631845\n",
       "20  2016-09-01 19:00:00     RL1  0.035416667   0.9645833\n",
       "21  2016-09-01 20:00:00     RL1  0.018988095   0.9810119\n",
       "22  2016-09-01 21:00:00     RL1  0.018988095   0.9810119\n",
       "23  2016-09-01 22:00:00     RL1  0.016011905   0.9839881\n",
       "24  2016-09-01 23:00:00     RL1  0.018244048   0.9817560\n",
       "25  2016-09-02 00:00:00     RL1  0.018392857   0.9816071\n",
       "26  2016-09-02 01:00:00     RL1  0.043720238   0.9562798\n",
       "27  2016-09-02 02:00:00     RL1  0.040476190   0.9595238\n",
       "28  2016-09-02 03:00:00     RL1  0.048065476   0.9519345\n",
       "29  2016-09-02 04:00:00     RL1  0.048065476   0.9519345\n",
       "30  2016-09-02 05:00:00     RL1  0.093601190   0.9063988\n",
       "31  2016-09-02 06:00:00     RL1  0.120625000   0.8793750\n",
       "32  2016-09-02 07:00:00     RL1  0.135386905   0.8646131\n",
       "33  2016-09-02 08:00:00     RL1  0.135208333   0.8647917\n",
       "34  2016-09-02 09:00:00     RL1  0.109880952   0.8901190\n",
       "35  2016-09-02 10:00:00     RL1  0.109880952   0.8901190\n",
       "36  2016-09-02 11:00:00     RL1  0.130089286   0.8699107\n",
       "37  2016-09-02 12:00:00     RL1  0.136577381   0.8634226\n",
       "38  2016-09-02 13:00:00     RL1  0.091041667   0.9089583\n",
       "39  2016-09-02 14:00:00     RL1  0.074970238   0.9250298\n",
       "40  2016-09-02 15:00:00     RL1  0.051696429   0.9483036\n",
       "41  2016-09-02 16:00:00     RL1  0.051666667   0.9483333\n",
       "42  2016-09-02 17:00:00     RL1  0.051755952   0.9482440\n",
       "43  2016-09-02 18:00:00     RL1  0.051755952   0.9482440\n",
       "44  2016-09-02 19:00:00     RL1  0.026845238   0.9731548\n",
       "45  2016-09-02 20:00:00     RL1  0.020625000   0.9793750\n",
       "46  2016-09-02 21:00:00     RL1  0.025089286   0.9749107\n",
       "47  2016-09-02 22:00:00     RL1  0.014226190   0.9857738\n",
       "48  2016-09-02 23:00:00     RL1  0.011815476   0.9881845\n",
       "49  2016-09-03 00:00:00     RL1  0.032470238   0.9675298\n",
       "50  2016-09-03 01:00:00     RL1  0.032886905   0.9671131\n",
       "51  2016-09-03 02:00:00     RL1  0.032976190   0.9670238\n",
       "52  2016-09-03 03:00:00     RL1  0.033095238   0.9669048\n",
       "53  2016-09-03 04:00:00     RL1  0.049970238   0.9500298\n",
       "54  2016-09-03 05:00:00     RL1  0.065505952   0.9344940\n",
       "55  2016-09-03 06:00:00     RL1  0.070238095   0.9297619\n",
       "56  2016-09-03 07:00:00     RL1  0.070654762   0.9293452\n",
       "57  2016-09-03 08:00:00     RL1  0.050000000   0.9500000\n",
       "58  2016-09-03 09:00:00     RL1  0.050089286   0.9499107\n",
       "59  2016-09-03 10:00:00     RL1  0.050654762   0.9493452\n",
       "60  2016-09-03 11:00:00     RL1  0.043630952   0.9563690\n",
       "61  2016-09-03 12:00:00     RL1  0.030565476   0.9694345\n",
       "62  2016-09-03 13:00:00     RL1  0.010744048   0.9892560\n",
       "63  2016-09-03 14:00:00     RL1  0.005922619   0.9940774\n",
       "64  2016-09-03 15:00:00     RL1  0.005505952   0.9944940\n",
       "65  2016-09-03 16:00:00     RL1  0.012410714   0.9875893\n",
       "66  2016-09-03 17:00:00     RL1  0.024880952   0.9751190\n",
       "67  2016-09-03 18:00:00     RL1  0.024226190   0.9757738\n",
       "68  2016-09-03 19:00:00     RL1  0.031011905   0.9689881\n",
       "69  2016-09-03 20:00:00     RL1  0.026934524   0.9730655\n",
       "70  2016-09-03 21:00:00     RL1  0.032083333   0.9679167\n",
       "71  2016-09-03 22:00:00     RL1  0.032083333   0.9679167\n",
       "72  2016-09-03 23:00:00     RL1  0.032380952   0.9676190\n",
       "73  2016-09-04 00:00:00     RL1  0.025476190   0.9745238\n",
       "74  2016-09-04 01:00:00     RL1  0.012767857   0.9872321\n",
       "75  2016-09-04 02:00:00     RL1  0.013541667   0.9864583\n",
       "76  2016-09-04 03:00:00     RL1  0.015535714   0.9844643\n",
       "77  2016-09-04 04:00:00     RL1  0.015684524   0.9843155\n",
       "78  2016-09-04 05:00:00     RL1  0.026964286   0.9730357\n",
       "79  2016-09-04 06:00:00     RL1  0.028125000   0.9718750\n",
       "80  2016-09-04 07:00:00     RL1  0.028630952   0.9713690\n",
       "81  2016-09-04 08:00:00     RL1  0.028720238   0.9712798\n",
       "82  2016-09-04 09:00:00     RL1  0.028690476   0.9713095\n",
       "83  2016-09-04 10:00:00     RL1  0.027916667   0.9720833\n",
       "84  2016-09-04 11:00:00     RL1  0.019196429   0.9808036\n",
       "85  2016-09-04 12:00:00     RL1  0.022470238   0.9775298\n",
       "86  2016-09-04 13:00:00     RL1  0.006845238   0.9931548\n",
       "87  2016-09-04 14:00:00     RL1  0.006309524   0.9936905\n",
       "88  2016-09-04 15:00:00     RL1  0.007113095   0.9928869\n",
       "89  2016-09-04 16:00:00     RL1  0.007023810   0.9929762\n",
       "90  2016-09-04 17:00:00     RL1  0.015952381   0.9840476\n",
       "91  2016-09-04 18:00:00     RL1  0.015952381   0.9840476\n",
       "92  2016-09-04 19:00:00     RL1  0.018363095   0.9816369\n",
       "93  2016-09-04 20:00:00     RL1  0.025357143   0.9746429\n",
       "94  2016-09-04 21:00:00     RL1  0.026755952   0.9732440\n",
       "95  2016-09-04 22:00:00     RL1  0.032500000   0.9675000\n",
       "96  2016-09-04 23:00:00     RL1  0.030892857   0.9691071\n",
       "97  2016-09-05 00:00:00     RL1  0.042321429   0.9576786\n",
       "98  2016-09-05 01:00:00     RL1  0.046011905   0.9539881\n",
       "99  2016-09-05 02:00:00     RL1  0.046755952   0.9532440\n",
       "100 2016-09-05 03:00:00     RL1  0.074136905   0.9258631\n",
       "101 2016-09-05 04:00:00     RL1  0.063720238   0.9362798\n",
       "102 2016-09-05 05:00:00     RL1  0.075773810   0.9242262\n",
       "103 2016-09-05 06:00:00     RL1  0.069404762   0.9305952\n",
       "104 2016-09-05 07:00:00     RL1  0.069404762   0.9305952\n",
       "105 2016-09-05 08:00:00     RL1  0.058273810   0.9417262\n",
       "106 2016-09-05 09:00:00     RL1  0.045327381   0.9546726\n",
       "107 2016-09-05 10:00:00     RL1  0.067261905   0.9327381\n",
       "108 2016-09-05 11:00:00     RL1  0.044970238   0.9550298\n",
       "109 2016-09-05 12:00:00     RL1  0.069642857   0.9303571\n",
       "110 2016-09-05 13:00:00     RL1  0.062351190   0.9376488\n",
       "111 2016-09-05 14:00:00     RL1  0.062767857   0.9372321\n",
       "112 2016-09-05 15:00:00     RL1  0.075059524   0.9249405\n",
       "113 2016-09-05 16:00:00     RL1  0.074761905   0.9252381\n",
       "114 2016-09-05 17:00:00     RL1  0.095744048   0.9042560\n",
       "115 2016-09-05 18:00:00     RL1  0.074821429   0.9251786\n",
       "116 2016-09-05 19:00:00     RL1  0.067261905   0.9327381\n",
       "117 2016-09-05 20:00:00     RL1  0.042589286   0.9574107\n",
       "118 2016-09-05 21:00:00     RL1  0.036845238   0.9631548\n",
       "119 2016-09-05 22:00:00     RL1  0.046011905   0.9539881\n",
       "120 2016-09-05 23:00:00     RL1  0.049821429   0.9501786\n",
       "121 2016-09-06 00:00:00     RL1  0.050595238   0.9494048\n",
       "122 2016-09-06 01:00:00     RL1  0.041934524   0.9580655\n",
       "123 2016-09-06 02:00:00     RL1  0.043958333   0.9560417\n",
       "124 2016-09-06 03:00:00     RL1  0.045059524   0.9549405\n",
       "125 2016-09-06 04:00:00     RL1  0.064434524   0.9355655\n",
       "126 2016-09-06 05:00:00     RL1  0.081875000   0.9181250\n",
       "127 2016-09-06 06:00:00     RL1  0.073363095   0.9266369\n",
       "128 2016-09-06 07:00:00     RL1  0.058779762   0.9412202\n",
       "129 2016-09-06 08:00:00     RL1  0.078333333   0.9216667\n",
       "130 2016-09-06 09:00:00     RL1  0.081577381   0.9184226\n",
       "131 2016-09-06 10:00:00     RL1  0.078035714   0.9219643\n",
       "132 2016-09-06 11:00:00     RL1  0.076934524   0.9230655\n",
       "133 2016-09-06 12:00:00     RL1  0.057559524   0.9424405\n",
       "134 2016-09-06 13:00:00     RL1  0.038720238   0.9612798\n",
       "135 2016-09-06 14:00:00     RL1  0.040089286   0.9599107\n",
       "136 2016-09-06 15:00:00     RL1  0.050148810   0.9498512\n",
       "137 2016-09-06 16:00:00     RL1  0.029821429   0.9701786\n",
       "138 2016-09-06 17:00:00     RL1  0.014345238   0.9856548\n",
       "139 2016-09-06 18:00:00     RL1  0.015476190   0.9845238\n",
       "140 2016-09-06 19:00:00     RL1  0.015476190   0.9845238\n",
       "141 2016-09-06 20:00:00     RL1  0.015476190   0.9845238\n",
       "142 2016-09-06 21:00:00     RL1  0.040267857   0.9597321\n",
       "143 2016-09-06 22:00:00     RL1  0.042916667   0.9570833\n",
       "144 2016-09-06 23:00:00     RL1  0.045327381   0.9546726\n",
       "145 2016-09-07 00:00:00     RL1  0.045327381   0.9546726\n",
       "146 2016-09-07 01:00:00     RL1  0.046636905   0.9533631\n",
       "147 2016-09-07 02:00:00     RL1  0.055565476   0.9444345\n",
       "148 2016-09-07 03:00:00     RL1  0.055565476   0.9444345\n",
       "149 2016-09-07 04:00:00     RL1  0.055565476   0.9444345\n",
       "150 2016-09-07 05:00:00     RL1  0.041577381   0.9584226\n",
       "151 2016-09-07 06:00:00     RL1  0.036488095   0.9635119\n",
       "152 2016-09-07 07:00:00     RL1  0.027916667   0.9720833\n",
       "153 2016-09-07 08:00:00     RL1  0.031250000   0.9687500\n",
       "154 2016-09-07 09:00:00     RL1  0.030922619   0.9690774\n",
       "155 2016-09-07 10:00:00     RL1  0.020625000   0.9793750\n",
       "156 2016-09-07 11:00:00     RL1  0.035178571   0.9648214\n",
       "157 2016-09-07 12:00:00     RL1  0.051339286   0.9486607\n",
       "158 2016-09-07 13:00:00     RL1  0.041904762   0.9580952\n",
       "159 2016-09-07 14:00:00     RL1  0.041904762   0.9580952\n",
       "160 2016-09-07 15:00:00     RL1  0.056517857   0.9434821\n",
       "161 2016-09-07 16:00:00     RL1  0.067916667   0.9320833\n",
       "162 2016-09-07 17:00:00     RL1  0.066845238   0.9331548\n",
       "163 2016-09-07 18:00:00     RL1  0.066845238   0.9331548\n",
       "164 2016-09-07 19:00:00     RL1  0.053154762   0.9468452\n",
       "165 2016-09-07 20:00:00     RL1  0.036994048   0.9630060\n",
       "166 2016-09-07 21:00:00     RL1  0.046517857   0.9534821\n",
       "167 2016-09-07 22:00:00     RL1  0.047083333   0.9529167\n",
       "168 2016-09-07 23:00:00     RL1  0.027053571   0.9729464\n",
       "169 2016-09-08 00:00:00     RL1  0.014821429   0.9851786\n",
       "170 2016-09-08 01:00:00     RL1  0.015386905   0.9846131\n",
       "171 2016-09-08 02:00:00     RL1  0.015833333   0.9841667\n",
       "172 2016-09-08 03:00:00     RL1  0.023571429   0.9764286\n",
       "173 2016-09-08 04:00:00     RL1  0.024196429   0.9758036\n",
       "174 2016-09-08 05:00:00     RL1  0.014583333   0.9854167\n",
       "175 2016-09-08 06:00:00     RL1  0.014017857   0.9859821\n",
       "176 2016-09-08 07:00:00     RL1  0.015595238   0.9844048\n",
       "177 2016-09-08 08:00:00     RL1  0.013660714   0.9863393\n",
       "178 2016-09-08 09:00:00     RL1  0.014047619   0.9859524\n",
       "179 2016-09-08 10:00:00     RL1  0.013601190   0.9863988\n",
       "180 2016-09-08 11:00:00     RL1  0.006369048   0.9936310\n",
       "181 2016-09-08 12:00:00     RL1  0.006041667   0.9939583\n",
       "182 2016-09-08 13:00:00     RL1  0.005000000   0.9950000\n",
       "183 2016-09-08 14:00:00     RL1  0.005000000   0.9950000\n",
       "184 2016-09-08 15:00:00     RL1  0.017500000   0.9825000\n",
       "185 2016-09-08 16:00:00     RL1  0.016934524   0.9830655\n",
       "186 2016-09-08 17:00:00     RL1  0.024017857   0.9759821\n",
       "187 2016-09-08 18:00:00     RL1  0.032886905   0.9671131\n",
       "188 2016-09-08 19:00:00     RL1  0.051339286   0.9486607\n",
       "189 2016-09-08 20:00:00     RL1  0.053005952   0.9469940\n",
       "190 2016-09-08 21:00:00     RL1  0.056696429   0.9433036\n",
       "191 2016-09-08 22:00:00     RL1  0.056696429   0.9433036\n",
       "192 2016-09-08 23:00:00     RL1  0.043392857   0.9566071\n",
       "193 2016-09-09 00:00:00     RL1  0.043392857   0.9566071\n",
       "194 2016-09-09 01:00:00     RL1  0.039017857   0.9609821\n",
       "195 2016-09-09 02:00:00     RL1  0.037440476   0.9625595\n",
       "196 2016-09-09 03:00:00     RL1  0.037857143   0.9621429\n",
       "197 2016-09-09 04:00:00     RL1  0.035892857   0.9641071\n",
       "198 2016-09-09 05:00:00     RL1  0.031964286   0.9680357\n",
       "199 2016-09-09 06:00:00     RL1  0.033422619   0.9665774\n",
       "200 2016-09-09 07:00:00     RL1  0.032648810   0.9673512\n",
       "201 2016-09-09 08:00:00     RL1  0.048958333   0.9510417\n",
       "202 2016-09-09 09:00:00     RL1  0.045297619   0.9547024\n",
       "203 2016-09-09 10:00:00     RL1  0.039345238   0.9606548\n",
       "204 2016-09-09 11:00:00     RL1  0.024017857   0.9759821\n",
       "205 2016-09-09 12:00:00     RL1  0.026160714   0.9738393\n",
       "206 2016-09-09 13:00:00     RL1  0.028333333   0.9716667\n",
       "207 2016-09-09 14:00:00     RL1  0.032172619   0.9678274\n",
       "208 2016-09-09 15:00:00     RL1  0.035565476   0.9644345\n",
       "209 2016-09-09 16:00:00     RL1  0.032529762   0.9674702\n",
       "210 2016-09-09 17:00:00     RL1  0.032529762   0.9674702\n",
       "211 2016-09-09 18:00:00     RL1  0.034613095   0.9653869\n",
       "212 2016-09-09 19:00:00     RL1  0.042470238   0.9575298\n",
       "213 2016-09-09 20:00:00     RL1  0.040327381   0.9596726\n",
       "214 2016-09-09 21:00:00     RL1  0.047648810   0.9523512\n",
       "215 2016-09-09 22:00:00     RL1  0.042351190   0.9576488\n",
       "216 2016-09-09 23:00:00     RL1  0.039494048   0.9605060\n",
       "217 2016-09-10 00:00:00     RL1  0.035952381   0.9640476\n",
       "218 2016-09-10 01:00:00     RL1  0.035952381   0.9640476\n",
       "219 2016-09-10 02:00:00     RL1  0.068541667   0.9314583\n",
       "220 2016-09-10 03:00:00     RL1  0.059226190   0.9407738\n",
       "221 2016-09-10 04:00:00     RL1  0.062113095   0.9378869\n",
       "222 2016-09-10 05:00:00     RL1  0.052619048   0.9473810\n",
       "223 2016-09-10 06:00:00     RL1  0.055059524   0.9449405\n",
       "224 2016-09-10 07:00:00     RL1  0.086934524   0.9130655\n",
       "225 2016-09-10 08:00:00     RL1  0.078779762   0.9212202\n",
       "226 2016-09-10 09:00:00     RL1  0.079345238   0.9206548\n",
       "227 2016-09-10 10:00:00     RL1  0.049226190   0.9507738\n",
       "228 2016-09-10 11:00:00     RL1  0.046994048   0.9530060\n",
       "229 2016-09-10 12:00:00     RL1  0.048244048   0.9517560\n",
       "230 2016-09-10 13:00:00     RL1  0.050238095   0.9497619\n",
       "231 2016-09-10 14:00:00     RL1  0.055863095   0.9441369\n",
       "232 2016-09-10 15:00:00     RL1  0.025654762   0.9743452\n",
       "233 2016-09-10 16:00:00     RL1  0.027142857   0.9728571\n",
       "234 2016-09-10 17:00:00     RL1  0.033750000   0.9662500\n",
       "235 2016-09-10 18:00:00     RL1  0.030416667   0.9695833\n",
       "236 2016-09-10 19:00:00     RL1  0.041726190   0.9582738\n",
       "237 2016-09-10 20:00:00     RL1  0.040446429   0.9595536\n",
       "238 2016-09-10 21:00:00     RL1  0.038452381   0.9615476\n",
       "239 2016-09-10 22:00:00     RL1  0.033214286   0.9667857\n",
       "240 2016-09-10 23:00:00     RL1  0.031011905   0.9689881\n",
       "241 2016-09-11 00:00:00     RL1  0.027946429   0.9720536\n",
       "242 2016-09-11 01:00:00     RL1  0.021547619   0.9784524\n",
       "243 2016-09-11 02:00:00     RL1  0.022529762   0.9774702\n",
       "244 2016-09-11 03:00:00     RL1  0.011934524   0.9880655\n",
       "245 2016-09-11 04:00:00     RL1  0.014821429   0.9851786\n",
       "246 2016-09-11 05:00:00     RL1  0.021488095   0.9785119\n",
       "247 2016-09-11 06:00:00     RL1  0.022946429   0.9770536\n",
       "248 2016-09-11 07:00:00     RL1  0.028958333   0.9710417\n",
       "249 2016-09-11 08:00:00     RL1  0.042113095   0.9578869\n",
       "250 2016-09-11 09:00:00     RL1  0.041339286   0.9586607\n",
       "251 2016-09-11 10:00:00     RL1  0.037797619   0.9622024\n",
       "252 2016-09-11 11:00:00     RL1  0.035863095   0.9641369\n",
       "253 2016-09-11 12:00:00     RL1  0.030535714   0.9694643\n",
       "254 2016-09-11 13:00:00     RL1  0.040863095   0.9591369\n",
       "255 2016-09-11 14:00:00     RL1  0.047470238   0.9525298\n",
       "256 2016-09-11 15:00:00     RL1  0.042202381   0.9577976\n",
       "257 2016-09-11 16:00:00     RL1  0.046369048   0.9536310\n",
       "258 2016-09-11 17:00:00     RL1  0.046369048   0.9536310\n",
       "259 2016-09-11 18:00:00     RL1  0.051220238   0.9487798\n",
       "260 2016-09-11 19:00:00     RL1  0.064821429   0.9351786\n",
       "261 2016-09-11 20:00:00     RL1  0.067083333   0.9329167\n",
       "262 2016-09-11 21:00:00     RL1  0.050089286   0.9499107\n",
       "263 2016-09-11 22:00:00     RL1  0.040327381   0.9596726\n",
       "264 2016-09-11 23:00:00     RL1  0.057351190   0.9426488\n",
       "265 2016-09-12 00:00:00     RL1  0.042946429   0.9570536\n",
       "266 2016-09-12 01:00:00     RL1  0.055803571   0.9441964\n",
       "267 2016-09-12 02:00:00     RL1  0.050952381   0.9490476\n",
       "268 2016-09-12 03:00:00     RL1  0.040446429   0.9595536\n",
       "269 2016-09-12 04:00:00     RL1  0.037767857   0.9622321\n",
       "270 2016-09-12 05:00:00     RL1  0.041071429   0.9589286\n",
       "271 2016-09-12 06:00:00     RL1  0.056071429   0.9439286\n",
       "272 2016-09-12 07:00:00     RL1  0.039494048   0.9605060\n",
       "273 2016-09-12 08:00:00     RL1  0.051517857   0.9484821\n",
       "274 2016-09-12 09:00:00     RL1  0.038660714   0.9613393\n",
       "275 2016-09-12 10:00:00     RL1  0.043779762   0.9562202\n",
       "276 2016-09-12 11:00:00     RL1  0.041517857   0.9584821\n",
       "277 2016-09-12 12:00:00     RL1  0.049136905   0.9508631\n",
       "278 2016-09-12 13:00:00     RL1  0.045833333   0.9541667\n",
       "279 2016-09-12 14:00:00     RL1  0.035803571   0.9641964\n",
       "280 2016-09-12 15:00:00     RL1  0.034613095   0.9653869\n",
       "281 2016-09-12 16:00:00     RL1  0.019672619   0.9803274\n",
       "282 2016-09-12 17:00:00     RL1  0.055595238   0.9444048\n",
       "283 2016-09-12 18:00:00     RL1  0.050476190   0.9495238\n",
       "284 2016-09-12 19:00:00     RL1  0.049642857   0.9503571\n",
       "285 2016-09-12 20:00:00     RL1  0.042321429   0.9576786\n",
       "286 2016-09-12 21:00:00     RL1  0.044196429   0.9558036\n",
       "287 2016-09-12 22:00:00     RL1  0.048839286   0.9511607\n",
       "288 2016-09-12 23:00:00     RL1  0.051904762   0.9480952\n",
       "289 2016-09-13 00:00:00     RL1  0.051904762   0.9480952\n",
       "290 2016-09-13 01:00:00     RL1  0.019047619   0.9809524\n",
       "291 2016-09-13 02:00:00     RL1  0.020714286   0.9792857\n",
       "292 2016-09-13 03:00:00     RL1  0.035029762   0.9649702\n",
       "293 2016-09-13 04:00:00     RL1  0.034732143   0.9652679\n",
       "294 2016-09-13 05:00:00     RL1  0.034166667   0.9658333\n",
       "295 2016-09-13 06:00:00     RL1  0.024583333   0.9754167\n",
       "296 2016-09-13 07:00:00     RL1  0.021517857   0.9784821\n",
       "297 2016-09-13 08:00:00     RL1  0.027648810   0.9723512\n",
       "298 2016-09-13 09:00:00     RL1  0.031488095   0.9685119\n",
       "299 2016-09-13 10:00:00     RL1  0.030595238   0.9694048\n",
       "300 2016-09-13 11:00:00     RL1  0.028958333   0.9710417\n",
       "301 2016-09-13 12:00:00     RL1  0.028958333   0.9710417\n",
       "302 2016-09-13 13:00:00     RL1  0.027648810   0.9723512\n",
       "303 2016-09-13 14:00:00     RL1  0.031815476   0.9681845\n",
       "304 2016-09-13 15:00:00     RL1  0.042619048   0.9573810\n",
       "305 2016-09-13 16:00:00     RL1  0.051994048   0.9480060\n",
       "306 2016-09-13 17:00:00     RL1  0.045089286   0.9549107\n",
       "307 2016-09-13 18:00:00     RL1  0.049672619   0.9503274\n",
       "308 2016-09-13 19:00:00     RL1  0.037797619   0.9622024\n",
       "309 2016-09-13 20:00:00     RL1  0.042321429   0.9576786\n",
       "310 2016-09-13 21:00:00     RL1  0.042708333   0.9572917\n",
       "311 2016-09-13 22:00:00     RL1  0.037410714   0.9625893\n",
       "312 2016-09-13 23:00:00     RL1  0.038273810   0.9617262\n",
       "313 2016-09-14 00:00:00     RL1  0.024613095   0.9753869\n",
       "314 2016-09-14 01:00:00     RL1  0.026101190   0.9738988\n",
       "315 2016-09-14 02:00:00     RL1  0.021458333   0.9785417\n",
       "316 2016-09-14 03:00:00     RL1  0.033809524   0.9661905\n",
       "317 2016-09-14 04:00:00     RL1  0.031309524   0.9686905\n",
       "318 2016-09-14 05:00:00     RL1  0.038571429   0.9614286\n",
       "319 2016-09-14 06:00:00     RL1  0.048511905   0.9514881\n",
       "320 2016-09-14 07:00:00     RL1  0.043869048   0.9561310\n",
       "321 2016-09-14 08:00:00     RL1  0.056517857   0.9434821\n",
       "322 2016-09-14 09:00:00     RL1  0.066726190   0.9332738\n",
       "323 2016-09-14 10:00:00     RL1  0.079464286   0.9205357\n",
       "324 2016-09-14 11:00:00     RL1  0.078511905   0.9214881\n",
       "325 2016-09-14 12:00:00     RL1  0.090982143   0.9090179\n",
       "326 2016-09-14 13:00:00     RL1  0.107083333   0.8929167\n",
       "327 2016-09-14 14:00:00     RL1  0.114017857   0.8859821\n",
       "328 2016-09-14 15:00:00     RL1  0.120297619   0.8797024\n",
       "329 2016-09-14 16:00:00     RL1  0.108244048   0.8917560\n",
       "330 2016-09-14 17:00:00     RL1  0.112916667   0.8870833\n",
       "331 2016-09-14 18:00:00     RL1  0.115119048   0.8848810\n",
       "332 2016-09-14 19:00:00     RL1  0.105952381   0.8940476\n",
       "333 2016-09-14 20:00:00     RL1  0.091458333   0.9085417\n",
       "334 2016-09-14 21:00:00     RL1  0.079255952   0.9207440\n",
       "335 2016-09-14 22:00:00     RL1  0.062351190   0.9376488\n",
       "336 2016-09-14 23:00:00     RL1  0.059672619   0.9403274\n",
       "337 2016-09-15 00:00:00     RL1  0.068422619   0.9315774\n",
       "338 2016-09-15 01:00:00     RL1  0.053482143   0.9465179\n",
       "339 2016-09-15 02:00:00     RL1  0.043630952   0.9563690\n",
       "340 2016-09-15 03:00:00     RL1  0.040595238   0.9594048\n",
       "341 2016-09-15 04:00:00     RL1  0.043065476   0.9569345\n",
       "342 2016-09-15 05:00:00     RL1  0.031517857   0.9684821\n",
       "343 2016-09-15 06:00:00     RL1  0.033601190   0.9663988\n",
       "344 2016-09-15 07:00:00     RL1  0.023839286   0.9761607\n",
       "345 2016-09-15 08:00:00     RL1  0.013898810   0.9861012\n",
       "346 2016-09-15 09:00:00     RL1  0.014136905   0.9858631\n",
       "347 2016-09-15 10:00:00     RL1  0.008333333   0.9916667\n",
       "348 2016-09-15 11:00:00     RL1  0.008333333   0.9916667\n",
       "349 2016-09-15 12:00:00     RL1  0.008273810   0.9917262\n",
       "350 2016-09-15 13:00:00     RL1  0.008273810   0.9917262\n",
       "351 2016-09-15 14:00:00     RL1  0.006190476   0.9938095\n",
       "352 2016-09-15 15:00:00     RL1  0.019821429   0.9801786\n",
       "353 2016-09-15 16:00:00     RL1  0.022500000   0.9775000\n",
       "354 2016-09-15 17:00:00     RL1  0.020833333   0.9791667\n",
       "355 2016-09-15 18:00:00     RL1  0.044583333   0.9554167\n",
       "356 2016-09-15 19:00:00     RL1  0.047321429   0.9526786\n",
       "357 2016-09-15 20:00:00     RL1  0.052440476   0.9475595\n",
       "358 2016-09-15 21:00:00     RL1  0.052440476   0.9475595\n",
       "359 2016-09-15 22:00:00     RL1  0.052440476   0.9475595\n",
       "360 2016-09-15 23:00:00     RL1  0.046636905   0.9533631\n",
       "361 2016-09-16 00:00:00     RL1  0.054166667   0.9458333\n",
       "362 2016-09-16 01:00:00     RL1  0.054166667   0.9458333\n",
       "363 2016-09-16 02:00:00     RL1  0.031845238   0.9681548\n",
       "364 2016-09-16 03:00:00     RL1  0.044136905   0.9558631\n",
       "365 2016-09-16 04:00:00     RL1  0.036607143   0.9633929\n",
       "366 2016-09-16 05:00:00     RL1  0.039017857   0.9609821\n",
       "367 2016-09-16 06:00:00     RL1  0.055535714   0.9444643\n",
       "368 2016-09-16 07:00:00     RL1  0.046845238   0.9531548\n",
       "369 2016-09-16 08:00:00     RL1  0.046130952   0.9538690\n",
       "370 2016-09-16 09:00:00     RL1  0.046130952   0.9538690\n",
       "371 2016-09-16 10:00:00     RL1  0.050535714   0.9494643\n",
       "372 2016-09-16 11:00:00     RL1  0.039047619   0.9609524\n",
       "373 2016-09-16 12:00:00     RL1  0.039047619   0.9609524\n",
       "374 2016-09-16 13:00:00     RL1  0.049315476   0.9506845\n",
       "375 2016-09-16 14:00:00     RL1  0.064702381   0.9352976\n",
       "376 2016-09-16 15:00:00     RL1  0.068184524   0.9318155\n",
       "377 2016-09-16 16:00:00     RL1  0.057440476   0.9425595\n",
       "378 2016-09-16 17:00:00     RL1  0.058184524   0.9418155\n",
       "379 2016-09-16 18:00:00     RL1  0.087767857   0.9122321\n",
       "380 2016-09-16 19:00:00     RL1  0.084226190   0.9157738\n",
       "381 2016-09-16 20:00:00     RL1  0.091369048   0.9086310\n",
       "382 2016-09-16 21:00:00     RL1  0.079642857   0.9203571\n",
       "383 2016-09-16 22:00:00     RL1  0.053750000   0.9462500\n",
       "384 2016-09-16 23:00:00     RL1  0.050267857   0.9497321\n",
       "385 2016-09-17 00:00:00     RL1  0.070238095   0.9297619\n",
       "386 2016-09-17 01:00:00     RL1  0.079166667   0.9208333\n",
       "387 2016-09-17 02:00:00     RL1  0.046101190   0.9538988\n",
       "388 2016-09-17 03:00:00     RL1  0.059107143   0.9408929\n",
       "389 2016-09-17 04:00:00     RL1  0.055654762   0.9443452\n",
       "390 2016-09-17 05:00:00     RL1  0.077589286   0.9224107\n",
       "391 2016-09-17 06:00:00     RL1  0.074107143   0.9258929\n",
       "392 2016-09-17 07:00:00     RL1  0.076011905   0.9239881\n",
       "393 2016-09-17 08:00:00     RL1  0.077797619   0.9222024\n",
       "394 2016-09-17 09:00:00     RL1  0.068125000   0.9318750\n",
       "395 2016-09-17 10:00:00     RL1  0.080982143   0.9190179\n",
       "396 2016-09-17 11:00:00     RL1  0.067976190   0.9320238\n",
       "397 2016-09-17 12:00:00     RL1  0.070208333   0.9297917\n",
       "398 2016-09-17 13:00:00     RL1  0.056011905   0.9439881\n",
       "399 2016-09-17 14:00:00     RL1  0.059880952   0.9401190\n",
       "400 2016-09-17 15:00:00     RL1  0.057976190   0.9420238\n",
       "401 2016-09-17 16:00:00     RL1  0.036458333   0.9635417\n",
       "402 2016-09-17 17:00:00     RL1  0.036458333   0.9635417\n",
       "403 2016-09-17 18:00:00     RL1  0.025059524   0.9749405\n",
       "404 2016-09-17 19:00:00     RL1  0.029970238   0.9700298\n",
       "405 2016-09-17 20:00:00     RL1  0.041101190   0.9588988\n",
       "406 2016-09-17 21:00:00     RL1  0.037380952   0.9626190\n",
       "407 2016-09-17 22:00:00     RL1  0.032767857   0.9672321\n",
       "408 2016-09-17 23:00:00     RL1  0.039077381   0.9609226\n",
       "409 2016-09-18 00:00:00     RL1  0.047946429   0.9520536\n",
       "410 2016-09-18 01:00:00     RL1  0.054494048   0.9455060\n",
       "411 2016-09-18 02:00:00     RL1  0.050684524   0.9493155\n",
       "412 2016-09-18 03:00:00     RL1  0.046875000   0.9531250\n",
       "413 2016-09-18 04:00:00     RL1  0.047142857   0.9528571\n",
       "414 2016-09-18 05:00:00     RL1  0.043898810   0.9561012\n",
       "415 2016-09-18 06:00:00     RL1  0.044107143   0.9558929\n",
       "416 2016-09-18 07:00:00     RL1  0.043273810   0.9567262\n",
       "417 2016-09-18 08:00:00     RL1  0.044464286   0.9555357\n",
       "418 2016-09-18 09:00:00     RL1  0.042321429   0.9576786\n",
       "419 2016-09-18 10:00:00     RL1  0.042916667   0.9570833\n",
       "420 2016-09-18 11:00:00     RL1  0.041815476   0.9581845\n",
       "421 2016-09-18 12:00:00     RL1  0.024494048   0.9755060\n",
       "422 2016-09-18 13:00:00     RL1  0.048660714   0.9513393\n",
       "423 2016-09-18 14:00:00     RL1  0.049523810   0.9504762\n",
       "424 2016-09-18 15:00:00     RL1  0.048005952   0.9519940\n",
       "425 2016-09-18 16:00:00     RL1  0.041369048   0.9586310\n",
       "426 2016-09-18 17:00:00     RL1  0.041994048   0.9580060\n",
       "427 2016-09-18 18:00:00     RL1  0.041488095   0.9585119\n",
       "428 2016-09-18 19:00:00     RL1  0.041488095   0.9585119\n",
       "429 2016-09-18 20:00:00     RL1  0.046607143   0.9533929\n",
       "430 2016-09-18 21:00:00     RL1  0.032321429   0.9676786\n",
       "431 2016-09-18 22:00:00     RL1  0.044791667   0.9552083\n",
       "432 2016-09-18 23:00:00     RL1  0.064732143   0.9352679\n",
       "433 2016-09-19 00:00:00     RL1  0.062023810   0.9379762\n",
       "434 2016-09-19 01:00:00     RL1  0.060922619   0.9390774\n",
       "435 2016-09-19 02:00:00     RL1  0.060833333   0.9391667\n",
       "436 2016-09-19 03:00:00     RL1  0.069732143   0.9302679\n",
       "437 2016-09-19 04:00:00     RL1  0.068184524   0.9318155\n",
       "438 2016-09-19 05:00:00     RL1  0.058303571   0.9416964\n",
       "439 2016-09-19 06:00:00     RL1  0.045922619   0.9540774\n",
       "440 2016-09-19 07:00:00     RL1  0.040625000   0.9593750\n",
       "441 2016-09-19 08:00:00     RL1  0.050267857   0.9497321\n",
       "442 2016-09-19 09:00:00     RL1  0.046339286   0.9536607\n",
       "443 2016-09-19 10:00:00     RL1  0.046339286   0.9536607\n",
       "444 2016-09-19 11:00:00     RL1  0.051339286   0.9486607\n",
       "445 2016-09-19 12:00:00     RL1  0.072559524   0.9274405\n",
       "446 2016-09-19 13:00:00     RL1  0.073035714   0.9269643\n",
       "447 2016-09-19 14:00:00     RL1  0.079017857   0.9209821\n",
       "448 2016-09-19 15:00:00     RL1  0.067708333   0.9322917\n",
       "449 2016-09-19 16:00:00     RL1  0.057113095   0.9428869\n",
       "450 2016-09-19 17:00:00     RL1  0.057113095   0.9428869\n",
       "451 2016-09-19 18:00:00     RL1  0.057113095   0.9428869\n",
       "452 2016-09-19 19:00:00     RL1  0.043214286   0.9567857\n",
       "453 2016-09-19 20:00:00     RL1  0.021964286   0.9780357\n",
       "454 2016-09-19 21:00:00     RL1  0.030892857   0.9691071\n",
       "455 2016-09-19 22:00:00     RL1  0.022767857   0.9772321\n",
       "456 2016-09-19 23:00:00     RL1  0.033511905   0.9664881\n",
       "457 2016-09-20 00:00:00     RL1  0.040982143   0.9590179\n",
       "458 2016-09-20 01:00:00     RL1  0.043184524   0.9568155\n",
       "459 2016-09-20 02:00:00     RL1  0.059255952   0.9407440\n",
       "460 2016-09-20 03:00:00     RL1  0.062559524   0.9374405\n",
       "461 2016-09-20 04:00:00     RL1  0.060267857   0.9397321\n",
       "462 2016-09-20 05:00:00     RL1  0.049136905   0.9508631\n",
       "463 2016-09-20 06:00:00     RL1  0.062172619   0.9378274\n",
       "464 2016-09-20 07:00:00     RL1  0.060505952   0.9394940\n",
       "465 2016-09-20 08:00:00     RL1  0.058601190   0.9413988\n",
       "466 2016-09-20 09:00:00     RL1  0.060654762   0.9393452\n",
       "467 2016-09-20 10:00:00     RL1  0.044583333   0.9554167\n",
       "468 2016-09-20 11:00:00     RL1  0.052142857   0.9478571\n",
       "469 2016-09-20 12:00:00     RL1  0.064226190   0.9357738\n",
       "470 2016-09-20 13:00:00     RL1  0.070029762   0.9299702\n",
       "471 2016-09-20 14:00:00     RL1  0.069732143   0.9302679\n",
       "472 2016-09-20 15:00:00     RL1  0.053363095   0.9466369\n",
       "473 2016-09-20 16:00:00     RL1  0.053482143   0.9465179\n",
       "474 2016-09-20 17:00:00     RL1  0.054613095   0.9453869\n",
       "475 2016-09-20 18:00:00     RL1  0.064553571   0.9354464\n",
       "476 2016-09-20 19:00:00     RL1  0.057500000   0.9425000\n",
       "477 2016-09-20 20:00:00     RL1  0.059702381   0.9402976\n",
       "478 2016-09-20 21:00:00     RL1  0.053898810   0.9461012\n",
       "479 2016-09-20 22:00:00     RL1  0.051815476   0.9481845\n",
       "480 2016-09-20 23:00:00     RL1  0.066785714   0.9332143\n",
       "481 2016-09-21 00:00:00     RL1  0.076934524   0.9230655\n",
       "482 2016-09-21 01:00:00     RL1  0.082529762   0.9174702\n",
       "483 2016-09-21 02:00:00     RL1  0.090863095   0.9091369\n",
       "484 2016-09-21 03:00:00     RL1  0.118690476   0.8813095\n",
       "485 2016-09-21 04:00:00     RL1  0.137410714   0.8625893\n",
       "486 2016-09-21 05:00:00     RL1  0.150773810   0.8492262\n",
       "487 2016-09-21 06:00:00     RL1  0.139315476   0.8606845\n",
       "488 2016-09-21 07:00:00     RL1  0.140922619   0.8590774\n",
       "489 2016-09-21 08:00:00     RL1  0.126160714   0.8738393\n",
       "490 2016-09-21 09:00:00     RL1  0.134166667   0.8658333\n",
       "491 2016-09-21 10:00:00     RL1  0.121011905   0.8789881\n",
       "492 2016-09-21 11:00:00     RL1  0.089375000   0.9106250\n",
       "493 2016-09-21 12:00:00     RL1  0.058541667   0.9414583\n",
       "494 2016-09-21 13:00:00     RL1  0.046041667   0.9539583\n",
       "495 2016-09-21 14:00:00     RL1  0.046041667   0.9539583\n",
       "496 2016-09-21 15:00:00     RL1  0.045982143   0.9540179\n",
       "497 2016-09-21 16:00:00     RL1  0.066964286   0.9330357\n",
       "498 2016-09-21 17:00:00     RL1  0.055178571   0.9448214\n",
       "499 2016-09-21 18:00:00     RL1  0.051785714   0.9482143\n",
       "500 2016-09-21 19:00:00     RL1  0.054821429   0.9451786\n",
       "501 2016-09-21 20:00:00     RL1  0.052589286   0.9474107\n",
       "502 2016-09-21 21:00:00     RL1  0.055982143   0.9440179\n",
       "503 2016-09-21 22:00:00     RL1  0.080386905   0.9196131\n",
       "504 2016-09-21 23:00:00     RL1  0.068184524   0.9318155\n",
       "505 2016-09-22 00:00:00     RL1  0.046130952   0.9538690\n",
       "506 2016-09-22 01:00:00     RL1  0.047559524   0.9524405\n",
       "507 2016-09-22 02:00:00     RL1  0.062559524   0.9374405\n",
       "508 2016-09-22 03:00:00     RL1  0.059523810   0.9404762\n",
       "509 2016-09-22 04:00:00     RL1  0.058333333   0.9416667\n",
       "510 2016-09-22 05:00:00     RL1  0.054077381   0.9459226\n",
       "511 2016-09-22 06:00:00     RL1  0.052976190   0.9470238\n",
       "512 2016-09-22 07:00:00     RL1  0.051815476   0.9481845\n",
       "513 2016-09-22 08:00:00     RL1  0.060446429   0.9395536\n",
       "514 2016-09-22 09:00:00     RL1  0.053690476   0.9463095\n",
       "515 2016-09-22 10:00:00     RL1  0.038184524   0.9618155\n",
       "516 2016-09-22 11:00:00     RL1  0.039940476   0.9600595\n",
       "517 2016-09-22 12:00:00     RL1  0.045357143   0.9546429\n",
       "518 2016-09-22 13:00:00     RL1  0.047023810   0.9529762\n",
       "519 2016-09-22 14:00:00     RL1  0.043541667   0.9564583\n",
       "520 2016-09-22 15:00:00     RL1  0.040386905   0.9596131\n",
       "521 2016-09-22 16:00:00     RL1  0.053898810   0.9461012\n",
       "522 2016-09-22 17:00:00     RL1  0.056279762   0.9437202\n",
       "523 2016-09-22 18:00:00     RL1  0.055476190   0.9445238\n",
       "524 2016-09-22 19:00:00     RL1  0.055178571   0.9448214\n",
       "525 2016-09-22 20:00:00     RL1  0.049761905   0.9502381\n",
       "526 2016-09-22 21:00:00     RL1  0.048095238   0.9519048\n",
       "527 2016-09-22 22:00:00     RL1  0.033779762   0.9662202\n",
       "528 2016-09-22 23:00:00     RL1  0.036339286   0.9636607\n",
       "529 2016-09-23 00:00:00     RL1  0.017380952   0.9826190\n",
       "530 2016-09-23 01:00:00     RL1  0.022708333   0.9772917\n",
       "531 2016-09-23 02:00:00     RL1  0.022291667   0.9777083\n",
       "532 2016-09-23 03:00:00     RL1  0.033541667   0.9664583\n",
       "533 2016-09-23 04:00:00     RL1  0.034583333   0.9654167\n",
       "534 2016-09-23 05:00:00     RL1  0.055892857   0.9441071\n",
       "535 2016-09-23 06:00:00     RL1  0.053511905   0.9464881\n",
       "536 2016-09-23 07:00:00     RL1  0.055744048   0.9442560\n",
       "537 2016-09-23 08:00:00     RL1  0.056696429   0.9433036\n",
       "538 2016-09-23 09:00:00     RL1  0.053958333   0.9460417\n",
       "539 2016-09-23 10:00:00     RL1  0.053958333   0.9460417\n",
       "540 2016-09-23 11:00:00     RL1  0.057083333   0.9429167\n",
       "541 2016-09-23 12:00:00     RL1  0.056041667   0.9439583\n",
       "542 2016-09-23 13:00:00     RL1  0.034732143   0.9652679\n",
       "543 2016-09-23 14:00:00     RL1  0.034613095   0.9653869\n",
       "544 2016-09-23 15:00:00     RL1  0.029821429   0.9701786\n",
       "545 2016-09-23 16:00:00     RL1  0.026607143   0.9733929\n",
       "546 2016-09-23 17:00:00     RL1  0.022410714   0.9775893\n",
       "547 2016-09-23 18:00:00     RL1  0.027738095   0.9722619\n",
       "548 2016-09-23 19:00:00     RL1  0.014226190   0.9857738\n",
       "549 2016-09-23 20:00:00     RL1  0.016071429   0.9839286\n",
       "550 2016-09-23 21:00:00     RL1  0.016755952   0.9832440\n",
       "551 2016-09-23 22:00:00     RL1  0.014136905   0.9858631\n",
       "552 2016-09-23 23:00:00     RL1  0.021458333   0.9785417\n",
       "553 2016-09-24 00:00:00     RL1  0.020535714   0.9794643\n",
       "554 2016-09-24 01:00:00     RL1  0.020357143   0.9796429\n",
       "555 2016-09-24 02:00:00     RL1  0.043035714   0.9569643\n",
       "556 2016-09-24 03:00:00     RL1  0.041875000   0.9581250\n",
       "557 2016-09-24 04:00:00     RL1  0.040446429   0.9595536\n",
       "558 2016-09-24 05:00:00     RL1  0.041101190   0.9588988\n",
       "559 2016-09-24 06:00:00     RL1  0.040714286   0.9592857\n",
       "560 2016-09-24 07:00:00     RL1  0.033392857   0.9666071\n",
       "561 2016-09-24 08:00:00     RL1  0.043720238   0.9562798\n",
       "562 2016-09-24 09:00:00     RL1  0.057232143   0.9427679\n",
       "563 2016-09-24 10:00:00     RL1  0.038154762   0.9618452\n",
       "564 2016-09-24 11:00:00     RL1  0.042589286   0.9574107\n",
       "565 2016-09-24 12:00:00     RL1  0.061517857   0.9384821\n",
       "566 2016-09-24 13:00:00     RL1  0.060178571   0.9398214\n",
       "567 2016-09-24 14:00:00     RL1  0.072708333   0.9272917\n",
       "568 2016-09-24 15:00:00     RL1  0.072708333   0.9272917\n",
       "569 2016-09-24 16:00:00     RL1  0.068214286   0.9317857\n",
       "570 2016-09-24 17:00:00     RL1  0.079077381   0.9209226\n",
       "571 2016-09-24 18:00:00     RL1  0.081815476   0.9181845\n",
       "572 2016-09-24 19:00:00     RL1  0.080833333   0.9191667\n",
       "573 2016-09-24 20:00:00     RL1  0.070833333   0.9291667\n",
       "574 2016-09-24 21:00:00     RL1  0.073154762   0.9268452\n",
       "575 2016-09-24 22:00:00     RL1  0.067142857   0.9328571\n",
       "576 2016-09-24 23:00:00     RL1  0.067142857   0.9328571\n",
       "577 2016-09-25 00:00:00     RL1  0.066309524   0.9336905\n",
       "578 2016-09-25 01:00:00     RL1  0.047083333   0.9529167\n",
       "579 2016-09-25 02:00:00     RL1  0.044077381   0.9559226\n",
       "580 2016-09-25 03:00:00     RL1  0.054404762   0.9455952\n",
       "581 2016-09-25 04:00:00     RL1  0.058928571   0.9410714\n",
       "582 2016-09-25 05:00:00     RL1  0.062738095   0.9372619\n",
       "583 2016-09-25 06:00:00     RL1  0.060327381   0.9396726\n",
       "584 2016-09-25 07:00:00     RL1  0.060327381   0.9396726\n",
       "585 2016-09-25 08:00:00     RL1  0.055535714   0.9444643\n",
       "586 2016-09-25 09:00:00     RL1  0.052708333   0.9472917\n",
       "587 2016-09-25 10:00:00     RL1  0.044047619   0.9559524\n",
       "588 2016-09-25 11:00:00     RL1  0.031309524   0.9686905\n",
       "589 2016-09-25 12:00:00     RL1  0.021041667   0.9789583\n",
       "590 2016-09-25 13:00:00     RL1  0.016071429   0.9839286\n",
       "591 2016-09-25 14:00:00     RL1  0.011964286   0.9880357\n",
       "592 2016-09-25 15:00:00     RL1  0.011964286   0.9880357\n",
       "593 2016-09-25 16:00:00     RL1  0.011755952   0.9882440\n",
       "594 2016-09-25 17:00:00     RL1  0.011607143   0.9883929\n",
       "595 2016-09-25 18:00:00     RL1  0.016250000   0.9837500\n",
       "596 2016-09-25 19:00:00     RL1  0.020863095   0.9791369\n",
       "597 2016-09-25 20:00:00     RL1  0.017827381   0.9821726\n",
       "598 2016-09-25 21:00:00     RL1  0.020148810   0.9798512\n",
       "599 2016-09-25 22:00:00     RL1  0.035059524   0.9649405\n",
       "600 2016-09-25 23:00:00     RL1  0.058273810   0.9417262\n",
       "601 2016-09-26 00:00:00     RL1  0.058273810   0.9417262\n",
       "602 2016-09-26 01:00:00     RL1  0.074851190   0.9251488\n",
       "603 2016-09-26 02:00:00     RL1  0.070208333   0.9297917\n",
       "604 2016-09-26 03:00:00     RL1  0.067648810   0.9323512\n",
       "605 2016-09-26 04:00:00     RL1  0.080803571   0.9191964\n",
       "606 2016-09-26 05:00:00     RL1  0.080744048   0.9192560\n",
       "607 2016-09-26 06:00:00     RL1  0.070714286   0.9292857\n",
       "608 2016-09-26 07:00:00     RL1  0.049523810   0.9504762\n",
       "609 2016-09-26 08:00:00     RL1  0.050654762   0.9493452\n",
       "610 2016-09-26 09:00:00     RL1  0.036369048   0.9636310\n",
       "611 2016-09-26 10:00:00     RL1  0.043214286   0.9567857\n",
       "612 2016-09-26 11:00:00     RL1  0.041726190   0.9582738\n",
       "613 2016-09-26 12:00:00     RL1  0.033363095   0.9666369\n",
       "614 2016-09-26 13:00:00     RL1  0.036130952   0.9638690\n",
       "615 2016-09-26 14:00:00     RL1  0.041309524   0.9586905\n",
       "616 2016-09-26 15:00:00     RL1  0.045595238   0.9544048\n",
       "617 2016-09-26 16:00:00     RL1  0.049642857   0.9503571\n",
       "618 2016-09-26 17:00:00     RL1  0.052142857   0.9478571\n",
       "619 2016-09-26 18:00:00     RL1  0.059464286   0.9405357\n",
       "620 2016-09-26 19:00:00     RL1  0.057857143   0.9421429\n",
       "621 2016-09-26 20:00:00     RL1  0.052500000   0.9475000\n",
       "622 2016-09-26 21:00:00     RL1  0.046309524   0.9536905\n",
       "623 2016-09-26 22:00:00     RL1  0.036250000   0.9637500\n",
       "624 2016-09-26 23:00:00     RL1  0.029940476   0.9700595\n",
       "625 2016-09-27 00:00:00     RL1  0.024761905   0.9752381\n",
       "626 2016-09-27 01:00:00     RL1  0.015327381   0.9846726\n",
       "627 2016-09-27 02:00:00     RL1  0.006517857   0.9934821\n",
       "628 2016-09-27 03:00:00     RL1  0.007976190   0.9920238\n",
       "629 2016-09-27 04:00:00     RL1  0.007976190   0.9920238\n",
       "630 2016-09-27 05:00:00     RL1  0.015476190   0.9845238\n",
       "631 2016-09-27 06:00:00     RL1  0.015476190   0.9845238\n",
       "632 2016-09-27 07:00:00     RL1  0.024523810   0.9754762\n",
       "633 2016-09-27 08:00:00     RL1  0.031845238   0.9681548\n",
       "634 2016-09-27 09:00:00     RL1  0.031845238   0.9681548\n",
       "635 2016-09-27 10:00:00     RL1  0.059672619   0.9403274\n",
       "636 2016-09-27 11:00:00     RL1  0.057053571   0.9429464\n",
       "637 2016-09-27 12:00:00     RL1  0.065863095   0.9341369\n",
       "638 2016-09-27 13:00:00     RL1  0.073750000   0.9262500\n",
       "639 2016-09-27 14:00:00     RL1  0.074523810   0.9254762\n",
       "640 2016-09-27 15:00:00     RL1  0.065476190   0.9345238\n",
       "641 2016-09-27 16:00:00     RL1  0.058154762   0.9418452\n",
       "642 2016-09-27 17:00:00     RL1  0.061428571   0.9385714\n",
       "643 2016-09-27 18:00:00     RL1  0.030863095   0.9691369\n",
       "644 2016-09-27 19:00:00     RL1  0.030863095   0.9691369\n",
       "645 2016-09-27 20:00:00     RL1  0.023720238   0.9762798\n",
       "646 2016-09-27 21:00:00     RL1  0.031875000   0.9681250\n",
       "647 2016-09-27 22:00:00     RL1  0.031101190   0.9688988\n",
       "648 2016-09-27 23:00:00     RL1  0.034136905   0.9658631\n",
       "649 2016-09-28 00:00:00     RL1  0.034136905   0.9658631\n",
       "650 2016-09-28 01:00:00     RL1  0.037321429   0.9626786\n",
       "651 2016-09-28 02:00:00     RL1  0.048988095   0.9510119\n",
       "652 2016-09-28 03:00:00     RL1  0.048988095   0.9510119\n",
       "653 2016-09-28 04:00:00     RL1  0.047321429   0.9526786\n",
       "654 2016-09-28 05:00:00     RL1  0.031101190   0.9688988\n",
       "655 2016-09-28 06:00:00     RL1  0.037440476   0.9625595\n",
       "656 2016-09-28 07:00:00     RL1  0.065327381   0.9346726\n",
       "657 2016-09-28 08:00:00     RL1  0.072053571   0.9279464\n",
       "658 2016-09-28 09:00:00     RL1  0.066279762   0.9337202\n",
       "659 2016-09-28 10:00:00     RL1  0.057619048   0.9423810\n",
       "660 2016-09-28 11:00:00     RL1  0.072172619   0.9278274\n",
       "661 2016-09-28 12:00:00     RL1  0.078958333   0.9210417\n",
       "662 2016-09-28 13:00:00     RL1  0.072916667   0.9270833\n",
       "663 2016-09-28 14:00:00     RL1  0.079017857   0.9209821\n",
       "664 2016-09-28 15:00:00     RL1  0.056339286   0.9436607\n",
       "665 2016-09-28 16:00:00     RL1  0.054017857   0.9459821\n",
       "666 2016-09-28 17:00:00     RL1  0.081517857   0.9184821\n",
       "667 2016-09-28 18:00:00     RL1  0.075892857   0.9241071\n",
       "668 2016-09-28 19:00:00     RL1  0.061339286   0.9386607\n",
       "669 2016-09-28 20:00:00     RL1  0.058273810   0.9417262\n",
       "670 2016-09-28 21:00:00     RL1  0.058482143   0.9415179\n",
       "671 2016-09-28 22:00:00     RL1  0.062470238   0.9375298\n",
       "672 2016-09-28 23:00:00     RL1  0.054226190   0.9457738\n",
       "673 2016-09-29 00:00:00     RL1  0.049821429   0.9501786\n",
       "674 2016-09-29 01:00:00     RL1  0.041934524   0.9580655\n",
       "675 2016-09-29 02:00:00     RL1  0.048035714   0.9519643\n",
       "676 2016-09-29 03:00:00     RL1  0.075119048   0.9248810\n",
       "677 2016-09-29 04:00:00     RL1  0.073005952   0.9269940\n",
       "678 2016-09-29 05:00:00     RL1  0.071517857   0.9284821\n",
       "679 2016-09-29 06:00:00     RL1  0.057470238   0.9425298\n",
       "680 2016-09-29 07:00:00     RL1  0.059255952   0.9407440\n",
       "681 2016-09-29 08:00:00     RL1  0.073452381   0.9265476\n",
       "682 2016-09-29 09:00:00     RL1  0.069583333   0.9304167\n",
       "683 2016-09-29 10:00:00     RL1  0.082678571   0.9173214\n",
       "684 2016-09-29 11:00:00     RL1  0.071666667   0.9283333\n",
       "685 2016-09-29 12:00:00     RL1  0.070059524   0.9299405\n",
       "686 2016-09-29 13:00:00     RL1  0.084077381   0.9159226\n",
       "687 2016-09-29 14:00:00     RL1  0.082648810   0.9173512\n",
       "688 2016-09-29 15:00:00     RL1  0.086130952   0.9138690\n",
       "689 2016-09-29 16:00:00     RL1  0.076130952   0.9238690\n",
       "690 2016-09-29 17:00:00     RL1  0.067351190   0.9326488\n",
       "691 2016-09-29 18:00:00     RL1  0.048154762   0.9518452\n",
       "692 2016-09-29 19:00:00     RL1  0.039642857   0.9603571\n",
       "693 2016-09-29 20:00:00     RL1  0.042738095   0.9572619\n",
       "694 2016-09-29 21:00:00     RL1  0.028720238   0.9712798\n",
       "695 2016-09-29 22:00:00     RL1  0.027767857   0.9722321\n",
       "696 2016-09-29 23:00:00     RL1  0.031666667   0.9683333\n",
       "697 2016-09-30 00:00:00     RL1  0.049910714   0.9500893\n",
       "698 2016-09-30 01:00:00     RL1  0.049851190   0.9501488\n",
       "699 2016-09-30 02:00:00     RL1  0.067232143   0.9327679\n",
       "700 2016-09-30 03:00:00     RL1  0.083273810   0.9167262\n",
       "701 2016-09-30 04:00:00     RL1  0.096160714   0.9038393\n",
       "702 2016-09-30 05:00:00     RL1  0.114345238   0.8856548\n",
       "703 2016-09-30 06:00:00     RL1  0.134761905   0.8652381\n",
       "704 2016-09-30 07:00:00     RL1  0.127648810   0.8723512\n",
       "705 2016-09-30 08:00:00     RL1  0.105208333   0.8947917\n",
       "706 2016-09-30 09:00:00     RL1  0.104196429   0.8958036\n",
       "707 2016-09-30 10:00:00     RL1  0.088779762   0.9112202\n",
       "708 2016-09-30 11:00:00     RL1  0.081279762   0.9187202\n",
       "709 2016-09-30 12:00:00     RL1  0.067351190   0.9326488\n",
       "710 2016-09-30 13:00:00     RL1  0.068065476   0.9319345\n",
       "711 2016-09-30 14:00:00     RL1  0.047648810   0.9523512\n",
       "712 2016-09-30 15:00:00     RL1  0.053511905   0.9464881\n",
       "713 2016-09-30 16:00:00     RL1  0.057083333   0.9429167\n",
       "714 2016-09-30 17:00:00     RL1  0.052172619   0.9478274\n",
       "715 2016-09-30 18:00:00     RL1  0.053601190   0.9463988\n",
       "716 2016-09-30 19:00:00     RL1  0.037500000   0.9625000\n",
       "717 2016-09-30 20:00:00     RL1  0.035446429   0.9645536\n",
       "718 2016-09-30 21:00:00     RL1  0.020059524   0.9799405\n",
       "719 2016-09-30 22:00:00     RL1  0.020059524   0.9799405\n",
       "720 2016-09-30 23:00:00     RL1  0.012142857   0.9878571\n",
       "\n",
       "$Plot\n"
      ]
     },
     "metadata": {},
     "output_type": "display_data"
    },
    {
     "data": {
      "image/png": "[encoded data removed]",
      "text/plain": [
       "plot without title"
      ]
     },
     "metadata": {},
     "output_type": "display_data"
    }
   ],
   "source": [
    "list_rl1"
   ]
  },
  {
   "cell_type": "code",
   "execution_count": 66,
   "metadata": {},
   "outputs": [
    {
     "data": {
      "text/plain": [
       "             Length Class      Mode     \n",
       "Machine      1      -none-     character\n",
       "Stats        3      -none-     numeric  \n",
       "LowThreshold 1      -none-     logical  \n",
       "UnknownHours 7      POSIXct    numeric  \n",
       "Data         4      data.frame list     \n",
       "Plot         9      gg         list     "
      ]
     },
     "metadata": {},
     "output_type": "display_data"
    }
   ],
   "source": [
    "\n",
    "summary(list_rl1)"
   ]
  },
  {
   "cell_type": "code",
   "execution_count": 67,
   "metadata": {},
   "outputs": [
    {
     "name": "stdout",
     "output_type": "stream",
     "text": [
      "List of 6\n",
      " $ Machine     : chr \"RL1\"\n",
      " $ Stats       : num [1:3] 0.849 0.952 0.995\n",
      " $ LowThreshold: logi TRUE\n",
      " $ UnknownHours: POSIXct[1:7], format: \"2016-09-01 00:00:00\" \"2016-09-01 01:00:00\" ...\n",
      " $ Data        :'data.frame':\t720 obs. of  4 variables:\n",
      "  ..$ PosixTime   : POSIXct[1:720], format: \"2016-09-01 00:00:00\" \"2016-09-01 01:00:00\" ...\n",
      "  ..$ Machine     : Factor w/ 1 level \"RL1\": 1 1 1 1 1 1 1 1 1 1 ...\n",
      "  ..$ Percent.Idle: num [1:720] NA NA NA NA NA ...\n",
      "  ..$ Utilization : num [1:720] NA NA NA NA NA ...\n",
      " $ Plot        :List of 9\n",
      "  ..$ data       :'data.frame':\t3600 obs. of  4 variables:\n",
      "  .. ..$ PosixTime   : POSIXct[1:3600], format: \"2016-09-01 00:00:00\" \"2016-09-01 01:00:00\" ...\n",
      "  .. ..$ Machine     : Factor w/ 5 levels \"RL1\",\"RL2\",\"SR1\",..: 1 1 1 1 1 1 1 1 1 1 ...\n",
      "  .. ..$ Percent.Idle: num [1:3600] NA NA NA NA NA ...\n",
      "  .. ..$ Utilization : num [1:3600] NA NA NA NA NA ...\n",
      "  ..$ layers     :List of 2\n",
      "  .. ..$ :Classes 'LayerInstance', 'Layer', 'ggproto' <ggproto object: Class LayerInstance, Layer>\n",
      "    aes_params: list\n",
      "    compute_aesthetics: function\n",
      "    compute_geom_1: function\n",
      "    compute_geom_2: function\n",
      "    compute_position: function\n",
      "    compute_statistic: function\n",
      "    data: waiver\n",
      "    draw_geom: function\n",
      "    finish_statistics: function\n",
      "    geom: <ggproto object: Class GeomLine, GeomPath, Geom>\n",
      "        aesthetics: function\n",
      "        default_aes: uneval\n",
      "        draw_group: function\n",
      "        draw_key: function\n",
      "        draw_layer: function\n",
      "        draw_panel: function\n",
      "        extra_params: na.rm\n",
      "        handle_na: function\n",
      "        non_missing_aes: \n",
      "        optional_aes: \n",
      "        parameters: function\n",
      "        required_aes: x y\n",
      "        setup_data: function\n",
      "        use_defaults: function\n",
      "        super:  <ggproto object: Class GeomPath, Geom>\n",
      "    geom_params: list\n",
      "    inherit.aes: TRUE\n",
      "    layer_data: function\n",
      "    map_statistic: function\n",
      "    mapping: uneval\n",
      "    position: <ggproto object: Class PositionIdentity, Position>\n",
      "        compute_layer: function\n",
      "        compute_panel: function\n",
      "        required_aes: \n",
      "        setup_data: function\n",
      "        setup_params: function\n",
      "        super:  <ggproto object: Class Position>\n",
      "    print: function\n",
      "    show.legend: NA\n",
      "    stat: <ggproto object: Class StatIdentity, Stat>\n",
      "        aesthetics: function\n",
      "        compute_group: function\n",
      "        compute_layer: function\n",
      "        compute_panel: function\n",
      "        default_aes: uneval\n",
      "        extra_params: na.rm\n",
      "        finish_layer: function\n",
      "        non_missing_aes: \n",
      "        parameters: function\n",
      "        required_aes: \n",
      "        retransform: TRUE\n",
      "        setup_data: function\n",
      "        setup_params: function\n",
      "        super:  <ggproto object: Class Stat>\n",
      "    stat_params: list\n",
      "    subset: NULL\n",
      "    super:  <ggproto object: Class Layer> \n",
      "  .. ..$ :Classes 'LayerInstance', 'Layer', 'ggproto' <ggproto object: Class LayerInstance, Layer>\n",
      "    aes_params: list\n",
      "    compute_aesthetics: function\n",
      "    compute_geom_1: function\n",
      "    compute_geom_2: function\n",
      "    compute_position: function\n",
      "    compute_statistic: function\n",
      "    data: data.frame\n",
      "    draw_geom: function\n",
      "    finish_statistics: function\n",
      "    geom: <ggproto object: Class GeomHline, Geom>\n",
      "        aesthetics: function\n",
      "        default_aes: uneval\n",
      "        draw_group: function\n",
      "        draw_key: function\n",
      "        draw_layer: function\n",
      "        draw_panel: function\n",
      "        extra_params: na.rm\n",
      "        handle_na: function\n",
      "        non_missing_aes: \n",
      "        optional_aes: \n",
      "        parameters: function\n",
      "        required_aes: yintercept\n",
      "        setup_data: function\n",
      "        use_defaults: function\n",
      "        super:  <ggproto object: Class Geom>\n",
      "    geom_params: list\n",
      "    inherit.aes: FALSE\n",
      "    layer_data: function\n",
      "    map_statistic: function\n",
      "    mapping: uneval\n",
      "    position: <ggproto object: Class PositionIdentity, Position>\n",
      "        compute_layer: function\n",
      "        compute_panel: function\n",
      "        required_aes: \n",
      "        setup_data: function\n",
      "        setup_params: function\n",
      "        super:  <ggproto object: Class Position>\n",
      "    print: function\n",
      "    show.legend: FALSE\n",
      "    stat: <ggproto object: Class StatIdentity, Stat>\n",
      "        aesthetics: function\n",
      "        compute_group: function\n",
      "        compute_layer: function\n",
      "        compute_panel: function\n",
      "        default_aes: uneval\n",
      "        extra_params: na.rm\n",
      "        finish_layer: function\n",
      "        non_missing_aes: \n",
      "        parameters: function\n",
      "        required_aes: \n",
      "        retransform: TRUE\n",
      "        setup_data: function\n",
      "        setup_params: function\n",
      "        super:  <ggproto object: Class Stat>\n",
      "    stat_params: list\n",
      "    subset: NULL\n",
      "    super:  <ggproto object: Class Layer> \n",
      "  ..$ scales     :Classes 'ScalesList', 'ggproto' <ggproto object: Class ScalesList>\n",
      "    add: function\n",
      "    clone: function\n",
      "    find: function\n",
      "    get_scales: function\n",
      "    has_scale: function\n",
      "    input: function\n",
      "    n: function\n",
      "    non_position_scales: function\n",
      "    scales: list\n",
      "    super:  <ggproto object: Class ScalesList> \n",
      "  ..$ mapping    : list()\n",
      "  ..$ theme      : list()\n",
      "  ..$ coordinates:Classes 'CoordCartesian', 'Coord', 'ggproto' <ggproto object: Class CoordCartesian, Coord>\n",
      "    aspect: function\n",
      "    distance: function\n",
      "    expand: TRUE\n",
      "    is_linear: function\n",
      "    labels: function\n",
      "    limits: list\n",
      "    range: function\n",
      "    render_axis_h: function\n",
      "    render_axis_v: function\n",
      "    render_bg: function\n",
      "    render_fg: function\n",
      "    train: function\n",
      "    transform: function\n",
      "    super:  <ggproto object: Class CoordCartesian, Coord> \n",
      "  ..$ facet      :Classes 'FacetGrid', 'Facet', 'ggproto' <ggproto object: Class FacetGrid, Facet>\n",
      "    compute_layout: function\n",
      "    draw_back: function\n",
      "    draw_front: function\n",
      "    draw_labels: function\n",
      "    draw_panels: function\n",
      "    finish_data: function\n",
      "    init_scales: function\n",
      "    map: function\n",
      "    map_data: function\n",
      "    params: list\n",
      "    render_back: function\n",
      "    render_front: function\n",
      "    render_panels: function\n",
      "    setup_data: function\n",
      "    setup_params: function\n",
      "    shrink: TRUE\n",
      "    train: function\n",
      "    train_positions: function\n",
      "    train_scales: function\n",
      "    super:  <ggproto object: Class FacetGrid, Facet> \n",
      "  ..$ plot_env   :<environment: R_GlobalEnv> \n",
      "  ..$ labels     :List of 4\n",
      "  .. ..$ x         : chr \"PosixTime\"\n",
      "  .. ..$ y         : chr \"Utilization\"\n",
      "  .. ..$ colour    : chr \"Machine\"\n",
      "  .. ..$ yintercept: chr \"yintercept\"\n",
      "  ..- attr(*, \"class\")= chr [1:2] \"gg\" \"ggplot\"\n"
     ]
    }
   ],
   "source": [
    "str(list_rl1)"
   ]
  },
  {
   "cell_type": "code",
   "execution_count": null,
   "metadata": {},
   "outputs": [],
   "source": []
  }
 ],
 "metadata": {
  "kernelspec": {
   "display_name": "R",
   "language": "R",
   "name": "ir"
  },
  "language_info": {
   "codemirror_mode": "r",
   "file_extension": ".r",
   "mimetype": "text/x-r-source",
   "name": "R",
   "pygments_lexer": "r",
   "version": "3.4.3"
  }
 },
 "nbformat": 4,
 "nbformat_minor": 2
}
