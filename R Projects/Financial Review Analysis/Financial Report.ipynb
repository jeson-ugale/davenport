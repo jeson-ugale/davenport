{
 "cells": [
  {
   "cell_type": "markdown",
   "metadata": {},
   "source": [
    "# The Challenge\n",
    "\n",
    "Stakeholders have supplied you a list of 500 companies and would like you to create some draft visualisations for their upcoming online publication.  \n",
    "\n",
    "They have requested the following charts:  \n",
    "• A scatterplot classified by industry showing revenue, expenses, profit  \n",
    "• A scatterplot that includes industry trends for the expenses~revenue relationship  \n",
    "• BoxPlots showing growth by industry  "
   ]
  },
  {
   "cell_type": "markdown",
   "metadata": {},
   "source": [
    "# Import Data Into R"
   ]
  },
  {
   "cell_type": "markdown",
   "metadata": {},
   "source": [
    "Since we don't expect empty strings to represent completed data, we will tell R to treat empty strings as NA values."
   ]
  },
  {
   "cell_type": "code",
   "execution_count": 107,
   "metadata": {},
   "outputs": [],
   "source": [
    "fin <- read.csv(\"Future-500.csv\", na.strings=c(\"\"))"
   ]
  },
  {
   "cell_type": "code",
   "execution_count": 108,
   "metadata": {},
   "outputs": [
    {
     "data": {
      "text/html": [
       "<table>\n",
       "<thead><tr><th scope=col>ID</th><th scope=col>Name</th><th scope=col>Industry</th><th scope=col>Inception</th><th scope=col>Employees</th><th scope=col>State</th><th scope=col>City</th><th scope=col>Revenue</th><th scope=col>Expenses</th><th scope=col>Profit</th><th scope=col>Growth</th></tr></thead>\n",
       "<tbody>\n",
       "\t<tr><td>1                </td><td>Over-Hex         </td><td>Software         </td><td>2006             </td><td>25               </td><td>TN               </td><td>Franklin         </td><td>$9,684,527       </td><td>1,130,700 Dollars</td><td> 8553827         </td><td>19%              </td></tr>\n",
       "\t<tr><td>2                </td><td>Unimattax        </td><td>IT Services      </td><td>2009             </td><td>36               </td><td>PA               </td><td>Newtown Square   </td><td>$14,016,543      </td><td>804,035 Dollars  </td><td>13212508         </td><td>20%              </td></tr>\n",
       "\t<tr><td>3                </td><td>Greenfax         </td><td>Retail           </td><td>2012             </td><td>NA               </td><td>SC               </td><td>Greenville       </td><td>$9,746,272       </td><td>1,044,375 Dollars</td><td> 8701897         </td><td>16%              </td></tr>\n",
       "\t<tr><td>4                </td><td>Blacklane        </td><td>IT Services      </td><td>2011             </td><td>66               </td><td>CA               </td><td>Orange           </td><td>$15,359,369      </td><td>4,631,808 Dollars</td><td>10727561         </td><td>19%              </td></tr>\n",
       "\t<tr><td>5                </td><td>Yearflex         </td><td>Software         </td><td>2013             </td><td>45               </td><td>WI               </td><td>Madison          </td><td>$8,567,910       </td><td>4,374,841 Dollars</td><td> 4193069         </td><td>19%              </td></tr>\n",
       "\t<tr><td>6                </td><td>Indigoplanet     </td><td>IT Services      </td><td>2013             </td><td>60               </td><td>NJ               </td><td>Manalapan        </td><td>$12,805,452      </td><td>4,626,275 Dollars</td><td> 8179177         </td><td>22%              </td></tr>\n",
       "</tbody>\n",
       "</table>\n"
      ],
      "text/latex": [
       "\\begin{tabular}{r|lllllllllll}\n",
       " ID & Name & Industry & Inception & Employees & State & City & Revenue & Expenses & Profit & Growth\\\\\n",
       "\\hline\n",
       "\t 1                 & Over-Hex          & Software          & 2006              & 25                & TN                & Franklin          & \\$9,684,527      & 1,130,700 Dollars &  8553827          & 19\\%            \\\\\n",
       "\t 2                 & Unimattax         & IT Services       & 2009              & 36                & PA                & Newtown Square    & \\$14,016,543     & 804,035 Dollars   & 13212508          & 20\\%            \\\\\n",
       "\t 3                 & Greenfax          & Retail            & 2012              & NA                & SC                & Greenville        & \\$9,746,272      & 1,044,375 Dollars &  8701897          & 16\\%            \\\\\n",
       "\t 4                 & Blacklane         & IT Services       & 2011              & 66                & CA                & Orange            & \\$15,359,369     & 4,631,808 Dollars & 10727561          & 19\\%            \\\\\n",
       "\t 5                 & Yearflex          & Software          & 2013              & 45                & WI                & Madison           & \\$8,567,910      & 4,374,841 Dollars &  4193069          & 19\\%            \\\\\n",
       "\t 6                 & Indigoplanet      & IT Services       & 2013              & 60                & NJ                & Manalapan         & \\$12,805,452     & 4,626,275 Dollars &  8179177          & 22\\%            \\\\\n",
       "\\end{tabular}\n"
      ],
      "text/markdown": [
       "\n",
       "ID | Name | Industry | Inception | Employees | State | City | Revenue | Expenses | Profit | Growth | \n",
       "|---|---|---|---|---|---|\n",
       "| 1                 | Over-Hex          | Software          | 2006              | 25                | TN                | Franklin          | $9,684,527        | 1,130,700 Dollars |  8553827          | 19%               | \n",
       "| 2                 | Unimattax         | IT Services       | 2009              | 36                | PA                | Newtown Square    | $14,016,543       | 804,035 Dollars   | 13212508          | 20%               | \n",
       "| 3                 | Greenfax          | Retail            | 2012              | NA                | SC                | Greenville        | $9,746,272        | 1,044,375 Dollars |  8701897          | 16%               | \n",
       "| 4                 | Blacklane         | IT Services       | 2011              | 66                | CA                | Orange            | $15,359,369       | 4,631,808 Dollars | 10727561          | 19%               | \n",
       "| 5                 | Yearflex          | Software          | 2013              | 45                | WI                | Madison           | $8,567,910        | 4,374,841 Dollars |  4193069          | 19%               | \n",
       "| 6                 | Indigoplanet      | IT Services       | 2013              | 60                | NJ                | Manalapan         | $12,805,452       | 4,626,275 Dollars |  8179177          | 22%               | \n",
       "\n",
       "\n"
      ],
      "text/plain": [
       "  ID Name         Industry    Inception Employees State City          \n",
       "1 1  Over-Hex     Software    2006      25        TN    Franklin      \n",
       "2 2  Unimattax    IT Services 2009      36        PA    Newtown Square\n",
       "3 3  Greenfax     Retail      2012      NA        SC    Greenville    \n",
       "4 4  Blacklane    IT Services 2011      66        CA    Orange        \n",
       "5 5  Yearflex     Software    2013      45        WI    Madison       \n",
       "6 6  Indigoplanet IT Services 2013      60        NJ    Manalapan     \n",
       "  Revenue     Expenses          Profit   Growth\n",
       "1 $9,684,527  1,130,700 Dollars  8553827 19%   \n",
       "2 $14,016,543 804,035 Dollars   13212508 20%   \n",
       "3 $9,746,272  1,044,375 Dollars  8701897 16%   \n",
       "4 $15,359,369 4,631,808 Dollars 10727561 19%   \n",
       "5 $8,567,910  4,374,841 Dollars  4193069 19%   \n",
       "6 $12,805,452 4,626,275 Dollars  8179177 22%   "
      ]
     },
     "metadata": {},
     "output_type": "display_data"
    }
   ],
   "source": [
    "head(fin)"
   ]
  },
  {
   "cell_type": "code",
   "execution_count": 109,
   "metadata": {},
   "outputs": [
    {
     "name": "stdout",
     "output_type": "stream",
     "text": [
      "'data.frame':\t500 obs. of  11 variables:\n",
      " $ ID       : int  1 2 3 4 5 6 7 8 9 10 ...\n",
      " $ Name     : Factor w/ 500 levels \"Abstractedchocolat\",..: 297 451 168 40 485 199 435 339 242 395 ...\n",
      " $ Industry : Factor w/ 7 levels \"Construction\",..: 7 5 6 5 7 5 2 1 5 2 ...\n",
      " $ Inception: int  2006 2009 2012 2011 2013 2013 2009 2013 2009 2010 ...\n",
      " $ Employees: int  25 36 NA 66 45 60 116 73 55 25 ...\n",
      " $ State    : Factor w/ 42 levels \"AL\",\"AZ\",\"CA\",..: 36 33 35 3 41 27 22 29 3 8 ...\n",
      " $ City     : Factor w/ 297 levels \"Addison\",\"Alexandria\",..: 94 181 105 195 151 154 53 295 232 26 ...\n",
      " $ Revenue  : Factor w/ 498 levels \"$1,614,585\",\"$1,835,717\",..: 479 194 485 246 402 141 308 NA 96 117 ...\n",
      " $ Expenses : Factor w/ 497 levels \"1,026,548 Dollars\",..: 6 485 3 248 227 247 57 NA 402 495 ...\n",
      " $ Profit   : int  8553827 13212508 8701897 10727561 4193069 8179177 3259485 NA 5274553 11412916 ...\n",
      " $ Growth   : Factor w/ 32 levels \"-2%\",\"-3%\",\"0%\",..: 14 16 11 14 14 18 12 NA 26 16 ...\n"
     ]
    }
   ],
   "source": [
    "str(fin)"
   ]
  },
  {
   "cell_type": "code",
   "execution_count": 110,
   "metadata": {},
   "outputs": [
    {
     "data": {
      "text/plain": [
       "       ID                        Name                   Industry  \n",
       " Min.   :  1.0   Abstractedchocolat:  1   IT Services       :146  \n",
       " 1st Qu.:125.8   Abusivebong       :  1   Health            : 86  \n",
       " Median :250.5   Acclaimedcirl     :  1   Software          : 64  \n",
       " Mean   :250.5   Admitruppell      :  1   Financial Services: 54  \n",
       " 3rd Qu.:375.2   Admonishbadelynge :  1   Construction      : 50  \n",
       " Max.   :500.0   Ahemparticular    :  1   (Other)           : 98  \n",
       "                 (Other)           :494   NA's              :  2  \n",
       "   Inception      Employees           State              City    \n",
       " Min.   :1999   Min.   :   1.00   CA     : 57   San Diego  : 13  \n",
       " 1st Qu.:2009   1st Qu.:  27.25   VA     : 50   New York   : 11  \n",
       " Median :2011   Median :  56.00   TX     : 47   Reston     : 10  \n",
       " Mean   :2010   Mean   : 148.61   FL     : 34   Houston    :  9  \n",
       " 3rd Qu.:2012   3rd Qu.: 126.00   MD     : 25   Austin     :  8  \n",
       " Max.   :2014   Max.   :7125.00   (Other):283   Minneapolis:  8  \n",
       " NA's   :1      NA's   :2         NA's   :  4   (Other)    :441  \n",
       "        Revenue                 Expenses       Profit             Growth   \n",
       " $1,614,585 :  1   1,026,548 Dollars:  1   Min.   :   12434   20%    : 39  \n",
       " $1,835,717 :  1   1,040,662 Dollars:  1   1st Qu.: 3272074   19%    : 35  \n",
       " $10,064,297:  1   1,044,375 Dollars:  1   Median : 6513366   17%    : 27  \n",
       " $10,067,223:  1   1,097,353 Dollars:  1   Mean   : 6539474   6%     : 25  \n",
       " $10,072,452:  1   1,117,206 Dollars:  1   3rd Qu.: 9303951   12%    : 24  \n",
       " (Other)    :493   (Other)          :492   Max.   :19624534   (Other):349  \n",
       " NA's       :  2   NA's             :  3   NA's   :2          NA's   :  1  "
      ]
     },
     "metadata": {},
     "output_type": "display_data"
    }
   ],
   "source": [
    "summary(fin)"
   ]
  },
  {
   "cell_type": "markdown",
   "metadata": {},
   "source": [
    "After a quick look at the data, we see that the dataset has numerous discrepancies that need to be addressed before analysis can be performed.\n",
    "\n",
    "For example, R assumed an incorrect data type for the ID column."
   ]
  },
  {
   "cell_type": "markdown",
   "metadata": {},
   "source": [
    "# Fixing column type: int -> factor\n",
    "\n",
    "After checking the structure of the fin DataFrame, we learn that R has recognized the ID column as an integer type. However, we know that the ID column should be treated as a factor type, since we won't be performing arithmetic on the column.\n",
    "\n",
    "The same fix has to be done on the Inception column."
   ]
  },
  {
   "cell_type": "code",
   "execution_count": 111,
   "metadata": {},
   "outputs": [],
   "source": [
    "# Changing from non-factor to factor:\n",
    "\n",
    "fin$ID <- factor(fin$ID)"
   ]
  },
  {
   "cell_type": "code",
   "execution_count": 112,
   "metadata": {},
   "outputs": [
    {
     "name": "stdout",
     "output_type": "stream",
     "text": [
      "'data.frame':\t500 obs. of  11 variables:\n",
      " $ ID       : Factor w/ 500 levels \"1\",\"2\",\"3\",\"4\",..: 1 2 3 4 5 6 7 8 9 10 ...\n",
      " $ Name     : Factor w/ 500 levels \"Abstractedchocolat\",..: 297 451 168 40 485 199 435 339 242 395 ...\n",
      " $ Industry : Factor w/ 7 levels \"Construction\",..: 7 5 6 5 7 5 2 1 5 2 ...\n",
      " $ Inception: int  2006 2009 2012 2011 2013 2013 2009 2013 2009 2010 ...\n",
      " $ Employees: int  25 36 NA 66 45 60 116 73 55 25 ...\n",
      " $ State    : Factor w/ 42 levels \"AL\",\"AZ\",\"CA\",..: 36 33 35 3 41 27 22 29 3 8 ...\n",
      " $ City     : Factor w/ 297 levels \"Addison\",\"Alexandria\",..: 94 181 105 195 151 154 53 295 232 26 ...\n",
      " $ Revenue  : Factor w/ 498 levels \"$1,614,585\",\"$1,835,717\",..: 479 194 485 246 402 141 308 NA 96 117 ...\n",
      " $ Expenses : Factor w/ 497 levels \"1,026,548 Dollars\",..: 6 485 3 248 227 247 57 NA 402 495 ...\n",
      " $ Profit   : int  8553827 13212508 8701897 10727561 4193069 8179177 3259485 NA 5274553 11412916 ...\n",
      " $ Growth   : Factor w/ 32 levels \"-2%\",\"-3%\",\"0%\",..: 14 16 11 14 14 18 12 NA 26 16 ...\n"
     ]
    }
   ],
   "source": [
    "str(fin)"
   ]
  },
  {
   "cell_type": "code",
   "execution_count": 113,
   "metadata": {},
   "outputs": [],
   "source": [
    "fin$Inception <- factor(fin$Inception)"
   ]
  },
  {
   "cell_type": "code",
   "execution_count": 114,
   "metadata": {
    "scrolled": true
   },
   "outputs": [
    {
     "name": "stdout",
     "output_type": "stream",
     "text": [
      "'data.frame':\t500 obs. of  11 variables:\n",
      " $ ID       : Factor w/ 500 levels \"1\",\"2\",\"3\",\"4\",..: 1 2 3 4 5 6 7 8 9 10 ...\n",
      " $ Name     : Factor w/ 500 levels \"Abstractedchocolat\",..: 297 451 168 40 485 199 435 339 242 395 ...\n",
      " $ Industry : Factor w/ 7 levels \"Construction\",..: 7 5 6 5 7 5 2 1 5 2 ...\n",
      " $ Inception: Factor w/ 16 levels \"1999\",\"2000\",..: 8 11 14 13 15 15 11 15 11 12 ...\n",
      " $ Employees: int  25 36 NA 66 45 60 116 73 55 25 ...\n",
      " $ State    : Factor w/ 42 levels \"AL\",\"AZ\",\"CA\",..: 36 33 35 3 41 27 22 29 3 8 ...\n",
      " $ City     : Factor w/ 297 levels \"Addison\",\"Alexandria\",..: 94 181 105 195 151 154 53 295 232 26 ...\n",
      " $ Revenue  : Factor w/ 498 levels \"$1,614,585\",\"$1,835,717\",..: 479 194 485 246 402 141 308 NA 96 117 ...\n",
      " $ Expenses : Factor w/ 497 levels \"1,026,548 Dollars\",..: 6 485 3 248 227 247 57 NA 402 495 ...\n",
      " $ Profit   : int  8553827 13212508 8701897 10727561 4193069 8179177 3259485 NA 5274553 11412916 ...\n",
      " $ Growth   : Factor w/ 32 levels \"-2%\",\"-3%\",\"0%\",..: 14 16 11 14 14 18 12 NA 26 16 ...\n"
     ]
    }
   ],
   "source": [
    "str(fin)"
   ]
  },
  {
   "cell_type": "markdown",
   "metadata": {},
   "source": [
    "# Fixing column type: factor -> int\n",
    "\n",
    "R doesn't allow a user to simply change a factor into an integer. If this is attempted, the resulting vector of integers isn't a numeric version of the original data, but rather the numeration R used for the factor levels.\n",
    "\n",
    "E.g. \n",
    "\n",
    "z = factor(c(\"12\", \"13\", \"14\", \"15\"))  \n",
    "z = as.numeric(z)  \n",
    "z  \n",
    "\n",
    "This would return the vector [1, 2, 3, 4], representing the 4 unique levels for the original factor vector. To get the vector [12, 13, 14, 15], one would convert the column in the following manner: factor -> char -> int."
   ]
  },
  {
   "cell_type": "markdown",
   "metadata": {},
   "source": [
    "# gsub() and sub()\n",
    "\n",
    "Converting Revenue, Growth and Expenses into numerics instead of factors.\n",
    "\n",
    "sub() and gsub() help with pattern matching and replacing. Sub replaces first instance, gsub() replaces all"
   ]
  },
  {
   "cell_type": "code",
   "execution_count": 115,
   "metadata": {},
   "outputs": [
    {
     "name": "stdout",
     "output_type": "stream",
     "text": [
      "'data.frame':\t500 obs. of  11 variables:\n",
      " $ ID       : Factor w/ 500 levels \"1\",\"2\",\"3\",\"4\",..: 1 2 3 4 5 6 7 8 9 10 ...\n",
      " $ Name     : Factor w/ 500 levels \"Abstractedchocolat\",..: 297 451 168 40 485 199 435 339 242 395 ...\n",
      " $ Industry : Factor w/ 7 levels \"Construction\",..: 7 5 6 5 7 5 2 1 5 2 ...\n",
      " $ Inception: Factor w/ 16 levels \"1999\",\"2000\",..: 8 11 14 13 15 15 11 15 11 12 ...\n",
      " $ Employees: int  25 36 NA 66 45 60 116 73 55 25 ...\n",
      " $ State    : Factor w/ 42 levels \"AL\",\"AZ\",\"CA\",..: 36 33 35 3 41 27 22 29 3 8 ...\n",
      " $ City     : Factor w/ 297 levels \"Addison\",\"Alexandria\",..: 94 181 105 195 151 154 53 295 232 26 ...\n",
      " $ Revenue  : Factor w/ 498 levels \"$1,614,585\",\"$1,835,717\",..: 479 194 485 246 402 141 308 NA 96 117 ...\n",
      " $ Expenses : Factor w/ 497 levels \"1,026,548 Dollars\",..: 6 485 3 248 227 247 57 NA 402 495 ...\n",
      " $ Profit   : int  8553827 13212508 8701897 10727561 4193069 8179177 3259485 NA 5274553 11412916 ...\n",
      " $ Growth   : Factor w/ 32 levels \"-2%\",\"-3%\",\"0%\",..: 14 16 11 14 14 18 12 NA 26 16 ...\n"
     ]
    }
   ],
   "source": [
    "str(fin)"
   ]
  },
  {
   "cell_type": "markdown",
   "metadata": {},
   "source": [
    "In the Revenue column, we have to rid the data of the commas, and the dollar signs.\n",
    "\n",
    "In the Expenses column, we have to rid the data of the commas, and the \" Dollars\" text before we convert it to a numeric column.\n",
    "\n",
    "In the Growth column, we have to rid the data of the percentage signs."
   ]
  },
  {
   "cell_type": "code",
   "execution_count": 116,
   "metadata": {
    "scrolled": true
   },
   "outputs": [
    {
     "name": "stdout",
     "output_type": "stream",
     "text": [
      "'data.frame':\t500 obs. of  11 variables:\n",
      " $ ID       : Factor w/ 500 levels \"1\",\"2\",\"3\",\"4\",..: 1 2 3 4 5 6 7 8 9 10 ...\n",
      " $ Name     : Factor w/ 500 levels \"Abstractedchocolat\",..: 297 451 168 40 485 199 435 339 242 395 ...\n",
      " $ Industry : Factor w/ 7 levels \"Construction\",..: 7 5 6 5 7 5 2 1 5 2 ...\n",
      " $ Inception: Factor w/ 16 levels \"1999\",\"2000\",..: 8 11 14 13 15 15 11 15 11 12 ...\n",
      " $ Employees: int  25 36 NA 66 45 60 116 73 55 25 ...\n",
      " $ State    : Factor w/ 42 levels \"AL\",\"AZ\",\"CA\",..: 36 33 35 3 41 27 22 29 3 8 ...\n",
      " $ City     : Factor w/ 297 levels \"Addison\",\"Alexandria\",..: 94 181 105 195 151 154 53 295 232 26 ...\n",
      " $ Revenue  : chr  \"9684527\" \"14016543\" \"9746272\" \"15359369\" ...\n",
      " $ Expenses : chr  \"1130700\" \"804035\" \"1044375\" \"4631808\" ...\n",
      " $ Profit   : int  8553827 13212508 8701897 10727561 4193069 8179177 3259485 NA 5274553 11412916 ...\n",
      " $ Growth   : chr  \"19\" \"20\" \"16\" \"19\" ...\n"
     ]
    }
   ],
   "source": [
    "fin$Revenue = gsub(\"\\\\$\", \"\", fin$Revenue)\n",
    "fin$Revenue = gsub(\",\", \"\", fin$Revenue)\n",
    "\n",
    "fin$Expenses = gsub(\",\", \"\", fin$Expenses)\n",
    "fin$Expenses = gsub(\" Dollars\", \"\", fin$Expenses)\n",
    "\n",
    "fin$Growth = gsub(\"%\", \"\", fin$Growth)\n",
    "str(fin)"
   ]
  },
  {
   "cell_type": "markdown",
   "metadata": {},
   "source": [
    "After stripping the misc. characters, R recognizes the factor as a char type instead of a factor. Now we can convert the columns into numerics."
   ]
  },
  {
   "cell_type": "code",
   "execution_count": 117,
   "metadata": {},
   "outputs": [
    {
     "name": "stdout",
     "output_type": "stream",
     "text": [
      "'data.frame':\t500 obs. of  11 variables:\n",
      " $ ID       : Factor w/ 500 levels \"1\",\"2\",\"3\",\"4\",..: 1 2 3 4 5 6 7 8 9 10 ...\n",
      " $ Name     : Factor w/ 500 levels \"Abstractedchocolat\",..: 297 451 168 40 485 199 435 339 242 395 ...\n",
      " $ Industry : Factor w/ 7 levels \"Construction\",..: 7 5 6 5 7 5 2 1 5 2 ...\n",
      " $ Inception: Factor w/ 16 levels \"1999\",\"2000\",..: 8 11 14 13 15 15 11 15 11 12 ...\n",
      " $ Employees: int  25 36 NA 66 45 60 116 73 55 25 ...\n",
      " $ State    : Factor w/ 42 levels \"AL\",\"AZ\",\"CA\",..: 36 33 35 3 41 27 22 29 3 8 ...\n",
      " $ City     : Factor w/ 297 levels \"Addison\",\"Alexandria\",..: 94 181 105 195 151 154 53 295 232 26 ...\n",
      " $ Revenue  : num  9684527 14016543 9746272 15359369 8567910 ...\n",
      " $ Expenses : num  1130700 804035 1044375 4631808 4374841 ...\n",
      " $ Profit   : int  8553827 13212508 8701897 10727561 4193069 8179177 3259485 NA 5274553 11412916 ...\n",
      " $ Growth   : num  19 20 16 19 19 22 17 NA 30 20 ...\n"
     ]
    }
   ],
   "source": [
    "fin$Revenue = as.numeric(fin$Revenue)\n",
    "fin$Expenses = as.numeric(fin$Expenses)\n",
    "fin$Growth = as.numeric(fin$Growth)\n",
    "\n",
    "str(fin)"
   ]
  },
  {
   "cell_type": "markdown",
   "metadata": {},
   "source": [
    "# Dealing with Missing Data\n",
    "\n",
    "A common way to deal with missing numerical data is to replace it with the mean or median. We will use the median for the times where outliers occur since the median is minimally influenced by outliers."
   ]
  },
  {
   "cell_type": "code",
   "execution_count": 118,
   "metadata": {},
   "outputs": [
    {
     "data": {
      "text/html": [
       "<table>\n",
       "<thead><tr><th scope=col>ID</th><th scope=col>Name</th><th scope=col>Industry</th><th scope=col>Inception</th><th scope=col>Employees</th><th scope=col>State</th><th scope=col>City</th><th scope=col>Revenue</th><th scope=col>Expenses</th><th scope=col>Profit</th><th scope=col>Growth</th></tr></thead>\n",
       "<tbody>\n",
       "\t<tr><td>1                  </td><td>Over-Hex           </td><td>Software           </td><td>2006               </td><td> 25                </td><td>TN                 </td><td>Franklin           </td><td> 9684527           </td><td>1130700            </td><td> 8553827           </td><td>19                 </td></tr>\n",
       "\t<tr><td>2                  </td><td>Unimattax          </td><td>IT Services        </td><td>2009               </td><td> 36                </td><td>PA                 </td><td>Newtown Square     </td><td>14016543           </td><td> 804035            </td><td>13212508           </td><td>20                 </td></tr>\n",
       "\t<tr><td>3                  </td><td>Greenfax           </td><td>Retail             </td><td>2012               </td><td> NA                </td><td>SC                 </td><td>Greenville         </td><td> 9746272           </td><td>1044375            </td><td> 8701897           </td><td>16                 </td></tr>\n",
       "\t<tr><td>4                  </td><td>Blacklane          </td><td>IT Services        </td><td>2011               </td><td> 66                </td><td>CA                 </td><td>Orange             </td><td>15359369           </td><td>4631808            </td><td>10727561           </td><td>19                 </td></tr>\n",
       "\t<tr><td>5                  </td><td>Yearflex           </td><td>Software           </td><td>2013               </td><td> 45                </td><td>WI                 </td><td>Madison            </td><td> 8567910           </td><td>4374841            </td><td> 4193069           </td><td>19                 </td></tr>\n",
       "\t<tr><td>6                  </td><td>Indigoplanet       </td><td>IT Services        </td><td>2013               </td><td> 60                </td><td>NJ                 </td><td>Manalapan          </td><td>12805452           </td><td>4626275            </td><td> 8179177           </td><td>22                 </td></tr>\n",
       "\t<tr><td>7                  </td><td>Treslam            </td><td>Financial Services </td><td>2009               </td><td>116                </td><td>MO                 </td><td>Clayton            </td><td> 5387469           </td><td>2127984            </td><td> 3259485           </td><td>17                 </td></tr>\n",
       "\t<tr><td>8                  </td><td>Rednimdox          </td><td>Construction       </td><td>2013               </td><td> 73                </td><td>NY                 </td><td>Woodside           </td><td>      NA           </td><td>     NA            </td><td>      NA           </td><td>NA                 </td></tr>\n",
       "\t<tr><td>9                  </td><td>Lamtone            </td><td>IT Services        </td><td>2009               </td><td> 55                </td><td>CA                 </td><td>San Ramon          </td><td>11757018           </td><td>6482465            </td><td> 5274553           </td><td>30                 </td></tr>\n",
       "\t<tr><td>10                 </td><td>Stripfind          </td><td>Financial Services </td><td>2010               </td><td> 25                </td><td>FL                 </td><td>Boca Raton         </td><td>12329371           </td><td> 916455            </td><td>11412916           </td><td>20                 </td></tr>\n",
       "\t<tr><td>11                 </td><td>Canecorporation    </td><td>Health             </td><td>2012               </td><td>  6                </td><td>NA                 </td><td>New York           </td><td>10597009           </td><td>7591189            </td><td> 3005820           </td><td> 7                 </td></tr>\n",
       "\t<tr><td>12                 </td><td>Mattouch           </td><td>IT Services        </td><td>2013               </td><td>  6                </td><td>WA                 </td><td>Bellevue           </td><td>14026934           </td><td>7429377            </td><td> 6597557           </td><td>26                 </td></tr>\n",
       "\t<tr><td>13                 </td><td>Techdrill          </td><td>Health             </td><td>2009               </td><td>  9                </td><td>MS                 </td><td>Flowood            </td><td>10573990           </td><td>7435363            </td><td> 3138627           </td><td> 8                 </td></tr>\n",
       "\t<tr><td>14                 </td><td>Techline           </td><td>NA                 </td><td>2006               </td><td> 65                </td><td>CA                 </td><td>San Ramon          </td><td>13898119           </td><td>5470303            </td><td> 8427816           </td><td>23                 </td></tr>\n",
       "\t<tr><td>15                 </td><td>Cityace            </td><td>NA                 </td><td>2010               </td><td> 25                </td><td>CO                 </td><td>Louisville         </td><td> 9254614           </td><td>6249498            </td><td> 3005116           </td><td> 6                 </td></tr>\n",
       "\t<tr><td>16                 </td><td>Kayelectronics     </td><td>Health             </td><td>2009               </td><td>687                </td><td>NC                 </td><td>Clayton            </td><td> 9451943           </td><td>3878113            </td><td> 5573830           </td><td> 4                 </td></tr>\n",
       "\t<tr><td>17                 </td><td>Ganzlax            </td><td>IT Services        </td><td>2011               </td><td> 75                </td><td>NJ                 </td><td>Iselin             </td><td>14001180           </td><td>     NA            </td><td>11901180           </td><td>18                 </td></tr>\n",
       "\t<tr><td>18                 </td><td>Trantraxlax        </td><td>Government Services</td><td>2011               </td><td> 35                </td><td>VA                 </td><td>Suffolk            </td><td>11088336           </td><td>5635276            </td><td> 5453060           </td><td> 7                 </td></tr>\n",
       "\t<tr><td>19                 </td><td>E-Zim              </td><td>Retail             </td><td>2008               </td><td>320                </td><td>OH                 </td><td>Monroe             </td><td>10746451           </td><td>4762319            </td><td> 5984132           </td><td>13                 </td></tr>\n",
       "\t<tr><td>20                 </td><td>Daltfase           </td><td>Software           </td><td>2011               </td><td> 78                </td><td>NC                 </td><td>Durham             </td><td>10410628           </td><td>6196409            </td><td> 4214219           </td><td>17                 </td></tr>\n",
       "\t<tr><td>21                 </td><td>Hotlane            </td><td>Government Services</td><td>2012               </td><td> 87                </td><td>AL                 </td><td>Huntsville         </td><td> 7978332           </td><td>5686574            </td><td> 2291758           </td><td> 2                 </td></tr>\n",
       "\t<tr><td>22                 </td><td>Lathotline         </td><td>Health             </td><td>NA                 </td><td>103                </td><td>VA                 </td><td>McLean             </td><td> 9418303           </td><td>7567233            </td><td> 1851070           </td><td> 2                 </td></tr>\n",
       "\t<tr><td>23                 </td><td>Lambam             </td><td>IT Services        </td><td>2012               </td><td>210                </td><td>SC                 </td><td>Columbia           </td><td>11950148           </td><td>4365512            </td><td> 7584636           </td><td>20                 </td></tr>\n",
       "\t<tr><td>24                 </td><td>Quozap             </td><td>Software           </td><td>2004               </td><td> 21                </td><td>NJ                 </td><td>Collingswood       </td><td> 8304480           </td><td>7019973            </td><td> 1284507           </td><td>20                 </td></tr>\n",
       "</tbody>\n",
       "</table>\n"
      ],
      "text/latex": [
       "\\begin{tabular}{r|lllllllllll}\n",
       " ID & Name & Industry & Inception & Employees & State & City & Revenue & Expenses & Profit & Growth\\\\\n",
       "\\hline\n",
       "\t 1                   & Over-Hex            & Software            & 2006                &  25                 & TN                  & Franklin            &  9684527            & 1130700             &  8553827            & 19                 \\\\\n",
       "\t 2                   & Unimattax           & IT Services         & 2009                &  36                 & PA                  & Newtown Square      & 14016543            &  804035             & 13212508            & 20                 \\\\\n",
       "\t 3                   & Greenfax            & Retail              & 2012                &  NA                 & SC                  & Greenville          &  9746272            & 1044375             &  8701897            & 16                 \\\\\n",
       "\t 4                   & Blacklane           & IT Services         & 2011                &  66                 & CA                  & Orange              & 15359369            & 4631808             & 10727561            & 19                 \\\\\n",
       "\t 5                   & Yearflex            & Software            & 2013                &  45                 & WI                  & Madison             &  8567910            & 4374841             &  4193069            & 19                 \\\\\n",
       "\t 6                   & Indigoplanet        & IT Services         & 2013                &  60                 & NJ                  & Manalapan           & 12805452            & 4626275             &  8179177            & 22                 \\\\\n",
       "\t 7                   & Treslam             & Financial Services  & 2009                & 116                 & MO                  & Clayton             &  5387469            & 2127984             &  3259485            & 17                 \\\\\n",
       "\t 8                   & Rednimdox           & Construction        & 2013                &  73                 & NY                  & Woodside            &       NA            &      NA             &       NA            & NA                 \\\\\n",
       "\t 9                   & Lamtone             & IT Services         & 2009                &  55                 & CA                  & San Ramon           & 11757018            & 6482465             &  5274553            & 30                 \\\\\n",
       "\t 10                  & Stripfind           & Financial Services  & 2010                &  25                 & FL                  & Boca Raton          & 12329371            &  916455             & 11412916            & 20                 \\\\\n",
       "\t 11                  & Canecorporation     & Health              & 2012                &   6                 & NA                  & New York            & 10597009            & 7591189             &  3005820            &  7                 \\\\\n",
       "\t 12                  & Mattouch            & IT Services         & 2013                &   6                 & WA                  & Bellevue            & 14026934            & 7429377             &  6597557            & 26                 \\\\\n",
       "\t 13                  & Techdrill           & Health              & 2009                &   9                 & MS                  & Flowood             & 10573990            & 7435363             &  3138627            &  8                 \\\\\n",
       "\t 14                  & Techline            & NA                  & 2006                &  65                 & CA                  & San Ramon           & 13898119            & 5470303             &  8427816            & 23                 \\\\\n",
       "\t 15                  & Cityace             & NA                  & 2010                &  25                 & CO                  & Louisville          &  9254614            & 6249498             &  3005116            &  6                 \\\\\n",
       "\t 16                  & Kayelectronics      & Health              & 2009                & 687                 & NC                  & Clayton             &  9451943            & 3878113             &  5573830            &  4                 \\\\\n",
       "\t 17                  & Ganzlax             & IT Services         & 2011                &  75                 & NJ                  & Iselin              & 14001180            &      NA             & 11901180            & 18                 \\\\\n",
       "\t 18                  & Trantraxlax         & Government Services & 2011                &  35                 & VA                  & Suffolk             & 11088336            & 5635276             &  5453060            &  7                 \\\\\n",
       "\t 19                  & E-Zim               & Retail              & 2008                & 320                 & OH                  & Monroe              & 10746451            & 4762319             &  5984132            & 13                 \\\\\n",
       "\t 20                  & Daltfase            & Software            & 2011                &  78                 & NC                  & Durham              & 10410628            & 6196409             &  4214219            & 17                 \\\\\n",
       "\t 21                  & Hotlane             & Government Services & 2012                &  87                 & AL                  & Huntsville          &  7978332            & 5686574             &  2291758            &  2                 \\\\\n",
       "\t 22                  & Lathotline          & Health              & NA                  & 103                 & VA                  & McLean              &  9418303            & 7567233             &  1851070            &  2                 \\\\\n",
       "\t 23                  & Lambam              & IT Services         & 2012                & 210                 & SC                  & Columbia            & 11950148            & 4365512             &  7584636            & 20                 \\\\\n",
       "\t 24                  & Quozap              & Software            & 2004                &  21                 & NJ                  & Collingswood        &  8304480            & 7019973             &  1284507            & 20                 \\\\\n",
       "\\end{tabular}\n"
      ],
      "text/markdown": [
       "\n",
       "ID | Name | Industry | Inception | Employees | State | City | Revenue | Expenses | Profit | Growth | \n",
       "|---|---|---|---|---|---|---|---|---|---|---|---|---|---|---|---|---|---|---|---|---|---|---|---|\n",
       "| 1                   | Over-Hex            | Software            | 2006                |  25                 | TN                  | Franklin            |  9684527            | 1130700             |  8553827            | 19                  | \n",
       "| 2                   | Unimattax           | IT Services         | 2009                |  36                 | PA                  | Newtown Square      | 14016543            |  804035             | 13212508            | 20                  | \n",
       "| 3                   | Greenfax            | Retail              | 2012                |  NA                 | SC                  | Greenville          |  9746272            | 1044375             |  8701897            | 16                  | \n",
       "| 4                   | Blacklane           | IT Services         | 2011                |  66                 | CA                  | Orange              | 15359369            | 4631808             | 10727561            | 19                  | \n",
       "| 5                   | Yearflex            | Software            | 2013                |  45                 | WI                  | Madison             |  8567910            | 4374841             |  4193069            | 19                  | \n",
       "| 6                   | Indigoplanet        | IT Services         | 2013                |  60                 | NJ                  | Manalapan           | 12805452            | 4626275             |  8179177            | 22                  | \n",
       "| 7                   | Treslam             | Financial Services  | 2009                | 116                 | MO                  | Clayton             |  5387469            | 2127984             |  3259485            | 17                  | \n",
       "| 8                   | Rednimdox           | Construction        | 2013                |  73                 | NY                  | Woodside            |       NA            |      NA             |       NA            | NA                  | \n",
       "| 9                   | Lamtone             | IT Services         | 2009                |  55                 | CA                  | San Ramon           | 11757018            | 6482465             |  5274553            | 30                  | \n",
       "| 10                  | Stripfind           | Financial Services  | 2010                |  25                 | FL                  | Boca Raton          | 12329371            |  916455             | 11412916            | 20                  | \n",
       "| 11                  | Canecorporation     | Health              | 2012                |   6                 | NA                  | New York            | 10597009            | 7591189             |  3005820            |  7                  | \n",
       "| 12                  | Mattouch            | IT Services         | 2013                |   6                 | WA                  | Bellevue            | 14026934            | 7429377             |  6597557            | 26                  | \n",
       "| 13                  | Techdrill           | Health              | 2009                |   9                 | MS                  | Flowood             | 10573990            | 7435363             |  3138627            |  8                  | \n",
       "| 14                  | Techline            | NA                  | 2006                |  65                 | CA                  | San Ramon           | 13898119            | 5470303             |  8427816            | 23                  | \n",
       "| 15                  | Cityace             | NA                  | 2010                |  25                 | CO                  | Louisville          |  9254614            | 6249498             |  3005116            |  6                  | \n",
       "| 16                  | Kayelectronics      | Health              | 2009                | 687                 | NC                  | Clayton             |  9451943            | 3878113             |  5573830            |  4                  | \n",
       "| 17                  | Ganzlax             | IT Services         | 2011                |  75                 | NJ                  | Iselin              | 14001180            |      NA             | 11901180            | 18                  | \n",
       "| 18                  | Trantraxlax         | Government Services | 2011                |  35                 | VA                  | Suffolk             | 11088336            | 5635276             |  5453060            |  7                  | \n",
       "| 19                  | E-Zim               | Retail              | 2008                | 320                 | OH                  | Monroe              | 10746451            | 4762319             |  5984132            | 13                  | \n",
       "| 20                  | Daltfase            | Software            | 2011                |  78                 | NC                  | Durham              | 10410628            | 6196409             |  4214219            | 17                  | \n",
       "| 21                  | Hotlane             | Government Services | 2012                |  87                 | AL                  | Huntsville          |  7978332            | 5686574             |  2291758            |  2                  | \n",
       "| 22                  | Lathotline          | Health              | NA                  | 103                 | VA                  | McLean              |  9418303            | 7567233             |  1851070            |  2                  | \n",
       "| 23                  | Lambam              | IT Services         | 2012                | 210                 | SC                  | Columbia            | 11950148            | 4365512             |  7584636            | 20                  | \n",
       "| 24                  | Quozap              | Software            | 2004                |  21                 | NJ                  | Collingswood        |  8304480            | 7019973             |  1284507            | 20                  | \n",
       "\n",
       "\n"
      ],
      "text/plain": [
       "   ID Name            Industry            Inception Employees State\n",
       "1  1  Over-Hex        Software            2006       25       TN   \n",
       "2  2  Unimattax       IT Services         2009       36       PA   \n",
       "3  3  Greenfax        Retail              2012       NA       SC   \n",
       "4  4  Blacklane       IT Services         2011       66       CA   \n",
       "5  5  Yearflex        Software            2013       45       WI   \n",
       "6  6  Indigoplanet    IT Services         2013       60       NJ   \n",
       "7  7  Treslam         Financial Services  2009      116       MO   \n",
       "8  8  Rednimdox       Construction        2013       73       NY   \n",
       "9  9  Lamtone         IT Services         2009       55       CA   \n",
       "10 10 Stripfind       Financial Services  2010       25       FL   \n",
       "11 11 Canecorporation Health              2012        6       NA   \n",
       "12 12 Mattouch        IT Services         2013        6       WA   \n",
       "13 13 Techdrill       Health              2009        9       MS   \n",
       "14 14 Techline        NA                  2006       65       CA   \n",
       "15 15 Cityace         NA                  2010       25       CO   \n",
       "16 16 Kayelectronics  Health              2009      687       NC   \n",
       "17 17 Ganzlax         IT Services         2011       75       NJ   \n",
       "18 18 Trantraxlax     Government Services 2011       35       VA   \n",
       "19 19 E-Zim           Retail              2008      320       OH   \n",
       "20 20 Daltfase        Software            2011       78       NC   \n",
       "21 21 Hotlane         Government Services 2012       87       AL   \n",
       "22 22 Lathotline      Health              NA        103       VA   \n",
       "23 23 Lambam          IT Services         2012      210       SC   \n",
       "24 24 Quozap          Software            2004       21       NJ   \n",
       "   City           Revenue  Expenses Profit   Growth\n",
       "1  Franklin        9684527 1130700   8553827 19    \n",
       "2  Newtown Square 14016543  804035  13212508 20    \n",
       "3  Greenville      9746272 1044375   8701897 16    \n",
       "4  Orange         15359369 4631808  10727561 19    \n",
       "5  Madison         8567910 4374841   4193069 19    \n",
       "6  Manalapan      12805452 4626275   8179177 22    \n",
       "7  Clayton         5387469 2127984   3259485 17    \n",
       "8  Woodside             NA      NA        NA NA    \n",
       "9  San Ramon      11757018 6482465   5274553 30    \n",
       "10 Boca Raton     12329371  916455  11412916 20    \n",
       "11 New York       10597009 7591189   3005820  7    \n",
       "12 Bellevue       14026934 7429377   6597557 26    \n",
       "13 Flowood        10573990 7435363   3138627  8    \n",
       "14 San Ramon      13898119 5470303   8427816 23    \n",
       "15 Louisville      9254614 6249498   3005116  6    \n",
       "16 Clayton         9451943 3878113   5573830  4    \n",
       "17 Iselin         14001180      NA  11901180 18    \n",
       "18 Suffolk        11088336 5635276   5453060  7    \n",
       "19 Monroe         10746451 4762319   5984132 13    \n",
       "20 Durham         10410628 6196409   4214219 17    \n",
       "21 Huntsville      7978332 5686574   2291758  2    \n",
       "22 McLean          9418303 7567233   1851070  2    \n",
       "23 Columbia       11950148 4365512   7584636 20    \n",
       "24 Collingswood    8304480 7019973   1284507 20    "
      ]
     },
     "metadata": {},
     "output_type": "display_data"
    }
   ],
   "source": [
    "head(fin, 24)"
   ]
  },
  {
   "cell_type": "markdown",
   "metadata": {},
   "source": [
    "In the top 24 rows of data, we can already see that missingness is an issue with this data. To locate all rows, we can use the negation of the complete.cases(fin) vector to subset the dataset. For intuition, here is the complete.cases(fin) vector:"
   ]
  },
  {
   "cell_type": "code",
   "execution_count": 119,
   "metadata": {},
   "outputs": [
    {
     "data": {
      "text/html": [
       "<ol class=list-inline>\n",
       "\t<li>TRUE</li>\n",
       "\t<li>TRUE</li>\n",
       "\t<li>FALSE</li>\n",
       "\t<li>TRUE</li>\n",
       "\t<li>TRUE</li>\n",
       "\t<li>TRUE</li>\n",
       "</ol>\n"
      ],
      "text/latex": [
       "\\begin{enumerate*}\n",
       "\\item TRUE\n",
       "\\item TRUE\n",
       "\\item FALSE\n",
       "\\item TRUE\n",
       "\\item TRUE\n",
       "\\item TRUE\n",
       "\\end{enumerate*}\n"
      ],
      "text/markdown": [
       "1. TRUE\n",
       "2. TRUE\n",
       "3. FALSE\n",
       "4. TRUE\n",
       "5. TRUE\n",
       "6. TRUE\n",
       "\n",
       "\n"
      ],
      "text/plain": [
       "[1]  TRUE  TRUE FALSE  TRUE  TRUE  TRUE"
      ]
     },
     "metadata": {},
     "output_type": "display_data"
    }
   ],
   "source": [
    "head(complete.cases(fin))"
   ]
  },
  {
   "cell_type": "markdown",
   "metadata": {},
   "source": [
    "This tells us that the first 2 rows are complete, i.e. have no NA's, the third is incomplete, and the remaining are complete. We want the negation of this; we want a vector where TRUE represents incomplete rows."
   ]
  },
  {
   "cell_type": "code",
   "execution_count": 120,
   "metadata": {},
   "outputs": [
    {
     "data": {
      "text/html": [
       "<table>\n",
       "<thead><tr><th></th><th scope=col>ID</th><th scope=col>Name</th><th scope=col>Industry</th><th scope=col>Inception</th><th scope=col>Employees</th><th scope=col>State</th><th scope=col>City</th><th scope=col>Revenue</th><th scope=col>Expenses</th><th scope=col>Profit</th><th scope=col>Growth</th></tr></thead>\n",
       "<tbody>\n",
       "\t<tr><th scope=row>3</th><td>3                 </td><td>Greenfax          </td><td>Retail            </td><td>2012              </td><td> NA               </td><td>SC                </td><td>Greenville        </td><td> 9746272          </td><td>1044375           </td><td> 8701897          </td><td>16                </td></tr>\n",
       "\t<tr><th scope=row>8</th><td>8                 </td><td>Rednimdox         </td><td>Construction      </td><td>2013              </td><td> 73               </td><td>NY                </td><td>Woodside          </td><td>      NA          </td><td>     NA           </td><td>      NA          </td><td>NA                </td></tr>\n",
       "\t<tr><th scope=row>11</th><td>11                </td><td>Canecorporation   </td><td>Health            </td><td>2012              </td><td>  6               </td><td>NA                </td><td>New York          </td><td>10597009          </td><td>7591189           </td><td> 3005820          </td><td> 7                </td></tr>\n",
       "\t<tr><th scope=row>14</th><td>14                </td><td>Techline          </td><td>NA                </td><td>2006              </td><td> 65               </td><td>CA                </td><td>San Ramon         </td><td>13898119          </td><td>5470303           </td><td> 8427816          </td><td>23                </td></tr>\n",
       "\t<tr><th scope=row>15</th><td>15                </td><td>Cityace           </td><td>NA                </td><td>2010              </td><td> 25               </td><td>CO                </td><td>Louisville        </td><td> 9254614          </td><td>6249498           </td><td> 3005116          </td><td> 6                </td></tr>\n",
       "\t<tr><th scope=row>17</th><td>17                </td><td>Ganzlax           </td><td>IT Services       </td><td>2011              </td><td> 75               </td><td>NJ                </td><td>Iselin            </td><td>14001180          </td><td>     NA           </td><td>11901180          </td><td>18                </td></tr>\n",
       "\t<tr><th scope=row>22</th><td>22                </td><td>Lathotline        </td><td>Health            </td><td>NA                </td><td>103               </td><td>VA                </td><td>McLean            </td><td> 9418303          </td><td>7567233           </td><td> 1851070          </td><td> 2                </td></tr>\n",
       "\t<tr><th scope=row>44</th><td>44                </td><td>Ganzgreen         </td><td>Construction      </td><td>2010              </td><td>224               </td><td>TN                </td><td>Franklin          </td><td>      NA          </td><td>     NA           </td><td>      NA          </td><td> 9                </td></tr>\n",
       "\t<tr><th scope=row>84</th><td>84                </td><td>Drilldrill        </td><td>Software          </td><td>2010              </td><td> 30               </td><td>NA                </td><td>San Francisco     </td><td> 7800620          </td><td>2785799           </td><td> 5014821          </td><td>17                </td></tr>\n",
       "\t<tr><th scope=row>267</th><td>267               </td><td>Circlechop        </td><td>Software          </td><td>2010              </td><td> 14               </td><td>NA                </td><td>San Francisco     </td><td> 9067070          </td><td>5929828           </td><td> 3137242          </td><td>20                </td></tr>\n",
       "\t<tr><th scope=row>332</th><td>332               </td><td>Westminster       </td><td>Financial Services</td><td>2010              </td><td> NA               </td><td>MI                </td><td>Troy              </td><td>11861652          </td><td>5245126           </td><td> 6616526          </td><td>15                </td></tr>\n",
       "\t<tr><th scope=row>379</th><td>379               </td><td>Stovepuck         </td><td>Retail            </td><td>2013              </td><td> 73               </td><td>NA                </td><td>New York          </td><td>13814975          </td><td>5904502           </td><td> 7910473          </td><td>10                </td></tr>\n",
       "</tbody>\n",
       "</table>\n"
      ],
      "text/latex": [
       "\\begin{tabular}{r|lllllllllll}\n",
       "  & ID & Name & Industry & Inception & Employees & State & City & Revenue & Expenses & Profit & Growth\\\\\n",
       "\\hline\n",
       "\t3 & 3                  & Greenfax           & Retail             & 2012               &  NA                & SC                 & Greenville         &  9746272           & 1044375            &  8701897           & 16                \\\\\n",
       "\t8 & 8                  & Rednimdox          & Construction       & 2013               &  73                & NY                 & Woodside           &       NA           &      NA            &       NA           & NA                \\\\\n",
       "\t11 & 11                 & Canecorporation    & Health             & 2012               &   6                & NA                 & New York           & 10597009           & 7591189            &  3005820           &  7                \\\\\n",
       "\t14 & 14                 & Techline           & NA                 & 2006               &  65                & CA                 & San Ramon          & 13898119           & 5470303            &  8427816           & 23                \\\\\n",
       "\t15 & 15                 & Cityace            & NA                 & 2010               &  25                & CO                 & Louisville         &  9254614           & 6249498            &  3005116           &  6                \\\\\n",
       "\t17 & 17                 & Ganzlax            & IT Services        & 2011               &  75                & NJ                 & Iselin             & 14001180           &      NA            & 11901180           & 18                \\\\\n",
       "\t22 & 22                 & Lathotline         & Health             & NA                 & 103                & VA                 & McLean             &  9418303           & 7567233            &  1851070           &  2                \\\\\n",
       "\t44 & 44                 & Ganzgreen          & Construction       & 2010               & 224                & TN                 & Franklin           &       NA           &      NA            &       NA           &  9                \\\\\n",
       "\t84 & 84                 & Drilldrill         & Software           & 2010               &  30                & NA                 & San Francisco      &  7800620           & 2785799            &  5014821           & 17                \\\\\n",
       "\t267 & 267                & Circlechop         & Software           & 2010               &  14                & NA                 & San Francisco      &  9067070           & 5929828            &  3137242           & 20                \\\\\n",
       "\t332 & 332                & Westminster        & Financial Services & 2010               &  NA                & MI                 & Troy               & 11861652           & 5245126            &  6616526           & 15                \\\\\n",
       "\t379 & 379                & Stovepuck          & Retail             & 2013               &  73                & NA                 & New York           & 13814975           & 5904502            &  7910473           & 10                \\\\\n",
       "\\end{tabular}\n"
      ],
      "text/markdown": [
       "\n",
       "| <!--/--> | ID | Name | Industry | Inception | Employees | State | City | Revenue | Expenses | Profit | Growth | \n",
       "|---|---|---|---|---|---|---|---|---|---|---|---|\n",
       "| 3 | 3                  | Greenfax           | Retail             | 2012               |  NA                | SC                 | Greenville         |  9746272           | 1044375            |  8701897           | 16                 | \n",
       "| 8 | 8                  | Rednimdox          | Construction       | 2013               |  73                | NY                 | Woodside           |       NA           |      NA            |       NA           | NA                 | \n",
       "| 11 | 11                 | Canecorporation    | Health             | 2012               |   6                | NA                 | New York           | 10597009           | 7591189            |  3005820           |  7                 | \n",
       "| 14 | 14                 | Techline           | NA                 | 2006               |  65                | CA                 | San Ramon          | 13898119           | 5470303            |  8427816           | 23                 | \n",
       "| 15 | 15                 | Cityace            | NA                 | 2010               |  25                | CO                 | Louisville         |  9254614           | 6249498            |  3005116           |  6                 | \n",
       "| 17 | 17                 | Ganzlax            | IT Services        | 2011               |  75                | NJ                 | Iselin             | 14001180           |      NA            | 11901180           | 18                 | \n",
       "| 22 | 22                 | Lathotline         | Health             | NA                 | 103                | VA                 | McLean             |  9418303           | 7567233            |  1851070           |  2                 | \n",
       "| 44 | 44                 | Ganzgreen          | Construction       | 2010               | 224                | TN                 | Franklin           |       NA           |      NA            |       NA           |  9                 | \n",
       "| 84 | 84                 | Drilldrill         | Software           | 2010               |  30                | NA                 | San Francisco      |  7800620           | 2785799            |  5014821           | 17                 | \n",
       "| 267 | 267                | Circlechop         | Software           | 2010               |  14                | NA                 | San Francisco      |  9067070           | 5929828            |  3137242           | 20                 | \n",
       "| 332 | 332                | Westminster        | Financial Services | 2010               |  NA                | MI                 | Troy               | 11861652           | 5245126            |  6616526           | 15                 | \n",
       "| 379 | 379                | Stovepuck          | Retail             | 2013               |  73                | NA                 | New York           | 13814975           | 5904502            |  7910473           | 10                 | \n",
       "\n",
       "\n"
      ],
      "text/plain": [
       "    ID  Name            Industry           Inception Employees State\n",
       "3   3   Greenfax        Retail             2012       NA       SC   \n",
       "8   8   Rednimdox       Construction       2013       73       NY   \n",
       "11  11  Canecorporation Health             2012        6       NA   \n",
       "14  14  Techline        NA                 2006       65       CA   \n",
       "15  15  Cityace         NA                 2010       25       CO   \n",
       "17  17  Ganzlax         IT Services        2011       75       NJ   \n",
       "22  22  Lathotline      Health             NA        103       VA   \n",
       "44  44  Ganzgreen       Construction       2010      224       TN   \n",
       "84  84  Drilldrill      Software           2010       30       NA   \n",
       "267 267 Circlechop      Software           2010       14       NA   \n",
       "332 332 Westminster     Financial Services 2010       NA       MI   \n",
       "379 379 Stovepuck       Retail             2013       73       NA   \n",
       "    City          Revenue  Expenses Profit   Growth\n",
       "3   Greenville     9746272 1044375   8701897 16    \n",
       "8   Woodside            NA      NA        NA NA    \n",
       "11  New York      10597009 7591189   3005820  7    \n",
       "14  San Ramon     13898119 5470303   8427816 23    \n",
       "15  Louisville     9254614 6249498   3005116  6    \n",
       "17  Iselin        14001180      NA  11901180 18    \n",
       "22  McLean         9418303 7567233   1851070  2    \n",
       "44  Franklin            NA      NA        NA  9    \n",
       "84  San Francisco  7800620 2785799   5014821 17    \n",
       "267 San Francisco  9067070 5929828   3137242 20    \n",
       "332 Troy          11861652 5245126   6616526 15    \n",
       "379 New York      13814975 5904502   7910473 10    "
      ]
     },
     "metadata": {},
     "output_type": "display_data"
    }
   ],
   "source": [
    "fin[!complete.cases(fin),] # Get the TRUE/FALSE vector, and negate it to return the FALSE rows."
   ]
  },
  {
   "cell_type": "markdown",
   "metadata": {},
   "source": [
    "# Removing records with missing data\n",
    "\n",
    "Since our analyses will be heavily dependent on the Industry column, and we can't populate the incomplete records by Googling for the missing information since the dataset is fake, we have to remove an entire record if it has missing data in the Industry column.\n",
    "\n",
    "We will make a backup of the dataset since we are making significant changes."
   ]
  },
  {
   "cell_type": "code",
   "execution_count": 121,
   "metadata": {},
   "outputs": [],
   "source": [
    "fin_backup = fin  # In case we mess up the data"
   ]
  },
  {
   "cell_type": "markdown",
   "metadata": {},
   "source": [
    "Instead of removing unwanted records from the dataset, we can make a subset of the desired records. That is, subset by the negation of the is.na(fin$Industry) vector."
   ]
  },
  {
   "cell_type": "code",
   "execution_count": 122,
   "metadata": {},
   "outputs": [
    {
     "data": {
      "text/html": [
       "<table>\n",
       "<thead><tr><th></th><th scope=col>ID</th><th scope=col>Name</th><th scope=col>Industry</th><th scope=col>Inception</th><th scope=col>Employees</th><th scope=col>State</th><th scope=col>City</th><th scope=col>Revenue</th><th scope=col>Expenses</th><th scope=col>Profit</th><th scope=col>Growth</th></tr></thead>\n",
       "<tbody>\n",
       "\t<tr><th scope=row>14</th><td>14        </td><td>Techline  </td><td>NA        </td><td>2006      </td><td>65        </td><td>CA        </td><td>San Ramon </td><td>13898119  </td><td>5470303   </td><td>8427816   </td><td>23        </td></tr>\n",
       "\t<tr><th scope=row>15</th><td>15        </td><td>Cityace   </td><td>NA        </td><td>2010      </td><td>25        </td><td>CO        </td><td>Louisville</td><td> 9254614  </td><td>6249498   </td><td>3005116   </td><td> 6        </td></tr>\n",
       "</tbody>\n",
       "</table>\n"
      ],
      "text/latex": [
       "\\begin{tabular}{r|lllllllllll}\n",
       "  & ID & Name & Industry & Inception & Employees & State & City & Revenue & Expenses & Profit & Growth\\\\\n",
       "\\hline\n",
       "\t14 & 14         & Techline   & NA         & 2006       & 65         & CA         & San Ramon  & 13898119   & 5470303    & 8427816    & 23        \\\\\n",
       "\t15 & 15         & Cityace    & NA         & 2010       & 25         & CO         & Louisville &  9254614   & 6249498    & 3005116    &  6        \\\\\n",
       "\\end{tabular}\n"
      ],
      "text/markdown": [
       "\n",
       "| <!--/--> | ID | Name | Industry | Inception | Employees | State | City | Revenue | Expenses | Profit | Growth | \n",
       "|---|---|\n",
       "| 14 | 14         | Techline   | NA         | 2006       | 65         | CA         | San Ramon  | 13898119   | 5470303    | 8427816    | 23         | \n",
       "| 15 | 15         | Cityace    | NA         | 2010       | 25         | CO         | Louisville |  9254614   | 6249498    | 3005116    |  6         | \n",
       "\n",
       "\n"
      ],
      "text/plain": [
       "   ID Name     Industry Inception Employees State City       Revenue  Expenses\n",
       "14 14 Techline NA       2006      65        CA    San Ramon  13898119 5470303 \n",
       "15 15 Cityace  NA       2010      25        CO    Louisville  9254614 6249498 \n",
       "   Profit  Growth\n",
       "14 8427816 23    \n",
       "15 3005116  6    "
      ]
     },
     "metadata": {},
     "output_type": "display_data"
    },
    {
     "data": {
      "text/html": [
       "<table>\n",
       "<thead><tr><th></th><th scope=col>ID</th><th scope=col>Name</th><th scope=col>Industry</th><th scope=col>Inception</th><th scope=col>Employees</th><th scope=col>State</th><th scope=col>City</th><th scope=col>Revenue</th><th scope=col>Expenses</th><th scope=col>Profit</th><th scope=col>Growth</th></tr></thead>\n",
       "<tbody>\n",
       "\t<tr><th scope=row>1</th><td>1                  </td><td>Over-Hex           </td><td>Software           </td><td>2006               </td><td> 25                </td><td>TN                 </td><td>Franklin           </td><td> 9684527           </td><td>1130700            </td><td> 8553827           </td><td>19                 </td></tr>\n",
       "\t<tr><th scope=row>2</th><td>2                  </td><td>Unimattax          </td><td>IT Services        </td><td>2009               </td><td> 36                </td><td>PA                 </td><td>Newtown Square     </td><td>14016543           </td><td> 804035            </td><td>13212508           </td><td>20                 </td></tr>\n",
       "\t<tr><th scope=row>3</th><td>3                  </td><td>Greenfax           </td><td>Retail             </td><td>2012               </td><td> NA                </td><td>SC                 </td><td>Greenville         </td><td> 9746272           </td><td>1044375            </td><td> 8701897           </td><td>16                 </td></tr>\n",
       "\t<tr><th scope=row>4</th><td>4                  </td><td>Blacklane          </td><td>IT Services        </td><td>2011               </td><td> 66                </td><td>CA                 </td><td>Orange             </td><td>15359369           </td><td>4631808            </td><td>10727561           </td><td>19                 </td></tr>\n",
       "\t<tr><th scope=row>5</th><td>5                  </td><td>Yearflex           </td><td>Software           </td><td>2013               </td><td> 45                </td><td>WI                 </td><td>Madison            </td><td> 8567910           </td><td>4374841            </td><td> 4193069           </td><td>19                 </td></tr>\n",
       "\t<tr><th scope=row>6</th><td>6                  </td><td>Indigoplanet       </td><td>IT Services        </td><td>2013               </td><td> 60                </td><td>NJ                 </td><td>Manalapan          </td><td>12805452           </td><td>4626275            </td><td> 8179177           </td><td>22                 </td></tr>\n",
       "\t<tr><th scope=row>7</th><td>7                  </td><td>Treslam            </td><td>Financial Services </td><td>2009               </td><td>116                </td><td>MO                 </td><td>Clayton            </td><td> 5387469           </td><td>2127984            </td><td> 3259485           </td><td>17                 </td></tr>\n",
       "\t<tr><th scope=row>8</th><td>8                  </td><td>Rednimdox          </td><td>Construction       </td><td>2013               </td><td> 73                </td><td>NY                 </td><td>Woodside           </td><td>      NA           </td><td>     NA            </td><td>      NA           </td><td>NA                 </td></tr>\n",
       "\t<tr><th scope=row>9</th><td>9                  </td><td>Lamtone            </td><td>IT Services        </td><td>2009               </td><td> 55                </td><td>CA                 </td><td>San Ramon          </td><td>11757018           </td><td>6482465            </td><td> 5274553           </td><td>30                 </td></tr>\n",
       "\t<tr><th scope=row>10</th><td>10                 </td><td>Stripfind          </td><td>Financial Services </td><td>2010               </td><td> 25                </td><td>FL                 </td><td>Boca Raton         </td><td>12329371           </td><td> 916455            </td><td>11412916           </td><td>20                 </td></tr>\n",
       "\t<tr><th scope=row>11</th><td>11                 </td><td>Canecorporation    </td><td>Health             </td><td>2012               </td><td>  6                </td><td>NA                 </td><td>New York           </td><td>10597009           </td><td>7591189            </td><td> 3005820           </td><td> 7                 </td></tr>\n",
       "\t<tr><th scope=row>12</th><td>12                 </td><td>Mattouch           </td><td>IT Services        </td><td>2013               </td><td>  6                </td><td>WA                 </td><td>Bellevue           </td><td>14026934           </td><td>7429377            </td><td> 6597557           </td><td>26                 </td></tr>\n",
       "\t<tr><th scope=row>13</th><td>13                 </td><td>Techdrill          </td><td>Health             </td><td>2009               </td><td>  9                </td><td>MS                 </td><td>Flowood            </td><td>10573990           </td><td>7435363            </td><td> 3138627           </td><td> 8                 </td></tr>\n",
       "\t<tr><th scope=row>16</th><td>16                 </td><td>Kayelectronics     </td><td>Health             </td><td>2009               </td><td>687                </td><td>NC                 </td><td>Clayton            </td><td> 9451943           </td><td>3878113            </td><td> 5573830           </td><td> 4                 </td></tr>\n",
       "\t<tr><th scope=row>17</th><td>17                 </td><td>Ganzlax            </td><td>IT Services        </td><td>2011               </td><td> 75                </td><td>NJ                 </td><td>Iselin             </td><td>14001180           </td><td>     NA            </td><td>11901180           </td><td>18                 </td></tr>\n",
       "\t<tr><th scope=row>18</th><td>18                 </td><td>Trantraxlax        </td><td>Government Services</td><td>2011               </td><td> 35                </td><td>VA                 </td><td>Suffolk            </td><td>11088336           </td><td>5635276            </td><td> 5453060           </td><td> 7                 </td></tr>\n",
       "\t<tr><th scope=row>19</th><td>19                 </td><td>E-Zim              </td><td>Retail             </td><td>2008               </td><td>320                </td><td>OH                 </td><td>Monroe             </td><td>10746451           </td><td>4762319            </td><td> 5984132           </td><td>13                 </td></tr>\n",
       "\t<tr><th scope=row>20</th><td>20                 </td><td>Daltfase           </td><td>Software           </td><td>2011               </td><td> 78                </td><td>NC                 </td><td>Durham             </td><td>10410628           </td><td>6196409            </td><td> 4214219           </td><td>17                 </td></tr>\n",
       "\t<tr><th scope=row>21</th><td>21                 </td><td>Hotlane            </td><td>Government Services</td><td>2012               </td><td> 87                </td><td>AL                 </td><td>Huntsville         </td><td> 7978332           </td><td>5686574            </td><td> 2291758           </td><td> 2                 </td></tr>\n",
       "\t<tr><th scope=row>22</th><td>22                 </td><td>Lathotline         </td><td>Health             </td><td>NA                 </td><td>103                </td><td>VA                 </td><td>McLean             </td><td> 9418303           </td><td>7567233            </td><td> 1851070           </td><td> 2                 </td></tr>\n",
       "\t<tr><th scope=row>23</th><td>23                 </td><td>Lambam             </td><td>IT Services        </td><td>2012               </td><td>210                </td><td>SC                 </td><td>Columbia           </td><td>11950148           </td><td>4365512            </td><td> 7584636           </td><td>20                 </td></tr>\n",
       "\t<tr><th scope=row>24</th><td>24                 </td><td>Quozap             </td><td>Software           </td><td>2004               </td><td> 21                </td><td>NJ                 </td><td>Collingswood       </td><td> 8304480           </td><td>7019973            </td><td> 1284507           </td><td>20                 </td></tr>\n",
       "\t<tr><th scope=row>25</th><td>25                 </td><td>Tampware           </td><td>Construction       </td><td>2011               </td><td> 13                </td><td>TX                 </td><td>Houston            </td><td> 9785982           </td><td>2910756            </td><td> 6875226           </td><td>11                 </td></tr>\n",
       "\t<tr><th scope=row>26</th><td>26                 </td><td>Dalthow            </td><td>Health             </td><td>2000               </td><td> 20                </td><td>GA                 </td><td>Dacula             </td><td>10800718           </td><td>7731820            </td><td> 3068898           </td><td> 7                 </td></tr>\n",
       "\t<tr><th scope=row>27</th><td>27                 </td><td>Ranktech           </td><td>Government Services</td><td>2010               </td><td>607                </td><td>FL                 </td><td>Tampa              </td><td>10515557           </td><td>7439384            </td><td> 3076173           </td><td> 8                 </td></tr>\n",
       "\t<tr><th scope=row>28</th><td>28                 </td><td>Unadex             </td><td>Software           </td><td>2013               </td><td>280                </td><td>NC                 </td><td>Cary               </td><td> 5231275           </td><td>2388521            </td><td> 2842754           </td><td>19                 </td></tr>\n",
       "\t<tr><th scope=row>29</th><td>29                 </td><td>Groovecane         </td><td>Construction       </td><td>2011               </td><td> 17                </td><td>UT                 </td><td>South Jordan       </td><td> 6811168           </td><td>3560343            </td><td> 3250825           </td><td>15                 </td></tr>\n",
       "\t<tr><th scope=row>30</th><td>30                 </td><td>Tambase            </td><td>Software           </td><td>2010               </td><td> 29                </td><td>AZ                 </td><td>Scottsdale         </td><td> 9141817           </td><td>2394135            </td><td> 6747682           </td><td>21                 </td></tr>\n",
       "\t<tr><th scope=row>31</th><td>31                 </td><td>Georedfase         </td><td>IT Services        </td><td>2008               </td><td> 19                </td><td>VA                 </td><td>Vienna             </td><td>13165222           </td><td> 810126            </td><td>12355096           </td><td>16                 </td></tr>\n",
       "\t<tr><th scope=row>32</th><td>32                 </td><td>Konktraxbam        </td><td>Software           </td><td>2011               </td><td>  3                </td><td>WI                 </td><td>Franklin           </td><td>11504780           </td><td>4682545            </td><td> 6822235           </td><td>19                 </td></tr>\n",
       "\t<tr><th scope=row>...</th><td>...</td><td>...</td><td>...</td><td>...</td><td>...</td><td>...</td><td>...</td><td>...</td><td>...</td><td>...</td><td>...</td></tr>\n",
       "\t<tr><th scope=row>471</th><td>471                </td><td>Reveredtogether    </td><td>Health             </td><td>2012               </td><td> 106               </td><td>WA                 </td><td>Seattle            </td><td>10614892           </td><td>6960210            </td><td> 3654682           </td><td> 4                 </td></tr>\n",
       "\t<tr><th scope=row>472</th><td>472                </td><td>Langedprivacy      </td><td>Financial Services </td><td>2001               </td><td> 425               </td><td>TX                 </td><td>Austin             </td><td>13398400           </td><td>2562048            </td><td>10836352           </td><td>14                 </td></tr>\n",
       "\t<tr><th scope=row>473</th><td>473                </td><td>Rosychoke          </td><td>IT Services        </td><td>2011               </td><td> 348               </td><td>IN                 </td><td>Indianapolis       </td><td>14153970           </td><td>3408135            </td><td>10745835           </td><td>26                 </td></tr>\n",
       "\t<tr><th scope=row>474</th><td>474                </td><td>Valuesbilled       </td><td>IT Services        </td><td>2013               </td><td>  95               </td><td>NY                 </td><td>New York           </td><td>13214550           </td><td>7479813            </td><td> 5734737           </td><td>20                 </td></tr>\n",
       "\t<tr><th scope=row>475</th><td>475                </td><td>Stayspheroid       </td><td>Government Services</td><td>2011               </td><td>  80               </td><td>VA                 </td><td>Reston             </td><td> 8174923           </td><td>2093254            </td><td> 6081669           </td><td> 8                 </td></tr>\n",
       "\t<tr><th scope=row>476</th><td>476                </td><td>Barmpotfishified   </td><td>Health             </td><td>2013               </td><td> 168               </td><td>IA                 </td><td>Coralville         </td><td>10213365           </td><td>7045210            </td><td> 3168155           </td><td> 8                 </td></tr>\n",
       "\t<tr><th scope=row>477</th><td>477                </td><td>Soddenfurther      </td><td>Financial Services </td><td>2010               </td><td>  20               </td><td>CA                 </td><td>San Diego          </td><td> 9243036           </td><td>2517857            </td><td> 6725179           </td><td>19                 </td></tr>\n",
       "\t<tr><th scope=row>478</th><td>478                </td><td>Drudgelepe         </td><td>Health             </td><td>2009               </td><td>  22               </td><td>ID                 </td><td>Moscow             </td><td> 8786459           </td><td>6375919            </td><td> 2410540           </td><td> 3                 </td></tr>\n",
       "\t<tr><th scope=row>479</th><td>479                </td><td>Heinzvolary        </td><td>Health             </td><td>2014               </td><td>  29               </td><td>CA                 </td><td>Carlsbad           </td><td> 8725745           </td><td>3477540            </td><td> 5248205           </td><td>11                 </td></tr>\n",
       "\t<tr><th scope=row>480</th><td>480                </td><td>Excellencerecent   </td><td>Health             </td><td>2010               </td><td> 381               </td><td>TX                 </td><td>Farmers Branch     </td><td>10611567           </td><td>7617420            </td><td> 2994147           </td><td> 5                 </td></tr>\n",
       "\t<tr><th scope=row>481</th><td>481                </td><td>Condemnedgenuine   </td><td>Government Services</td><td>2013               </td><td>  28               </td><td>MD                 </td><td>Silver Spring      </td><td> 8998948           </td><td>4222422            </td><td> 4776526           </td><td> 6                 </td></tr>\n",
       "\t<tr><th scope=row>482</th><td>482                </td><td>Fatsohealth        </td><td>IT Services        </td><td>2009               </td><td>  21               </td><td>SC                 </td><td>Florence           </td><td>12239406           </td><td>5665024            </td><td> 6574382           </td><td>21                 </td></tr>\n",
       "\t<tr><th scope=row>483</th><td>483                </td><td>Abusivebong        </td><td>Construction       </td><td>2009               </td><td>   8               </td><td>WI                 </td><td>Oshkosh            </td><td> 8543321           </td><td>3841435            </td><td> 4701886           </td><td> 7                 </td></tr>\n",
       "\t<tr><th scope=row>484</th><td>484                </td><td>Baileycrowd        </td><td>Health             </td><td>2014               </td><td> 800               </td><td>OH                 </td><td>Twinsburg          </td><td> 9366573           </td><td>3619483            </td><td> 5747090           </td><td> 6                 </td></tr>\n",
       "\t<tr><th scope=row>485</th><td>485                </td><td>Foxwml             </td><td>Health             </td><td>2011               </td><td>  48               </td><td>PA                 </td><td>Plymouth Meeting   </td><td>10072452           </td><td>8335458            </td><td> 1736994           </td><td> 6                 </td></tr>\n",
       "\t<tr><th scope=row>486</th><td>486                </td><td>Serpentineappeals  </td><td>Financial Services </td><td>2013               </td><td>  48               </td><td>NV                 </td><td>henderson          </td><td>11673934           </td><td>1460147            </td><td>10213787           </td><td>23                 </td></tr>\n",
       "\t<tr><th scope=row>487</th><td>487                </td><td>Genusequ           </td><td>Construction       </td><td>2007               </td><td>  45               </td><td>NC                 </td><td>Greensboro         </td><td> 8498464           </td><td>5741773            </td><td> 2756691           </td><td>11                 </td></tr>\n",
       "\t<tr><th scope=row>488</th><td>488                </td><td>Fearwhimbrel       </td><td>Government Services</td><td>2013               </td><td> 100               </td><td>VA                 </td><td>Falls Church       </td><td>10637944           </td><td>7238539            </td><td> 3399405           </td><td> 4                 </td></tr>\n",
       "\t<tr><th scope=row>489</th><td>489                </td><td>Dwindlecertain     </td><td>Government Services</td><td>2008               </td><td> 566               </td><td>MD                 </td><td>Germantown         </td><td>14146990           </td><td>8289795            </td><td> 5857195           </td><td> 4                 </td></tr>\n",
       "\t<tr><th scope=row>490</th><td>490                </td><td>Suckedregister     </td><td>Retail             </td><td>2010               </td><td> 100               </td><td>TX                 </td><td>Houston            </td><td>11511235           </td><td>3995152            </td><td> 7516083           </td><td>10                 </td></tr>\n",
       "\t<tr><th scope=row>491</th><td>491                </td><td>Comparejson        </td><td>Construction       </td><td>2013               </td><td> 125               </td><td>IL                 </td><td>Glendale Heights   </td><td>12359532           </td><td>6527308            </td><td> 5832224           </td><td>11                 </td></tr>\n",
       "\t<tr><th scope=row>492</th><td>492                </td><td>Pickledcanoeing    </td><td>Retail             </td><td>2012               </td><td>  16               </td><td>OH                 </td><td>Medina             </td><td>11654196           </td><td>6460234            </td><td> 5193962           </td><td>10                 </td></tr>\n",
       "\t<tr><th scope=row>493</th><td>493                </td><td>Assurehelp         </td><td>IT Services        </td><td>2014               </td><td>  10               </td><td>MN                 </td><td>Minneapolis        </td><td>15019551           </td><td>4004040            </td><td>11015511           </td><td>18                 </td></tr>\n",
       "\t<tr><th scope=row>494</th><td>494                </td><td>Shrimpssecurity    </td><td>Government Services</td><td>2009               </td><td> 104               </td><td>DC                 </td><td>Washington         </td><td> 7919278           </td><td>5355504            </td><td> 2563774           </td><td> 5                 </td></tr>\n",
       "\t<tr><th scope=row>495</th><td>495                </td><td>Rawfishcomplete    </td><td>Financial Services </td><td>2012               </td><td> 124               </td><td>CA                 </td><td>Los Angeles        </td><td>10624949           </td><td>2951178            </td><td> 7673771           </td><td>22                 </td></tr>\n",
       "\t<tr><th scope=row>496</th><td>496                </td><td>Buretteadmirable   </td><td>IT Services        </td><td>2009               </td><td>  93               </td><td>ME                 </td><td>Portland           </td><td>15407450           </td><td>2833136            </td><td>12574314           </td><td>25                 </td></tr>\n",
       "\t<tr><th scope=row>497</th><td>497                </td><td>Inventtremendous   </td><td>Construction       </td><td>2009               </td><td>  24               </td><td>MN                 </td><td>Woodbury           </td><td> 9144857           </td><td>4755995            </td><td> 4388862           </td><td>11                 </td></tr>\n",
       "\t<tr><th scope=row>498</th><td>498                </td><td>Overviewparrot     </td><td>Retail             </td><td>2011               </td><td>7125               </td><td>TX                 </td><td>Fort Worth         </td><td>11134728           </td><td>5152110            </td><td> 5982618           </td><td>12                 </td></tr>\n",
       "\t<tr><th scope=row>499</th><td>499                </td><td>Belaguerra         </td><td>IT Services        </td><td>2010               </td><td> 140               </td><td>MI                 </td><td>Troy               </td><td>17387130           </td><td>1387784            </td><td>15999346           </td><td>23                 </td></tr>\n",
       "\t<tr><th scope=row>500</th><td>500                </td><td>Allpossible        </td><td>IT Services        </td><td>2011               </td><td>  24               </td><td>CA                 </td><td>Los Angeles        </td><td>11949706           </td><td> 689161            </td><td>11260545           </td><td>24                 </td></tr>\n",
       "</tbody>\n",
       "</table>\n"
      ],
      "text/latex": [
       "\\begin{tabular}{r|lllllllllll}\n",
       "  & ID & Name & Industry & Inception & Employees & State & City & Revenue & Expenses & Profit & Growth\\\\\n",
       "\\hline\n",
       "\t1 & 1                   & Over-Hex            & Software            & 2006                &  25                 & TN                  & Franklin            &  9684527            & 1130700             &  8553827            & 19                 \\\\\n",
       "\t2 & 2                   & Unimattax           & IT Services         & 2009                &  36                 & PA                  & Newtown Square      & 14016543            &  804035             & 13212508            & 20                 \\\\\n",
       "\t3 & 3                   & Greenfax            & Retail              & 2012                &  NA                 & SC                  & Greenville          &  9746272            & 1044375             &  8701897            & 16                 \\\\\n",
       "\t4 & 4                   & Blacklane           & IT Services         & 2011                &  66                 & CA                  & Orange              & 15359369            & 4631808             & 10727561            & 19                 \\\\\n",
       "\t5 & 5                   & Yearflex            & Software            & 2013                &  45                 & WI                  & Madison             &  8567910            & 4374841             &  4193069            & 19                 \\\\\n",
       "\t6 & 6                   & Indigoplanet        & IT Services         & 2013                &  60                 & NJ                  & Manalapan           & 12805452            & 4626275             &  8179177            & 22                 \\\\\n",
       "\t7 & 7                   & Treslam             & Financial Services  & 2009                & 116                 & MO                  & Clayton             &  5387469            & 2127984             &  3259485            & 17                 \\\\\n",
       "\t8 & 8                   & Rednimdox           & Construction        & 2013                &  73                 & NY                  & Woodside            &       NA            &      NA             &       NA            & NA                 \\\\\n",
       "\t9 & 9                   & Lamtone             & IT Services         & 2009                &  55                 & CA                  & San Ramon           & 11757018            & 6482465             &  5274553            & 30                 \\\\\n",
       "\t10 & 10                  & Stripfind           & Financial Services  & 2010                &  25                 & FL                  & Boca Raton          & 12329371            &  916455             & 11412916            & 20                 \\\\\n",
       "\t11 & 11                  & Canecorporation     & Health              & 2012                &   6                 & NA                  & New York            & 10597009            & 7591189             &  3005820            &  7                 \\\\\n",
       "\t12 & 12                  & Mattouch            & IT Services         & 2013                &   6                 & WA                  & Bellevue            & 14026934            & 7429377             &  6597557            & 26                 \\\\\n",
       "\t13 & 13                  & Techdrill           & Health              & 2009                &   9                 & MS                  & Flowood             & 10573990            & 7435363             &  3138627            &  8                 \\\\\n",
       "\t16 & 16                  & Kayelectronics      & Health              & 2009                & 687                 & NC                  & Clayton             &  9451943            & 3878113             &  5573830            &  4                 \\\\\n",
       "\t17 & 17                  & Ganzlax             & IT Services         & 2011                &  75                 & NJ                  & Iselin              & 14001180            &      NA             & 11901180            & 18                 \\\\\n",
       "\t18 & 18                  & Trantraxlax         & Government Services & 2011                &  35                 & VA                  & Suffolk             & 11088336            & 5635276             &  5453060            &  7                 \\\\\n",
       "\t19 & 19                  & E-Zim               & Retail              & 2008                & 320                 & OH                  & Monroe              & 10746451            & 4762319             &  5984132            & 13                 \\\\\n",
       "\t20 & 20                  & Daltfase            & Software            & 2011                &  78                 & NC                  & Durham              & 10410628            & 6196409             &  4214219            & 17                 \\\\\n",
       "\t21 & 21                  & Hotlane             & Government Services & 2012                &  87                 & AL                  & Huntsville          &  7978332            & 5686574             &  2291758            &  2                 \\\\\n",
       "\t22 & 22                  & Lathotline          & Health              & NA                  & 103                 & VA                  & McLean              &  9418303            & 7567233             &  1851070            &  2                 \\\\\n",
       "\t23 & 23                  & Lambam              & IT Services         & 2012                & 210                 & SC                  & Columbia            & 11950148            & 4365512             &  7584636            & 20                 \\\\\n",
       "\t24 & 24                  & Quozap              & Software            & 2004                &  21                 & NJ                  & Collingswood        &  8304480            & 7019973             &  1284507            & 20                 \\\\\n",
       "\t25 & 25                  & Tampware            & Construction        & 2011                &  13                 & TX                  & Houston             &  9785982            & 2910756             &  6875226            & 11                 \\\\\n",
       "\t26 & 26                  & Dalthow             & Health              & 2000                &  20                 & GA                  & Dacula              & 10800718            & 7731820             &  3068898            &  7                 \\\\\n",
       "\t27 & 27                  & Ranktech            & Government Services & 2010                & 607                 & FL                  & Tampa               & 10515557            & 7439384             &  3076173            &  8                 \\\\\n",
       "\t28 & 28                  & Unadex              & Software            & 2013                & 280                 & NC                  & Cary                &  5231275            & 2388521             &  2842754            & 19                 \\\\\n",
       "\t29 & 29                  & Groovecane          & Construction        & 2011                &  17                 & UT                  & South Jordan        &  6811168            & 3560343             &  3250825            & 15                 \\\\\n",
       "\t30 & 30                  & Tambase             & Software            & 2010                &  29                 & AZ                  & Scottsdale          &  9141817            & 2394135             &  6747682            & 21                 \\\\\n",
       "\t31 & 31                  & Georedfase          & IT Services         & 2008                &  19                 & VA                  & Vienna              & 13165222            &  810126             & 12355096            & 16                 \\\\\n",
       "\t32 & 32                  & Konktraxbam         & Software            & 2011                &   3                 & WI                  & Franklin            & 11504780            & 4682545             &  6822235            & 19                 \\\\\n",
       "\t... & ... & ... & ... & ... & ... & ... & ... & ... & ... & ... & ...\\\\\n",
       "\t471 & 471                 & Reveredtogether     & Health              & 2012                &  106                & WA                  & Seattle             & 10614892            & 6960210             &  3654682            &  4                 \\\\\n",
       "\t472 & 472                 & Langedprivacy       & Financial Services  & 2001                &  425                & TX                  & Austin              & 13398400            & 2562048             & 10836352            & 14                 \\\\\n",
       "\t473 & 473                 & Rosychoke           & IT Services         & 2011                &  348                & IN                  & Indianapolis        & 14153970            & 3408135             & 10745835            & 26                 \\\\\n",
       "\t474 & 474                 & Valuesbilled        & IT Services         & 2013                &   95                & NY                  & New York            & 13214550            & 7479813             &  5734737            & 20                 \\\\\n",
       "\t475 & 475                 & Stayspheroid        & Government Services & 2011                &   80                & VA                  & Reston              &  8174923            & 2093254             &  6081669            &  8                 \\\\\n",
       "\t476 & 476                 & Barmpotfishified    & Health              & 2013                &  168                & IA                  & Coralville          & 10213365            & 7045210             &  3168155            &  8                 \\\\\n",
       "\t477 & 477                 & Soddenfurther       & Financial Services  & 2010                &   20                & CA                  & San Diego           &  9243036            & 2517857             &  6725179            & 19                 \\\\\n",
       "\t478 & 478                 & Drudgelepe          & Health              & 2009                &   22                & ID                  & Moscow              &  8786459            & 6375919             &  2410540            &  3                 \\\\\n",
       "\t479 & 479                 & Heinzvolary         & Health              & 2014                &   29                & CA                  & Carlsbad            &  8725745            & 3477540             &  5248205            & 11                 \\\\\n",
       "\t480 & 480                 & Excellencerecent    & Health              & 2010                &  381                & TX                  & Farmers Branch      & 10611567            & 7617420             &  2994147            &  5                 \\\\\n",
       "\t481 & 481                 & Condemnedgenuine    & Government Services & 2013                &   28                & MD                  & Silver Spring       &  8998948            & 4222422             &  4776526            &  6                 \\\\\n",
       "\t482 & 482                 & Fatsohealth         & IT Services         & 2009                &   21                & SC                  & Florence            & 12239406            & 5665024             &  6574382            & 21                 \\\\\n",
       "\t483 & 483                 & Abusivebong         & Construction        & 2009                &    8                & WI                  & Oshkosh             &  8543321            & 3841435             &  4701886            &  7                 \\\\\n",
       "\t484 & 484                 & Baileycrowd         & Health              & 2014                &  800                & OH                  & Twinsburg           &  9366573            & 3619483             &  5747090            &  6                 \\\\\n",
       "\t485 & 485                 & Foxwml              & Health              & 2011                &   48                & PA                  & Plymouth Meeting    & 10072452            & 8335458             &  1736994            &  6                 \\\\\n",
       "\t486 & 486                 & Serpentineappeals   & Financial Services  & 2013                &   48                & NV                  & henderson           & 11673934            & 1460147             & 10213787            & 23                 \\\\\n",
       "\t487 & 487                 & Genusequ            & Construction        & 2007                &   45                & NC                  & Greensboro          &  8498464            & 5741773             &  2756691            & 11                 \\\\\n",
       "\t488 & 488                 & Fearwhimbrel        & Government Services & 2013                &  100                & VA                  & Falls Church        & 10637944            & 7238539             &  3399405            &  4                 \\\\\n",
       "\t489 & 489                 & Dwindlecertain      & Government Services & 2008                &  566                & MD                  & Germantown          & 14146990            & 8289795             &  5857195            &  4                 \\\\\n",
       "\t490 & 490                 & Suckedregister      & Retail              & 2010                &  100                & TX                  & Houston             & 11511235            & 3995152             &  7516083            & 10                 \\\\\n",
       "\t491 & 491                 & Comparejson         & Construction        & 2013                &  125                & IL                  & Glendale Heights    & 12359532            & 6527308             &  5832224            & 11                 \\\\\n",
       "\t492 & 492                 & Pickledcanoeing     & Retail              & 2012                &   16                & OH                  & Medina              & 11654196            & 6460234             &  5193962            & 10                 \\\\\n",
       "\t493 & 493                 & Assurehelp          & IT Services         & 2014                &   10                & MN                  & Minneapolis         & 15019551            & 4004040             & 11015511            & 18                 \\\\\n",
       "\t494 & 494                 & Shrimpssecurity     & Government Services & 2009                &  104                & DC                  & Washington          &  7919278            & 5355504             &  2563774            &  5                 \\\\\n",
       "\t495 & 495                 & Rawfishcomplete     & Financial Services  & 2012                &  124                & CA                  & Los Angeles         & 10624949            & 2951178             &  7673771            & 22                 \\\\\n",
       "\t496 & 496                 & Buretteadmirable    & IT Services         & 2009                &   93                & ME                  & Portland            & 15407450            & 2833136             & 12574314            & 25                 \\\\\n",
       "\t497 & 497                 & Inventtremendous    & Construction        & 2009                &   24                & MN                  & Woodbury            &  9144857            & 4755995             &  4388862            & 11                 \\\\\n",
       "\t498 & 498                 & Overviewparrot      & Retail              & 2011                & 7125                & TX                  & Fort Worth          & 11134728            & 5152110             &  5982618            & 12                 \\\\\n",
       "\t499 & 499                 & Belaguerra          & IT Services         & 2010                &  140                & MI                  & Troy                & 17387130            & 1387784             & 15999346            & 23                 \\\\\n",
       "\t500 & 500                 & Allpossible         & IT Services         & 2011                &   24                & CA                  & Los Angeles         & 11949706            &  689161             & 11260545            & 24                 \\\\\n",
       "\\end{tabular}\n"
      ],
      "text/markdown": [
       "\n",
       "| <!--/--> | ID | Name | Industry | Inception | Employees | State | City | Revenue | Expenses | Profit | Growth | \n",
       "|---|---|---|---|---|---|---|---|---|---|---|---|---|---|---|---|---|---|---|---|---|---|---|---|---|---|---|---|---|---|---|---|---|---|---|---|---|---|---|---|---|---|---|---|---|---|---|---|---|---|---|---|---|---|---|---|---|---|---|---|---|\n",
       "| 1 | 1                   | Over-Hex            | Software            | 2006                |  25                 | TN                  | Franklin            |  9684527            | 1130700             |  8553827            | 19                  | \n",
       "| 2 | 2                   | Unimattax           | IT Services         | 2009                |  36                 | PA                  | Newtown Square      | 14016543            |  804035             | 13212508            | 20                  | \n",
       "| 3 | 3                   | Greenfax            | Retail              | 2012                |  NA                 | SC                  | Greenville          |  9746272            | 1044375             |  8701897            | 16                  | \n",
       "| 4 | 4                   | Blacklane           | IT Services         | 2011                |  66                 | CA                  | Orange              | 15359369            | 4631808             | 10727561            | 19                  | \n",
       "| 5 | 5                   | Yearflex            | Software            | 2013                |  45                 | WI                  | Madison             |  8567910            | 4374841             |  4193069            | 19                  | \n",
       "| 6 | 6                   | Indigoplanet        | IT Services         | 2013                |  60                 | NJ                  | Manalapan           | 12805452            | 4626275             |  8179177            | 22                  | \n",
       "| 7 | 7                   | Treslam             | Financial Services  | 2009                | 116                 | MO                  | Clayton             |  5387469            | 2127984             |  3259485            | 17                  | \n",
       "| 8 | 8                   | Rednimdox           | Construction        | 2013                |  73                 | NY                  | Woodside            |       NA            |      NA             |       NA            | NA                  | \n",
       "| 9 | 9                   | Lamtone             | IT Services         | 2009                |  55                 | CA                  | San Ramon           | 11757018            | 6482465             |  5274553            | 30                  | \n",
       "| 10 | 10                  | Stripfind           | Financial Services  | 2010                |  25                 | FL                  | Boca Raton          | 12329371            |  916455             | 11412916            | 20                  | \n",
       "| 11 | 11                  | Canecorporation     | Health              | 2012                |   6                 | NA                  | New York            | 10597009            | 7591189             |  3005820            |  7                  | \n",
       "| 12 | 12                  | Mattouch            | IT Services         | 2013                |   6                 | WA                  | Bellevue            | 14026934            | 7429377             |  6597557            | 26                  | \n",
       "| 13 | 13                  | Techdrill           | Health              | 2009                |   9                 | MS                  | Flowood             | 10573990            | 7435363             |  3138627            |  8                  | \n",
       "| 16 | 16                  | Kayelectronics      | Health              | 2009                | 687                 | NC                  | Clayton             |  9451943            | 3878113             |  5573830            |  4                  | \n",
       "| 17 | 17                  | Ganzlax             | IT Services         | 2011                |  75                 | NJ                  | Iselin              | 14001180            |      NA             | 11901180            | 18                  | \n",
       "| 18 | 18                  | Trantraxlax         | Government Services | 2011                |  35                 | VA                  | Suffolk             | 11088336            | 5635276             |  5453060            |  7                  | \n",
       "| 19 | 19                  | E-Zim               | Retail              | 2008                | 320                 | OH                  | Monroe              | 10746451            | 4762319             |  5984132            | 13                  | \n",
       "| 20 | 20                  | Daltfase            | Software            | 2011                |  78                 | NC                  | Durham              | 10410628            | 6196409             |  4214219            | 17                  | \n",
       "| 21 | 21                  | Hotlane             | Government Services | 2012                |  87                 | AL                  | Huntsville          |  7978332            | 5686574             |  2291758            |  2                  | \n",
       "| 22 | 22                  | Lathotline          | Health              | NA                  | 103                 | VA                  | McLean              |  9418303            | 7567233             |  1851070            |  2                  | \n",
       "| 23 | 23                  | Lambam              | IT Services         | 2012                | 210                 | SC                  | Columbia            | 11950148            | 4365512             |  7584636            | 20                  | \n",
       "| 24 | 24                  | Quozap              | Software            | 2004                |  21                 | NJ                  | Collingswood        |  8304480            | 7019973             |  1284507            | 20                  | \n",
       "| 25 | 25                  | Tampware            | Construction        | 2011                |  13                 | TX                  | Houston             |  9785982            | 2910756             |  6875226            | 11                  | \n",
       "| 26 | 26                  | Dalthow             | Health              | 2000                |  20                 | GA                  | Dacula              | 10800718            | 7731820             |  3068898            |  7                  | \n",
       "| 27 | 27                  | Ranktech            | Government Services | 2010                | 607                 | FL                  | Tampa               | 10515557            | 7439384             |  3076173            |  8                  | \n",
       "| 28 | 28                  | Unadex              | Software            | 2013                | 280                 | NC                  | Cary                |  5231275            | 2388521             |  2842754            | 19                  | \n",
       "| 29 | 29                  | Groovecane          | Construction        | 2011                |  17                 | UT                  | South Jordan        |  6811168            | 3560343             |  3250825            | 15                  | \n",
       "| 30 | 30                  | Tambase             | Software            | 2010                |  29                 | AZ                  | Scottsdale          |  9141817            | 2394135             |  6747682            | 21                  | \n",
       "| 31 | 31                  | Georedfase          | IT Services         | 2008                |  19                 | VA                  | Vienna              | 13165222            |  810126             | 12355096            | 16                  | \n",
       "| 32 | 32                  | Konktraxbam         | Software            | 2011                |   3                 | WI                  | Franklin            | 11504780            | 4682545             |  6822235            | 19                  | \n",
       "| ... | ... | ... | ... | ... | ... | ... | ... | ... | ... | ... | ... | \n",
       "| 471 | 471                 | Reveredtogether     | Health              | 2012                |  106                | WA                  | Seattle             | 10614892            | 6960210             |  3654682            |  4                  | \n",
       "| 472 | 472                 | Langedprivacy       | Financial Services  | 2001                |  425                | TX                  | Austin              | 13398400            | 2562048             | 10836352            | 14                  | \n",
       "| 473 | 473                 | Rosychoke           | IT Services         | 2011                |  348                | IN                  | Indianapolis        | 14153970            | 3408135             | 10745835            | 26                  | \n",
       "| 474 | 474                 | Valuesbilled        | IT Services         | 2013                |   95                | NY                  | New York            | 13214550            | 7479813             |  5734737            | 20                  | \n",
       "| 475 | 475                 | Stayspheroid        | Government Services | 2011                |   80                | VA                  | Reston              |  8174923            | 2093254             |  6081669            |  8                  | \n",
       "| 476 | 476                 | Barmpotfishified    | Health              | 2013                |  168                | IA                  | Coralville          | 10213365            | 7045210             |  3168155            |  8                  | \n",
       "| 477 | 477                 | Soddenfurther       | Financial Services  | 2010                |   20                | CA                  | San Diego           |  9243036            | 2517857             |  6725179            | 19                  | \n",
       "| 478 | 478                 | Drudgelepe          | Health              | 2009                |   22                | ID                  | Moscow              |  8786459            | 6375919             |  2410540            |  3                  | \n",
       "| 479 | 479                 | Heinzvolary         | Health              | 2014                |   29                | CA                  | Carlsbad            |  8725745            | 3477540             |  5248205            | 11                  | \n",
       "| 480 | 480                 | Excellencerecent    | Health              | 2010                |  381                | TX                  | Farmers Branch      | 10611567            | 7617420             |  2994147            |  5                  | \n",
       "| 481 | 481                 | Condemnedgenuine    | Government Services | 2013                |   28                | MD                  | Silver Spring       |  8998948            | 4222422             |  4776526            |  6                  | \n",
       "| 482 | 482                 | Fatsohealth         | IT Services         | 2009                |   21                | SC                  | Florence            | 12239406            | 5665024             |  6574382            | 21                  | \n",
       "| 483 | 483                 | Abusivebong         | Construction        | 2009                |    8                | WI                  | Oshkosh             |  8543321            | 3841435             |  4701886            |  7                  | \n",
       "| 484 | 484                 | Baileycrowd         | Health              | 2014                |  800                | OH                  | Twinsburg           |  9366573            | 3619483             |  5747090            |  6                  | \n",
       "| 485 | 485                 | Foxwml              | Health              | 2011                |   48                | PA                  | Plymouth Meeting    | 10072452            | 8335458             |  1736994            |  6                  | \n",
       "| 486 | 486                 | Serpentineappeals   | Financial Services  | 2013                |   48                | NV                  | henderson           | 11673934            | 1460147             | 10213787            | 23                  | \n",
       "| 487 | 487                 | Genusequ            | Construction        | 2007                |   45                | NC                  | Greensboro          |  8498464            | 5741773             |  2756691            | 11                  | \n",
       "| 488 | 488                 | Fearwhimbrel        | Government Services | 2013                |  100                | VA                  | Falls Church        | 10637944            | 7238539             |  3399405            |  4                  | \n",
       "| 489 | 489                 | Dwindlecertain      | Government Services | 2008                |  566                | MD                  | Germantown          | 14146990            | 8289795             |  5857195            |  4                  | \n",
       "| 490 | 490                 | Suckedregister      | Retail              | 2010                |  100                | TX                  | Houston             | 11511235            | 3995152             |  7516083            | 10                  | \n",
       "| 491 | 491                 | Comparejson         | Construction        | 2013                |  125                | IL                  | Glendale Heights    | 12359532            | 6527308             |  5832224            | 11                  | \n",
       "| 492 | 492                 | Pickledcanoeing     | Retail              | 2012                |   16                | OH                  | Medina              | 11654196            | 6460234             |  5193962            | 10                  | \n",
       "| 493 | 493                 | Assurehelp          | IT Services         | 2014                |   10                | MN                  | Minneapolis         | 15019551            | 4004040             | 11015511            | 18                  | \n",
       "| 494 | 494                 | Shrimpssecurity     | Government Services | 2009                |  104                | DC                  | Washington          |  7919278            | 5355504             |  2563774            |  5                  | \n",
       "| 495 | 495                 | Rawfishcomplete     | Financial Services  | 2012                |  124                | CA                  | Los Angeles         | 10624949            | 2951178             |  7673771            | 22                  | \n",
       "| 496 | 496                 | Buretteadmirable    | IT Services         | 2009                |   93                | ME                  | Portland            | 15407450            | 2833136             | 12574314            | 25                  | \n",
       "| 497 | 497                 | Inventtremendous    | Construction        | 2009                |   24                | MN                  | Woodbury            |  9144857            | 4755995             |  4388862            | 11                  | \n",
       "| 498 | 498                 | Overviewparrot      | Retail              | 2011                | 7125                | TX                  | Fort Worth          | 11134728            | 5152110             |  5982618            | 12                  | \n",
       "| 499 | 499                 | Belaguerra          | IT Services         | 2010                |  140                | MI                  | Troy                | 17387130            | 1387784             | 15999346            | 23                  | \n",
       "| 500 | 500                 | Allpossible         | IT Services         | 2011                |   24                | CA                  | Los Angeles         | 11949706            |  689161             | 11260545            | 24                  | \n",
       "\n",
       "\n"
      ],
      "text/plain": [
       "    ID  Name              Industry            Inception Employees State\n",
       "1   1   Over-Hex          Software            2006       25       TN   \n",
       "2   2   Unimattax         IT Services         2009       36       PA   \n",
       "3   3   Greenfax          Retail              2012       NA       SC   \n",
       "4   4   Blacklane         IT Services         2011       66       CA   \n",
       "5   5   Yearflex          Software            2013       45       WI   \n",
       "6   6   Indigoplanet      IT Services         2013       60       NJ   \n",
       "7   7   Treslam           Financial Services  2009      116       MO   \n",
       "8   8   Rednimdox         Construction        2013       73       NY   \n",
       "9   9   Lamtone           IT Services         2009       55       CA   \n",
       "10  10  Stripfind         Financial Services  2010       25       FL   \n",
       "11  11  Canecorporation   Health              2012        6       NA   \n",
       "12  12  Mattouch          IT Services         2013        6       WA   \n",
       "13  13  Techdrill         Health              2009        9       MS   \n",
       "16  16  Kayelectronics    Health              2009      687       NC   \n",
       "17  17  Ganzlax           IT Services         2011       75       NJ   \n",
       "18  18  Trantraxlax       Government Services 2011       35       VA   \n",
       "19  19  E-Zim             Retail              2008      320       OH   \n",
       "20  20  Daltfase          Software            2011       78       NC   \n",
       "21  21  Hotlane           Government Services 2012       87       AL   \n",
       "22  22  Lathotline        Health              NA        103       VA   \n",
       "23  23  Lambam            IT Services         2012      210       SC   \n",
       "24  24  Quozap            Software            2004       21       NJ   \n",
       "25  25  Tampware          Construction        2011       13       TX   \n",
       "26  26  Dalthow           Health              2000       20       GA   \n",
       "27  27  Ranktech          Government Services 2010      607       FL   \n",
       "28  28  Unadex            Software            2013      280       NC   \n",
       "29  29  Groovecane        Construction        2011       17       UT   \n",
       "30  30  Tambase           Software            2010       29       AZ   \n",
       "31  31  Georedfase        IT Services         2008       19       VA   \n",
       "32  32  Konktraxbam       Software            2011        3       WI   \n",
       "... ... ...               ...                 ...       ...       ...  \n",
       "471 471 Reveredtogether   Health              2012       106      WA   \n",
       "472 472 Langedprivacy     Financial Services  2001       425      TX   \n",
       "473 473 Rosychoke         IT Services         2011       348      IN   \n",
       "474 474 Valuesbilled      IT Services         2013        95      NY   \n",
       "475 475 Stayspheroid      Government Services 2011        80      VA   \n",
       "476 476 Barmpotfishified  Health              2013       168      IA   \n",
       "477 477 Soddenfurther     Financial Services  2010        20      CA   \n",
       "478 478 Drudgelepe        Health              2009        22      ID   \n",
       "479 479 Heinzvolary       Health              2014        29      CA   \n",
       "480 480 Excellencerecent  Health              2010       381      TX   \n",
       "481 481 Condemnedgenuine  Government Services 2013        28      MD   \n",
       "482 482 Fatsohealth       IT Services         2009        21      SC   \n",
       "483 483 Abusivebong       Construction        2009         8      WI   \n",
       "484 484 Baileycrowd       Health              2014       800      OH   \n",
       "485 485 Foxwml            Health              2011        48      PA   \n",
       "486 486 Serpentineappeals Financial Services  2013        48      NV   \n",
       "487 487 Genusequ          Construction        2007        45      NC   \n",
       "488 488 Fearwhimbrel      Government Services 2013       100      VA   \n",
       "489 489 Dwindlecertain    Government Services 2008       566      MD   \n",
       "490 490 Suckedregister    Retail              2010       100      TX   \n",
       "491 491 Comparejson       Construction        2013       125      IL   \n",
       "492 492 Pickledcanoeing   Retail              2012        16      OH   \n",
       "493 493 Assurehelp        IT Services         2014        10      MN   \n",
       "494 494 Shrimpssecurity   Government Services 2009       104      DC   \n",
       "495 495 Rawfishcomplete   Financial Services  2012       124      CA   \n",
       "496 496 Buretteadmirable  IT Services         2009        93      ME   \n",
       "497 497 Inventtremendous  Construction        2009        24      MN   \n",
       "498 498 Overviewparrot    Retail              2011      7125      TX   \n",
       "499 499 Belaguerra        IT Services         2010       140      MI   \n",
       "500 500 Allpossible       IT Services         2011        24      CA   \n",
       "    City             Revenue  Expenses Profit   Growth\n",
       "1   Franklin          9684527 1130700   8553827 19    \n",
       "2   Newtown Square   14016543  804035  13212508 20    \n",
       "3   Greenville        9746272 1044375   8701897 16    \n",
       "4   Orange           15359369 4631808  10727561 19    \n",
       "5   Madison           8567910 4374841   4193069 19    \n",
       "6   Manalapan        12805452 4626275   8179177 22    \n",
       "7   Clayton           5387469 2127984   3259485 17    \n",
       "8   Woodside               NA      NA        NA NA    \n",
       "9   San Ramon        11757018 6482465   5274553 30    \n",
       "10  Boca Raton       12329371  916455  11412916 20    \n",
       "11  New York         10597009 7591189   3005820  7    \n",
       "12  Bellevue         14026934 7429377   6597557 26    \n",
       "13  Flowood          10573990 7435363   3138627  8    \n",
       "16  Clayton           9451943 3878113   5573830  4    \n",
       "17  Iselin           14001180      NA  11901180 18    \n",
       "18  Suffolk          11088336 5635276   5453060  7    \n",
       "19  Monroe           10746451 4762319   5984132 13    \n",
       "20  Durham           10410628 6196409   4214219 17    \n",
       "21  Huntsville        7978332 5686574   2291758  2    \n",
       "22  McLean            9418303 7567233   1851070  2    \n",
       "23  Columbia         11950148 4365512   7584636 20    \n",
       "24  Collingswood      8304480 7019973   1284507 20    \n",
       "25  Houston           9785982 2910756   6875226 11    \n",
       "26  Dacula           10800718 7731820   3068898  7    \n",
       "27  Tampa            10515557 7439384   3076173  8    \n",
       "28  Cary              5231275 2388521   2842754 19    \n",
       "29  South Jordan      6811168 3560343   3250825 15    \n",
       "30  Scottsdale        9141817 2394135   6747682 21    \n",
       "31  Vienna           13165222  810126  12355096 16    \n",
       "32  Franklin         11504780 4682545   6822235 19    \n",
       "... ...              ...      ...      ...      ...   \n",
       "471 Seattle          10614892 6960210   3654682  4    \n",
       "472 Austin           13398400 2562048  10836352 14    \n",
       "473 Indianapolis     14153970 3408135  10745835 26    \n",
       "474 New York         13214550 7479813   5734737 20    \n",
       "475 Reston            8174923 2093254   6081669  8    \n",
       "476 Coralville       10213365 7045210   3168155  8    \n",
       "477 San Diego         9243036 2517857   6725179 19    \n",
       "478 Moscow            8786459 6375919   2410540  3    \n",
       "479 Carlsbad          8725745 3477540   5248205 11    \n",
       "480 Farmers Branch   10611567 7617420   2994147  5    \n",
       "481 Silver Spring     8998948 4222422   4776526  6    \n",
       "482 Florence         12239406 5665024   6574382 21    \n",
       "483 Oshkosh           8543321 3841435   4701886  7    \n",
       "484 Twinsburg         9366573 3619483   5747090  6    \n",
       "485 Plymouth Meeting 10072452 8335458   1736994  6    \n",
       "486 henderson        11673934 1460147  10213787 23    \n",
       "487 Greensboro        8498464 5741773   2756691 11    \n",
       "488 Falls Church     10637944 7238539   3399405  4    \n",
       "489 Germantown       14146990 8289795   5857195  4    \n",
       "490 Houston          11511235 3995152   7516083 10    \n",
       "491 Glendale Heights 12359532 6527308   5832224 11    \n",
       "492 Medina           11654196 6460234   5193962 10    \n",
       "493 Minneapolis      15019551 4004040  11015511 18    \n",
       "494 Washington        7919278 5355504   2563774  5    \n",
       "495 Los Angeles      10624949 2951178   7673771 22    \n",
       "496 Portland         15407450 2833136  12574314 25    \n",
       "497 Woodbury          9144857 4755995   4388862 11    \n",
       "498 Fort Worth       11134728 5152110   5982618 12    \n",
       "499 Troy             17387130 1387784  15999346 23    \n",
       "500 Los Angeles      11949706  689161  11260545 24    "
      ]
     },
     "metadata": {},
     "output_type": "display_data"
    }
   ],
   "source": [
    "fin[is.na(fin$Industry),]\n",
    "fin[!is.na(fin$Industry),]  # Opposite\n",
    "fin = fin[!is.na(fin$Industry),]"
   ]
  },
  {
   "cell_type": "markdown",
   "metadata": {},
   "source": [
    "# Resetting the dataframe index\n",
    "\n",
    "Since we removed a few records from the dataset, we must reset the DataFrame's indexing because R doesn't do this automatically like Microsoft Excel would.\n",
    "\n",
    "It still appears that the DataFrame has its original 500 records, which we know is false. Rows 14 and 15 are removed."
   ]
  },
  {
   "cell_type": "code",
   "execution_count": 123,
   "metadata": {
    "scrolled": false
   },
   "outputs": [
    {
     "data": {
      "text/html": [
       "<table>\n",
       "<thead><tr><th></th><th scope=col>ID</th><th scope=col>Name</th><th scope=col>Industry</th><th scope=col>Inception</th><th scope=col>Employees</th><th scope=col>State</th><th scope=col>City</th><th scope=col>Revenue</th><th scope=col>Expenses</th><th scope=col>Profit</th><th scope=col>Growth</th></tr></thead>\n",
       "<tbody>\n",
       "\t<tr><th scope=row>495</th><td>495               </td><td>Rawfishcomplete   </td><td>Financial Services</td><td>2012              </td><td> 124              </td><td>CA                </td><td>Los Angeles       </td><td>10624949          </td><td>2951178           </td><td> 7673771          </td><td>22                </td></tr>\n",
       "\t<tr><th scope=row>496</th><td>496               </td><td>Buretteadmirable  </td><td>IT Services       </td><td>2009              </td><td>  93              </td><td>ME                </td><td>Portland          </td><td>15407450          </td><td>2833136           </td><td>12574314          </td><td>25                </td></tr>\n",
       "\t<tr><th scope=row>497</th><td>497               </td><td>Inventtremendous  </td><td>Construction      </td><td>2009              </td><td>  24              </td><td>MN                </td><td>Woodbury          </td><td> 9144857          </td><td>4755995           </td><td> 4388862          </td><td>11                </td></tr>\n",
       "\t<tr><th scope=row>498</th><td>498               </td><td>Overviewparrot    </td><td>Retail            </td><td>2011              </td><td>7125              </td><td>TX                </td><td>Fort Worth        </td><td>11134728          </td><td>5152110           </td><td> 5982618          </td><td>12                </td></tr>\n",
       "\t<tr><th scope=row>499</th><td>499               </td><td>Belaguerra        </td><td>IT Services       </td><td>2010              </td><td> 140              </td><td>MI                </td><td>Troy              </td><td>17387130          </td><td>1387784           </td><td>15999346          </td><td>23                </td></tr>\n",
       "\t<tr><th scope=row>500</th><td>500               </td><td>Allpossible       </td><td>IT Services       </td><td>2011              </td><td>  24              </td><td>CA                </td><td>Los Angeles       </td><td>11949706          </td><td> 689161           </td><td>11260545          </td><td>24                </td></tr>\n",
       "</tbody>\n",
       "</table>\n"
      ],
      "text/latex": [
       "\\begin{tabular}{r|lllllllllll}\n",
       "  & ID & Name & Industry & Inception & Employees & State & City & Revenue & Expenses & Profit & Growth\\\\\n",
       "\\hline\n",
       "\t495 & 495                & Rawfishcomplete    & Financial Services & 2012               &  124               & CA                 & Los Angeles        & 10624949           & 2951178            &  7673771           & 22                \\\\\n",
       "\t496 & 496                & Buretteadmirable   & IT Services        & 2009               &   93               & ME                 & Portland           & 15407450           & 2833136            & 12574314           & 25                \\\\\n",
       "\t497 & 497                & Inventtremendous   & Construction       & 2009               &   24               & MN                 & Woodbury           &  9144857           & 4755995            &  4388862           & 11                \\\\\n",
       "\t498 & 498                & Overviewparrot     & Retail             & 2011               & 7125               & TX                 & Fort Worth         & 11134728           & 5152110            &  5982618           & 12                \\\\\n",
       "\t499 & 499                & Belaguerra         & IT Services        & 2010               &  140               & MI                 & Troy               & 17387130           & 1387784            & 15999346           & 23                \\\\\n",
       "\t500 & 500                & Allpossible        & IT Services        & 2011               &   24               & CA                 & Los Angeles        & 11949706           &  689161            & 11260545           & 24                \\\\\n",
       "\\end{tabular}\n"
      ],
      "text/markdown": [
       "\n",
       "| <!--/--> | ID | Name | Industry | Inception | Employees | State | City | Revenue | Expenses | Profit | Growth | \n",
       "|---|---|---|---|---|---|\n",
       "| 495 | 495                | Rawfishcomplete    | Financial Services | 2012               |  124               | CA                 | Los Angeles        | 10624949           | 2951178            |  7673771           | 22                 | \n",
       "| 496 | 496                | Buretteadmirable   | IT Services        | 2009               |   93               | ME                 | Portland           | 15407450           | 2833136            | 12574314           | 25                 | \n",
       "| 497 | 497                | Inventtremendous   | Construction       | 2009               |   24               | MN                 | Woodbury           |  9144857           | 4755995            |  4388862           | 11                 | \n",
       "| 498 | 498                | Overviewparrot     | Retail             | 2011               | 7125               | TX                 | Fort Worth         | 11134728           | 5152110            |  5982618           | 12                 | \n",
       "| 499 | 499                | Belaguerra         | IT Services        | 2010               |  140               | MI                 | Troy               | 17387130           | 1387784            | 15999346           | 23                 | \n",
       "| 500 | 500                | Allpossible        | IT Services        | 2011               |   24               | CA                 | Los Angeles        | 11949706           |  689161            | 11260545           | 24                 | \n",
       "\n",
       "\n"
      ],
      "text/plain": [
       "    ID  Name             Industry           Inception Employees State\n",
       "495 495 Rawfishcomplete  Financial Services 2012       124      CA   \n",
       "496 496 Buretteadmirable IT Services        2009        93      ME   \n",
       "497 497 Inventtremendous Construction       2009        24      MN   \n",
       "498 498 Overviewparrot   Retail             2011      7125      TX   \n",
       "499 499 Belaguerra       IT Services        2010       140      MI   \n",
       "500 500 Allpossible      IT Services        2011        24      CA   \n",
       "    City        Revenue  Expenses Profit   Growth\n",
       "495 Los Angeles 10624949 2951178   7673771 22    \n",
       "496 Portland    15407450 2833136  12574314 25    \n",
       "497 Woodbury     9144857 4755995   4388862 11    \n",
       "498 Fort Worth  11134728 5152110   5982618 12    \n",
       "499 Troy        17387130 1387784  15999346 23    \n",
       "500 Los Angeles 11949706  689161  11260545 24    "
      ]
     },
     "metadata": {},
     "output_type": "display_data"
    }
   ],
   "source": [
    "tail(fin)"
   ]
  },
  {
   "cell_type": "code",
   "execution_count": 124,
   "metadata": {},
   "outputs": [
    {
     "data": {
      "text/html": [
       "<table>\n",
       "<thead><tr><th></th><th scope=col>ID</th><th scope=col>Name</th><th scope=col>Industry</th><th scope=col>Inception</th><th scope=col>Employees</th><th scope=col>State</th><th scope=col>City</th><th scope=col>Revenue</th><th scope=col>Expenses</th><th scope=col>Profit</th><th scope=col>Growth</th></tr></thead>\n",
       "<tbody>\n",
       "\t<tr><th scope=row>493</th><td>495               </td><td>Rawfishcomplete   </td><td>Financial Services</td><td>2012              </td><td> 124              </td><td>CA                </td><td>Los Angeles       </td><td>10624949          </td><td>2951178           </td><td> 7673771          </td><td>22                </td></tr>\n",
       "\t<tr><th scope=row>494</th><td>496               </td><td>Buretteadmirable  </td><td>IT Services       </td><td>2009              </td><td>  93              </td><td>ME                </td><td>Portland          </td><td>15407450          </td><td>2833136           </td><td>12574314          </td><td>25                </td></tr>\n",
       "\t<tr><th scope=row>495</th><td>497               </td><td>Inventtremendous  </td><td>Construction      </td><td>2009              </td><td>  24              </td><td>MN                </td><td>Woodbury          </td><td> 9144857          </td><td>4755995           </td><td> 4388862          </td><td>11                </td></tr>\n",
       "\t<tr><th scope=row>496</th><td>498               </td><td>Overviewparrot    </td><td>Retail            </td><td>2011              </td><td>7125              </td><td>TX                </td><td>Fort Worth        </td><td>11134728          </td><td>5152110           </td><td> 5982618          </td><td>12                </td></tr>\n",
       "\t<tr><th scope=row>497</th><td>499               </td><td>Belaguerra        </td><td>IT Services       </td><td>2010              </td><td> 140              </td><td>MI                </td><td>Troy              </td><td>17387130          </td><td>1387784           </td><td>15999346          </td><td>23                </td></tr>\n",
       "\t<tr><th scope=row>498</th><td>500               </td><td>Allpossible       </td><td>IT Services       </td><td>2011              </td><td>  24              </td><td>CA                </td><td>Los Angeles       </td><td>11949706          </td><td> 689161           </td><td>11260545          </td><td>24                </td></tr>\n",
       "</tbody>\n",
       "</table>\n"
      ],
      "text/latex": [
       "\\begin{tabular}{r|lllllllllll}\n",
       "  & ID & Name & Industry & Inception & Employees & State & City & Revenue & Expenses & Profit & Growth\\\\\n",
       "\\hline\n",
       "\t493 & 495                & Rawfishcomplete    & Financial Services & 2012               &  124               & CA                 & Los Angeles        & 10624949           & 2951178            &  7673771           & 22                \\\\\n",
       "\t494 & 496                & Buretteadmirable   & IT Services        & 2009               &   93               & ME                 & Portland           & 15407450           & 2833136            & 12574314           & 25                \\\\\n",
       "\t495 & 497                & Inventtremendous   & Construction       & 2009               &   24               & MN                 & Woodbury           &  9144857           & 4755995            &  4388862           & 11                \\\\\n",
       "\t496 & 498                & Overviewparrot     & Retail             & 2011               & 7125               & TX                 & Fort Worth         & 11134728           & 5152110            &  5982618           & 12                \\\\\n",
       "\t497 & 499                & Belaguerra         & IT Services        & 2010               &  140               & MI                 & Troy               & 17387130           & 1387784            & 15999346           & 23                \\\\\n",
       "\t498 & 500                & Allpossible        & IT Services        & 2011               &   24               & CA                 & Los Angeles        & 11949706           &  689161            & 11260545           & 24                \\\\\n",
       "\\end{tabular}\n"
      ],
      "text/markdown": [
       "\n",
       "| <!--/--> | ID | Name | Industry | Inception | Employees | State | City | Revenue | Expenses | Profit | Growth | \n",
       "|---|---|---|---|---|---|\n",
       "| 493 | 495                | Rawfishcomplete    | Financial Services | 2012               |  124               | CA                 | Los Angeles        | 10624949           | 2951178            |  7673771           | 22                 | \n",
       "| 494 | 496                | Buretteadmirable   | IT Services        | 2009               |   93               | ME                 | Portland           | 15407450           | 2833136            | 12574314           | 25                 | \n",
       "| 495 | 497                | Inventtremendous   | Construction       | 2009               |   24               | MN                 | Woodbury           |  9144857           | 4755995            |  4388862           | 11                 | \n",
       "| 496 | 498                | Overviewparrot     | Retail             | 2011               | 7125               | TX                 | Fort Worth         | 11134728           | 5152110            |  5982618           | 12                 | \n",
       "| 497 | 499                | Belaguerra         | IT Services        | 2010               |  140               | MI                 | Troy               | 17387130           | 1387784            | 15999346           | 23                 | \n",
       "| 498 | 500                | Allpossible        | IT Services        | 2011               |   24               | CA                 | Los Angeles        | 11949706           |  689161            | 11260545           | 24                 | \n",
       "\n",
       "\n"
      ],
      "text/plain": [
       "    ID  Name             Industry           Inception Employees State\n",
       "493 495 Rawfishcomplete  Financial Services 2012       124      CA   \n",
       "494 496 Buretteadmirable IT Services        2009        93      ME   \n",
       "495 497 Inventtremendous Construction       2009        24      MN   \n",
       "496 498 Overviewparrot   Retail             2011      7125      TX   \n",
       "497 499 Belaguerra       IT Services        2010       140      MI   \n",
       "498 500 Allpossible      IT Services        2011        24      CA   \n",
       "    City        Revenue  Expenses Profit   Growth\n",
       "493 Los Angeles 10624949 2951178   7673771 22    \n",
       "494 Portland    15407450 2833136  12574314 25    \n",
       "495 Woodbury     9144857 4755995   4388862 11    \n",
       "496 Fort Worth  11134728 5152110   5982618 12    \n",
       "497 Troy        17387130 1387784  15999346 23    \n",
       "498 Los Angeles 11949706  689161  11260545 24    "
      ]
     },
     "metadata": {},
     "output_type": "display_data"
    }
   ],
   "source": [
    "rownames(fin) = NULL  # Reset index\n",
    "tail(fin)"
   ]
  },
  {
   "cell_type": "markdown",
   "metadata": {},
   "source": [
    "# Replace missing data: factual analysis method\n",
    "\n",
    "For records with missing data in the State column, we can easily populate the record by using the City column. We just need to Google which state the city is in."
   ]
  },
  {
   "cell_type": "code",
   "execution_count": 125,
   "metadata": {
    "scrolled": true
   },
   "outputs": [
    {
     "data": {
      "text/html": [
       "<table>\n",
       "<thead><tr><th></th><th scope=col>ID</th><th scope=col>Name</th><th scope=col>Industry</th><th scope=col>Inception</th><th scope=col>Employees</th><th scope=col>State</th><th scope=col>City</th><th scope=col>Revenue</th><th scope=col>Expenses</th><th scope=col>Profit</th><th scope=col>Growth</th></tr></thead>\n",
       "<tbody>\n",
       "\t<tr><th scope=row>11</th><td>11             </td><td>Canecorporation</td><td>Health         </td><td>2012           </td><td> 6             </td><td>NA             </td><td>New York       </td><td>10597009       </td><td>7591189        </td><td>3005820        </td><td> 7             </td></tr>\n",
       "\t<tr><th scope=row>82</th><td>84             </td><td>Drilldrill     </td><td>Software       </td><td>2010           </td><td>30             </td><td>NA             </td><td>San Francisco  </td><td> 7800620       </td><td>2785799        </td><td>5014821        </td><td>17             </td></tr>\n",
       "\t<tr><th scope=row>265</th><td>267            </td><td>Circlechop     </td><td>Software       </td><td>2010           </td><td>14             </td><td>NA             </td><td>San Francisco  </td><td> 9067070       </td><td>5929828        </td><td>3137242        </td><td>20             </td></tr>\n",
       "\t<tr><th scope=row>377</th><td>379            </td><td>Stovepuck      </td><td>Retail         </td><td>2013           </td><td>73             </td><td>NA             </td><td>New York       </td><td>13814975       </td><td>5904502        </td><td>7910473        </td><td>10             </td></tr>\n",
       "</tbody>\n",
       "</table>\n"
      ],
      "text/latex": [
       "\\begin{tabular}{r|lllllllllll}\n",
       "  & ID & Name & Industry & Inception & Employees & State & City & Revenue & Expenses & Profit & Growth\\\\\n",
       "\\hline\n",
       "\t11 & 11              & Canecorporation & Health          & 2012            &  6              & NA              & New York        & 10597009        & 7591189         & 3005820         &  7             \\\\\n",
       "\t82 & 84              & Drilldrill      & Software        & 2010            & 30              & NA              & San Francisco   &  7800620        & 2785799         & 5014821         & 17             \\\\\n",
       "\t265 & 267             & Circlechop      & Software        & 2010            & 14              & NA              & San Francisco   &  9067070        & 5929828         & 3137242         & 20             \\\\\n",
       "\t377 & 379             & Stovepuck       & Retail          & 2013            & 73              & NA              & New York        & 13814975        & 5904502         & 7910473         & 10             \\\\\n",
       "\\end{tabular}\n"
      ],
      "text/markdown": [
       "\n",
       "| <!--/--> | ID | Name | Industry | Inception | Employees | State | City | Revenue | Expenses | Profit | Growth | \n",
       "|---|---|---|---|\n",
       "| 11 | 11              | Canecorporation | Health          | 2012            |  6              | NA              | New York        | 10597009        | 7591189         | 3005820         |  7              | \n",
       "| 82 | 84              | Drilldrill      | Software        | 2010            | 30              | NA              | San Francisco   |  7800620        | 2785799         | 5014821         | 17              | \n",
       "| 265 | 267             | Circlechop      | Software        | 2010            | 14              | NA              | San Francisco   |  9067070        | 5929828         | 3137242         | 20              | \n",
       "| 377 | 379             | Stovepuck       | Retail          | 2013            | 73              | NA              | New York        | 13814975        | 5904502         | 7910473         | 10              | \n",
       "\n",
       "\n"
      ],
      "text/plain": [
       "    ID  Name            Industry Inception Employees State City         \n",
       "11  11  Canecorporation Health   2012       6        NA    New York     \n",
       "82  84  Drilldrill      Software 2010      30        NA    San Francisco\n",
       "265 267 Circlechop      Software 2010      14        NA    San Francisco\n",
       "377 379 Stovepuck       Retail   2013      73        NA    New York     \n",
       "    Revenue  Expenses Profit  Growth\n",
       "11  10597009 7591189  3005820  7    \n",
       "82   7800620 2785799  5014821 17    \n",
       "265  9067070 5929828  3137242 20    \n",
       "377 13814975 5904502  7910473 10    "
      ]
     },
     "metadata": {},
     "output_type": "display_data"
    }
   ],
   "source": [
    "fin[is.na(fin$State),]"
   ]
  },
  {
   "cell_type": "markdown",
   "metadata": {},
   "source": [
    "The records with missing data in the State column are from the cities of New York and San Francisco.\n",
    "\n",
    "We know that the city of New York is in the state of New York, and the city of San Francisco is in the state of California."
   ]
  },
  {
   "cell_type": "code",
   "execution_count": 126,
   "metadata": {},
   "outputs": [
    {
     "data": {
      "text/html": [
       "<table>\n",
       "<thead><tr><th></th><th scope=col>ID</th><th scope=col>Name</th><th scope=col>Industry</th><th scope=col>Inception</th><th scope=col>Employees</th><th scope=col>State</th><th scope=col>City</th><th scope=col>Revenue</th><th scope=col>Expenses</th><th scope=col>Profit</th><th scope=col>Growth</th></tr></thead>\n",
       "<tbody>\n",
       "\t<tr><th scope=row>3</th><td>3                 </td><td>Greenfax          </td><td>Retail            </td><td>2012              </td><td> NA               </td><td>SC                </td><td>Greenville        </td><td> 9746272          </td><td>1044375           </td><td> 8701897          </td><td>16                </td></tr>\n",
       "\t<tr><th scope=row>8</th><td>8                 </td><td>Rednimdox         </td><td>Construction      </td><td>2013              </td><td> 73               </td><td>NY                </td><td>Woodside          </td><td>      NA          </td><td>     NA           </td><td>      NA          </td><td>NA                </td></tr>\n",
       "\t<tr><th scope=row>15</th><td>17                </td><td>Ganzlax           </td><td>IT Services       </td><td>2011              </td><td> 75               </td><td>NJ                </td><td>Iselin            </td><td>14001180          </td><td>     NA           </td><td>11901180          </td><td>18                </td></tr>\n",
       "\t<tr><th scope=row>20</th><td>22                </td><td>Lathotline        </td><td>Health            </td><td>NA                </td><td>103               </td><td>VA                </td><td>McLean            </td><td> 9418303          </td><td>7567233           </td><td> 1851070          </td><td> 2                </td></tr>\n",
       "\t<tr><th scope=row>42</th><td>44                </td><td>Ganzgreen         </td><td>Construction      </td><td>2010              </td><td>224               </td><td>TN                </td><td>Franklin          </td><td>      NA          </td><td>     NA           </td><td>      NA          </td><td> 9                </td></tr>\n",
       "\t<tr><th scope=row>330</th><td>332               </td><td>Westminster       </td><td>Financial Services</td><td>2010              </td><td> NA               </td><td>MI                </td><td>Troy              </td><td>11861652          </td><td>5245126           </td><td> 6616526          </td><td>15                </td></tr>\n",
       "</tbody>\n",
       "</table>\n"
      ],
      "text/latex": [
       "\\begin{tabular}{r|lllllllllll}\n",
       "  & ID & Name & Industry & Inception & Employees & State & City & Revenue & Expenses & Profit & Growth\\\\\n",
       "\\hline\n",
       "\t3 & 3                  & Greenfax           & Retail             & 2012               &  NA                & SC                 & Greenville         &  9746272           & 1044375            &  8701897           & 16                \\\\\n",
       "\t8 & 8                  & Rednimdox          & Construction       & 2013               &  73                & NY                 & Woodside           &       NA           &      NA            &       NA           & NA                \\\\\n",
       "\t15 & 17                 & Ganzlax            & IT Services        & 2011               &  75                & NJ                 & Iselin             & 14001180           &      NA            & 11901180           & 18                \\\\\n",
       "\t20 & 22                 & Lathotline         & Health             & NA                 & 103                & VA                 & McLean             &  9418303           & 7567233            &  1851070           &  2                \\\\\n",
       "\t42 & 44                 & Ganzgreen          & Construction       & 2010               & 224                & TN                 & Franklin           &       NA           &      NA            &       NA           &  9                \\\\\n",
       "\t330 & 332                & Westminster        & Financial Services & 2010               &  NA                & MI                 & Troy               & 11861652           & 5245126            &  6616526           & 15                \\\\\n",
       "\\end{tabular}\n"
      ],
      "text/markdown": [
       "\n",
       "| <!--/--> | ID | Name | Industry | Inception | Employees | State | City | Revenue | Expenses | Profit | Growth | \n",
       "|---|---|---|---|---|---|\n",
       "| 3 | 3                  | Greenfax           | Retail             | 2012               |  NA                | SC                 | Greenville         |  9746272           | 1044375            |  8701897           | 16                 | \n",
       "| 8 | 8                  | Rednimdox          | Construction       | 2013               |  73                | NY                 | Woodside           |       NA           |      NA            |       NA           | NA                 | \n",
       "| 15 | 17                 | Ganzlax            | IT Services        | 2011               |  75                | NJ                 | Iselin             | 14001180           |      NA            | 11901180           | 18                 | \n",
       "| 20 | 22                 | Lathotline         | Health             | NA                 | 103                | VA                 | McLean             |  9418303           | 7567233            |  1851070           |  2                 | \n",
       "| 42 | 44                 | Ganzgreen          | Construction       | 2010               | 224                | TN                 | Franklin           |       NA           |      NA            |       NA           |  9                 | \n",
       "| 330 | 332                | Westminster        | Financial Services | 2010               |  NA                | MI                 | Troy               | 11861652           | 5245126            |  6616526           | 15                 | \n",
       "\n",
       "\n"
      ],
      "text/plain": [
       "    ID  Name        Industry           Inception Employees State City      \n",
       "3   3   Greenfax    Retail             2012       NA       SC    Greenville\n",
       "8   8   Rednimdox   Construction       2013       73       NY    Woodside  \n",
       "15  17  Ganzlax     IT Services        2011       75       NJ    Iselin    \n",
       "20  22  Lathotline  Health             NA        103       VA    McLean    \n",
       "42  44  Ganzgreen   Construction       2010      224       TN    Franklin  \n",
       "330 332 Westminster Financial Services 2010       NA       MI    Troy      \n",
       "    Revenue  Expenses Profit   Growth\n",
       "3    9746272 1044375   8701897 16    \n",
       "8         NA      NA        NA NA    \n",
       "15  14001180      NA  11901180 18    \n",
       "20   9418303 7567233   1851070  2    \n",
       "42        NA      NA        NA  9    \n",
       "330 11861652 5245126   6616526 15    "
      ]
     },
     "metadata": {},
     "output_type": "display_data"
    }
   ],
   "source": [
    "fin[is.na(fin$State) & fin$City==\"New York\", \"State\"] = \"NY\"\n",
    "fin[is.na(fin$State) & fin$City==\"San Francisco\", \"State\"] = \"CA\"\n",
    "\n",
    "fin[!complete.cases(fin),]"
   ]
  },
  {
   "cell_type": "markdown",
   "metadata": {},
   "source": [
    "# Replace missing data: median imputation method (part 1)"
   ]
  },
  {
   "cell_type": "markdown",
   "metadata": {},
   "source": [
    "Let's take at the remaining incomplete rows."
   ]
  },
  {
   "cell_type": "code",
   "execution_count": 127,
   "metadata": {
    "scrolled": true
   },
   "outputs": [
    {
     "data": {
      "text/html": [
       "<table>\n",
       "<thead><tr><th></th><th scope=col>ID</th><th scope=col>Name</th><th scope=col>Industry</th><th scope=col>Inception</th><th scope=col>Employees</th><th scope=col>State</th><th scope=col>City</th><th scope=col>Revenue</th><th scope=col>Expenses</th><th scope=col>Profit</th><th scope=col>Growth</th></tr></thead>\n",
       "<tbody>\n",
       "\t<tr><th scope=row>3</th><td>3                 </td><td>Greenfax          </td><td>Retail            </td><td>2012              </td><td> NA               </td><td>SC                </td><td>Greenville        </td><td> 9746272          </td><td>1044375           </td><td> 8701897          </td><td>16                </td></tr>\n",
       "\t<tr><th scope=row>8</th><td>8                 </td><td>Rednimdox         </td><td>Construction      </td><td>2013              </td><td> 73               </td><td>NY                </td><td>Woodside          </td><td>      NA          </td><td>     NA           </td><td>      NA          </td><td>NA                </td></tr>\n",
       "\t<tr><th scope=row>15</th><td>17                </td><td>Ganzlax           </td><td>IT Services       </td><td>2011              </td><td> 75               </td><td>NJ                </td><td>Iselin            </td><td>14001180          </td><td>     NA           </td><td>11901180          </td><td>18                </td></tr>\n",
       "\t<tr><th scope=row>20</th><td>22                </td><td>Lathotline        </td><td>Health            </td><td>NA                </td><td>103               </td><td>VA                </td><td>McLean            </td><td> 9418303          </td><td>7567233           </td><td> 1851070          </td><td> 2                </td></tr>\n",
       "\t<tr><th scope=row>42</th><td>44                </td><td>Ganzgreen         </td><td>Construction      </td><td>2010              </td><td>224               </td><td>TN                </td><td>Franklin          </td><td>      NA          </td><td>     NA           </td><td>      NA          </td><td> 9                </td></tr>\n",
       "\t<tr><th scope=row>330</th><td>332               </td><td>Westminster       </td><td>Financial Services</td><td>2010              </td><td> NA               </td><td>MI                </td><td>Troy              </td><td>11861652          </td><td>5245126           </td><td> 6616526          </td><td>15                </td></tr>\n",
       "</tbody>\n",
       "</table>\n"
      ],
      "text/latex": [
       "\\begin{tabular}{r|lllllllllll}\n",
       "  & ID & Name & Industry & Inception & Employees & State & City & Revenue & Expenses & Profit & Growth\\\\\n",
       "\\hline\n",
       "\t3 & 3                  & Greenfax           & Retail             & 2012               &  NA                & SC                 & Greenville         &  9746272           & 1044375            &  8701897           & 16                \\\\\n",
       "\t8 & 8                  & Rednimdox          & Construction       & 2013               &  73                & NY                 & Woodside           &       NA           &      NA            &       NA           & NA                \\\\\n",
       "\t15 & 17                 & Ganzlax            & IT Services        & 2011               &  75                & NJ                 & Iselin             & 14001180           &      NA            & 11901180           & 18                \\\\\n",
       "\t20 & 22                 & Lathotline         & Health             & NA                 & 103                & VA                 & McLean             &  9418303           & 7567233            &  1851070           &  2                \\\\\n",
       "\t42 & 44                 & Ganzgreen          & Construction       & 2010               & 224                & TN                 & Franklin           &       NA           &      NA            &       NA           &  9                \\\\\n",
       "\t330 & 332                & Westminster        & Financial Services & 2010               &  NA                & MI                 & Troy               & 11861652           & 5245126            &  6616526           & 15                \\\\\n",
       "\\end{tabular}\n"
      ],
      "text/markdown": [
       "\n",
       "| <!--/--> | ID | Name | Industry | Inception | Employees | State | City | Revenue | Expenses | Profit | Growth | \n",
       "|---|---|---|---|---|---|\n",
       "| 3 | 3                  | Greenfax           | Retail             | 2012               |  NA                | SC                 | Greenville         |  9746272           | 1044375            |  8701897           | 16                 | \n",
       "| 8 | 8                  | Rednimdox          | Construction       | 2013               |  73                | NY                 | Woodside           |       NA           |      NA            |       NA           | NA                 | \n",
       "| 15 | 17                 | Ganzlax            | IT Services        | 2011               |  75                | NJ                 | Iselin             | 14001180           |      NA            | 11901180           | 18                 | \n",
       "| 20 | 22                 | Lathotline         | Health             | NA                 | 103                | VA                 | McLean             |  9418303           | 7567233            |  1851070           |  2                 | \n",
       "| 42 | 44                 | Ganzgreen          | Construction       | 2010               | 224                | TN                 | Franklin           |       NA           |      NA            |       NA           |  9                 | \n",
       "| 330 | 332                | Westminster        | Financial Services | 2010               |  NA                | MI                 | Troy               | 11861652           | 5245126            |  6616526           | 15                 | \n",
       "\n",
       "\n"
      ],
      "text/plain": [
       "    ID  Name        Industry           Inception Employees State City      \n",
       "3   3   Greenfax    Retail             2012       NA       SC    Greenville\n",
       "8   8   Rednimdox   Construction       2013       73       NY    Woodside  \n",
       "15  17  Ganzlax     IT Services        2011       75       NJ    Iselin    \n",
       "20  22  Lathotline  Health             NA        103       VA    McLean    \n",
       "42  44  Ganzgreen   Construction       2010      224       TN    Franklin  \n",
       "330 332 Westminster Financial Services 2010       NA       MI    Troy      \n",
       "    Revenue  Expenses Profit   Growth\n",
       "3    9746272 1044375   8701897 16    \n",
       "8         NA      NA        NA NA    \n",
       "15  14001180      NA  11901180 18    \n",
       "20   9418303 7567233   1851070  2    \n",
       "42        NA      NA        NA  9    \n",
       "330 11861652 5245126   6616526 15    "
      ]
     },
     "metadata": {},
     "output_type": "display_data"
    }
   ],
   "source": [
    "fin[!complete.cases(fin),]"
   ]
  },
  {
   "cell_type": "markdown",
   "metadata": {},
   "source": [
    "We can proxy the null values in the Employees column by the median. We can go one step further and take the median number of Employees for each Industry.\n",
    "\n",
    "The reason for using the median in this case is because we know that there are outliers, for which the mean will be significantly influenced by. The median is more robust to outliers, as demonstrated below:"
   ]
  },
  {
   "cell_type": "code",
   "execution_count": 128,
   "metadata": {},
   "outputs": [
    {
     "data": {
      "text/html": [
       "56"
      ],
      "text/latex": [
       "56"
      ],
      "text/markdown": [
       "56"
      ],
      "text/plain": [
       "[1] 56"
      ]
     },
     "metadata": {},
     "output_type": "display_data"
    }
   ],
   "source": [
    "median(fin[,\"Employees\"], na.rm=TRUE)"
   ]
  },
  {
   "cell_type": "code",
   "execution_count": 129,
   "metadata": {},
   "outputs": [
    {
     "data": {
      "text/html": [
       "149.028225806452"
      ],
      "text/latex": [
       "149.028225806452"
      ],
      "text/markdown": [
       "149.028225806452"
      ],
      "text/plain": [
       "[1] 149.0282"
      ]
     },
     "metadata": {},
     "output_type": "display_data"
    }
   ],
   "source": [
    "mean(fin[,\"Employees\"], na.rm=TRUE)"
   ]
  },
  {
   "cell_type": "markdown",
   "metadata": {},
   "source": [
    "Let's take the median number of Employees in the retail Industry."
   ]
  },
  {
   "cell_type": "code",
   "execution_count": 130,
   "metadata": {},
   "outputs": [],
   "source": [
    "med_empl_retail = median(fin[fin$Industry==\"Retail\",\"Employees\"], na.rm=TRUE)"
   ]
  },
  {
   "cell_type": "code",
   "execution_count": 131,
   "metadata": {},
   "outputs": [
    {
     "data": {
      "text/html": [
       "28"
      ],
      "text/latex": [
       "28"
      ],
      "text/markdown": [
       "28"
      ],
      "text/plain": [
       "[1] 28"
      ]
     },
     "metadata": {},
     "output_type": "display_data"
    }
   ],
   "source": [
    "med_empl_retail"
   ]
  },
  {
   "cell_type": "markdown",
   "metadata": {},
   "source": [
    "We can now proxy the null Employees value for records whose Industry is in Retail."
   ]
  },
  {
   "cell_type": "code",
   "execution_count": 132,
   "metadata": {},
   "outputs": [],
   "source": [
    "fin[is.na(fin$Employees) & fin$Industry==\"Retail\",\"Employees\"] = med_empl_retail"
   ]
  },
  {
   "cell_type": "code",
   "execution_count": 133,
   "metadata": {},
   "outputs": [
    {
     "data": {
      "text/html": [
       "<table>\n",
       "<thead><tr><th></th><th scope=col>ID</th><th scope=col>Name</th><th scope=col>Industry</th><th scope=col>Inception</th><th scope=col>Employees</th><th scope=col>State</th><th scope=col>City</th><th scope=col>Revenue</th><th scope=col>Expenses</th><th scope=col>Profit</th><th scope=col>Growth</th></tr></thead>\n",
       "<tbody>\n",
       "\t<tr><th scope=row>3</th><td>3         </td><td>Greenfax  </td><td>Retail    </td><td>2012      </td><td>28        </td><td>SC        </td><td>Greenville</td><td>9746272   </td><td>1044375   </td><td>8701897   </td><td>16        </td></tr>\n",
       "</tbody>\n",
       "</table>\n"
      ],
      "text/latex": [
       "\\begin{tabular}{r|lllllllllll}\n",
       "  & ID & Name & Industry & Inception & Employees & State & City & Revenue & Expenses & Profit & Growth\\\\\n",
       "\\hline\n",
       "\t3 & 3          & Greenfax   & Retail     & 2012       & 28         & SC         & Greenville & 9746272    & 1044375    & 8701897    & 16        \\\\\n",
       "\\end{tabular}\n"
      ],
      "text/markdown": [
       "\n",
       "| <!--/--> | ID | Name | Industry | Inception | Employees | State | City | Revenue | Expenses | Profit | Growth | \n",
       "|---|\n",
       "| 3 | 3          | Greenfax   | Retail     | 2012       | 28         | SC         | Greenville | 9746272    | 1044375    | 8701897    | 16         | \n",
       "\n",
       "\n"
      ],
      "text/plain": [
       "  ID Name     Industry Inception Employees State City       Revenue Expenses\n",
       "3 3  Greenfax Retail   2012      28        SC    Greenville 9746272 1044375 \n",
       "  Profit  Growth\n",
       "3 8701897 16    "
      ]
     },
     "metadata": {},
     "output_type": "display_data"
    }
   ],
   "source": [
    "fin[3,]"
   ]
  },
  {
   "cell_type": "markdown",
   "metadata": {},
   "source": [
    "Now let's do the same proxy method for the Financial Services Industry."
   ]
  },
  {
   "cell_type": "code",
   "execution_count": 134,
   "metadata": {},
   "outputs": [
    {
     "data": {
      "text/html": [
       "80"
      ],
      "text/latex": [
       "80"
      ],
      "text/markdown": [
       "80"
      ],
      "text/plain": [
       "[1] 80"
      ]
     },
     "metadata": {},
     "output_type": "display_data"
    }
   ],
   "source": [
    "med_empl_service = median(fin[fin$Industry==\"Financial Services\",\"Employees\"], na.rm=TRUE)\n",
    "med_empl_service"
   ]
  },
  {
   "cell_type": "code",
   "execution_count": 135,
   "metadata": {},
   "outputs": [],
   "source": [
    "fin[is.na(fin$Employees) & fin$Industry==\"Financial Services\",\"Employees\"] = med_empl_retail"
   ]
  },
  {
   "cell_type": "markdown",
   "metadata": {},
   "source": [
    "We will also do the same proxy method for the Growth column, using the median Growth values for each Industry."
   ]
  },
  {
   "cell_type": "code",
   "execution_count": 136,
   "metadata": {},
   "outputs": [
    {
     "data": {
      "text/html": [
       "<table>\n",
       "<thead><tr><th></th><th scope=col>ID</th><th scope=col>Name</th><th scope=col>Industry</th><th scope=col>Inception</th><th scope=col>Employees</th><th scope=col>State</th><th scope=col>City</th><th scope=col>Revenue</th><th scope=col>Expenses</th><th scope=col>Profit</th><th scope=col>Growth</th></tr></thead>\n",
       "<tbody>\n",
       "\t<tr><th scope=row>8</th><td>8           </td><td>Rednimdox   </td><td>Construction</td><td>2013        </td><td> 73         </td><td>NY          </td><td>Woodside    </td><td>      NA    </td><td>     NA     </td><td>      NA    </td><td>NA          </td></tr>\n",
       "\t<tr><th scope=row>15</th><td>17          </td><td>Ganzlax     </td><td>IT Services </td><td>2011        </td><td> 75         </td><td>NJ          </td><td>Iselin      </td><td>14001180    </td><td>     NA     </td><td>11901180    </td><td>18          </td></tr>\n",
       "\t<tr><th scope=row>20</th><td>22          </td><td>Lathotline  </td><td>Health      </td><td>NA          </td><td>103         </td><td>VA          </td><td>McLean      </td><td> 9418303    </td><td>7567233     </td><td> 1851070    </td><td> 2          </td></tr>\n",
       "\t<tr><th scope=row>42</th><td>44          </td><td>Ganzgreen   </td><td>Construction</td><td>2010        </td><td>224         </td><td>TN          </td><td>Franklin    </td><td>      NA    </td><td>     NA     </td><td>      NA    </td><td> 9          </td></tr>\n",
       "</tbody>\n",
       "</table>\n"
      ],
      "text/latex": [
       "\\begin{tabular}{r|lllllllllll}\n",
       "  & ID & Name & Industry & Inception & Employees & State & City & Revenue & Expenses & Profit & Growth\\\\\n",
       "\\hline\n",
       "\t8 & 8            & Rednimdox    & Construction & 2013         &  73          & NY           & Woodside     &       NA     &      NA      &       NA     & NA          \\\\\n",
       "\t15 & 17           & Ganzlax      & IT Services  & 2011         &  75          & NJ           & Iselin       & 14001180     &      NA      & 11901180     & 18          \\\\\n",
       "\t20 & 22           & Lathotline   & Health       & NA           & 103          & VA           & McLean       &  9418303     & 7567233      &  1851070     &  2          \\\\\n",
       "\t42 & 44           & Ganzgreen    & Construction & 2010         & 224          & TN           & Franklin     &       NA     &      NA      &       NA     &  9          \\\\\n",
       "\\end{tabular}\n"
      ],
      "text/markdown": [
       "\n",
       "| <!--/--> | ID | Name | Industry | Inception | Employees | State | City | Revenue | Expenses | Profit | Growth | \n",
       "|---|---|---|---|\n",
       "| 8 | 8            | Rednimdox    | Construction | 2013         |  73          | NY           | Woodside     |       NA     |      NA      |       NA     | NA           | \n",
       "| 15 | 17           | Ganzlax      | IT Services  | 2011         |  75          | NJ           | Iselin       | 14001180     |      NA      | 11901180     | 18           | \n",
       "| 20 | 22           | Lathotline   | Health       | NA           | 103          | VA           | McLean       |  9418303     | 7567233      |  1851070     |  2           | \n",
       "| 42 | 44           | Ganzgreen    | Construction | 2010         | 224          | TN           | Franklin     |       NA     |      NA      |       NA     |  9           | \n",
       "\n",
       "\n"
      ],
      "text/plain": [
       "   ID Name       Industry     Inception Employees State City     Revenue \n",
       "8  8  Rednimdox  Construction 2013       73       NY    Woodside       NA\n",
       "15 17 Ganzlax    IT Services  2011       75       NJ    Iselin   14001180\n",
       "20 22 Lathotline Health       NA        103       VA    McLean    9418303\n",
       "42 44 Ganzgreen  Construction 2010      224       TN    Franklin       NA\n",
       "   Expenses Profit   Growth\n",
       "8       NA        NA NA    \n",
       "15      NA  11901180 18    \n",
       "20 7567233   1851070  2    \n",
       "42      NA        NA  9    "
      ]
     },
     "metadata": {},
     "output_type": "display_data"
    }
   ],
   "source": [
    "fin[!complete.cases(fin),]"
   ]
  },
  {
   "cell_type": "code",
   "execution_count": 137,
   "metadata": {},
   "outputs": [],
   "source": [
    "med_growth_constr = median(fin[fin$Industry==\"Construction\", \"Growth\"], na.rm=TRUE)"
   ]
  },
  {
   "cell_type": "code",
   "execution_count": 138,
   "metadata": {},
   "outputs": [
    {
     "data": {
      "text/html": [
       "10"
      ],
      "text/latex": [
       "10"
      ],
      "text/markdown": [
       "10"
      ],
      "text/plain": [
       "[1] 10"
      ]
     },
     "metadata": {},
     "output_type": "display_data"
    }
   ],
   "source": [
    "med_growth_constr"
   ]
  },
  {
   "cell_type": "code",
   "execution_count": 139,
   "metadata": {},
   "outputs": [],
   "source": [
    "fin[is.na(fin$Growth) & fin$Industry==\"Construction\",\"Growth\"] = med_growth_constr"
   ]
  },
  {
   "cell_type": "markdown",
   "metadata": {},
   "source": [
    "# Replacing missing data: Median imputation method (part 3)"
   ]
  },
  {
   "cell_type": "code",
   "execution_count": 140,
   "metadata": {
    "scrolled": true
   },
   "outputs": [
    {
     "data": {
      "text/html": [
       "<table>\n",
       "<thead><tr><th></th><th scope=col>ID</th><th scope=col>Name</th><th scope=col>Industry</th><th scope=col>Inception</th><th scope=col>Employees</th><th scope=col>State</th><th scope=col>City</th><th scope=col>Revenue</th><th scope=col>Expenses</th><th scope=col>Profit</th><th scope=col>Growth</th></tr></thead>\n",
       "<tbody>\n",
       "\t<tr><th scope=row>8</th><td>8           </td><td>Rednimdox   </td><td>Construction</td><td>2013        </td><td> 73         </td><td>NY          </td><td>Woodside    </td><td>      NA    </td><td>     NA     </td><td>      NA    </td><td>10          </td></tr>\n",
       "\t<tr><th scope=row>15</th><td>17          </td><td>Ganzlax     </td><td>IT Services </td><td>2011        </td><td> 75         </td><td>NJ          </td><td>Iselin      </td><td>14001180    </td><td>     NA     </td><td>11901180    </td><td>18          </td></tr>\n",
       "\t<tr><th scope=row>20</th><td>22          </td><td>Lathotline  </td><td>Health      </td><td>NA          </td><td>103         </td><td>VA          </td><td>McLean      </td><td> 9418303    </td><td>7567233     </td><td> 1851070    </td><td> 2          </td></tr>\n",
       "\t<tr><th scope=row>42</th><td>44          </td><td>Ganzgreen   </td><td>Construction</td><td>2010        </td><td>224         </td><td>TN          </td><td>Franklin    </td><td>      NA    </td><td>     NA     </td><td>      NA    </td><td> 9          </td></tr>\n",
       "</tbody>\n",
       "</table>\n"
      ],
      "text/latex": [
       "\\begin{tabular}{r|lllllllllll}\n",
       "  & ID & Name & Industry & Inception & Employees & State & City & Revenue & Expenses & Profit & Growth\\\\\n",
       "\\hline\n",
       "\t8 & 8            & Rednimdox    & Construction & 2013         &  73          & NY           & Woodside     &       NA     &      NA      &       NA     & 10          \\\\\n",
       "\t15 & 17           & Ganzlax      & IT Services  & 2011         &  75          & NJ           & Iselin       & 14001180     &      NA      & 11901180     & 18          \\\\\n",
       "\t20 & 22           & Lathotline   & Health       & NA           & 103          & VA           & McLean       &  9418303     & 7567233      &  1851070     &  2          \\\\\n",
       "\t42 & 44           & Ganzgreen    & Construction & 2010         & 224          & TN           & Franklin     &       NA     &      NA      &       NA     &  9          \\\\\n",
       "\\end{tabular}\n"
      ],
      "text/markdown": [
       "\n",
       "| <!--/--> | ID | Name | Industry | Inception | Employees | State | City | Revenue | Expenses | Profit | Growth | \n",
       "|---|---|---|---|\n",
       "| 8 | 8            | Rednimdox    | Construction | 2013         |  73          | NY           | Woodside     |       NA     |      NA      |       NA     | 10           | \n",
       "| 15 | 17           | Ganzlax      | IT Services  | 2011         |  75          | NJ           | Iselin       | 14001180     |      NA      | 11901180     | 18           | \n",
       "| 20 | 22           | Lathotline   | Health       | NA           | 103          | VA           | McLean       |  9418303     | 7567233      |  1851070     |  2           | \n",
       "| 42 | 44           | Ganzgreen    | Construction | 2010         | 224          | TN           | Franklin     |       NA     |      NA      |       NA     |  9           | \n",
       "\n",
       "\n"
      ],
      "text/plain": [
       "   ID Name       Industry     Inception Employees State City     Revenue \n",
       "8  8  Rednimdox  Construction 2013       73       NY    Woodside       NA\n",
       "15 17 Ganzlax    IT Services  2011       75       NJ    Iselin   14001180\n",
       "20 22 Lathotline Health       NA        103       VA    McLean    9418303\n",
       "42 44 Ganzgreen  Construction 2010      224       TN    Franklin       NA\n",
       "   Expenses Profit   Growth\n",
       "8       NA        NA 10    \n",
       "15      NA  11901180 18    \n",
       "20 7567233   1851070  2    \n",
       "42      NA        NA  9    "
      ]
     },
     "metadata": {},
     "output_type": "display_data"
    }
   ],
   "source": [
    "fin[!complete.cases(fin),]"
   ]
  },
  {
   "cell_type": "markdown",
   "metadata": {},
   "source": [
    "For row 15, we don't need to proxy anything. Since the only null is in the Expenses column, we can calculate for Expenses using Revenue - Profit.\n",
    "\n",
    "We note that the remaining incomplete records have null values in the  Revenue, Expenses and Profit columns. However, since Profit is a function of both Revenue and Expenses, we don't need to proxy it.\n",
    "\n",
    "Our plan of attack is to proxy the Revenue and Expenses column, and then calculate Profit."
   ]
  },
  {
   "cell_type": "code",
   "execution_count": 141,
   "metadata": {},
   "outputs": [],
   "source": [
    "med_rev_constr = median(fin[fin$Industry==\"Construction\", \"Revenue\"], na.rm=TRUE)"
   ]
  },
  {
   "cell_type": "code",
   "execution_count": 142,
   "metadata": {},
   "outputs": [
    {
     "data": {
      "text/html": [
       "9055058.5"
      ],
      "text/latex": [
       "9055058.5"
      ],
      "text/markdown": [
       "9055058.5"
      ],
      "text/plain": [
       "[1] 9055059"
      ]
     },
     "metadata": {},
     "output_type": "display_data"
    }
   ],
   "source": [
    "med_rev_constr"
   ]
  },
  {
   "cell_type": "code",
   "execution_count": 143,
   "metadata": {},
   "outputs": [],
   "source": [
    "fin[is.na(fin$Revenue) & fin$Industry==\"Construction\", \"Revenue\"] = med_rev_constr"
   ]
  },
  {
   "cell_type": "code",
   "execution_count": 144,
   "metadata": {},
   "outputs": [
    {
     "data": {
      "text/html": [
       "<table>\n",
       "<thead><tr><th></th><th scope=col>ID</th><th scope=col>Name</th><th scope=col>Industry</th><th scope=col>Inception</th><th scope=col>Employees</th><th scope=col>State</th><th scope=col>City</th><th scope=col>Revenue</th><th scope=col>Expenses</th><th scope=col>Profit</th><th scope=col>Growth</th></tr></thead>\n",
       "<tbody>\n",
       "\t<tr><th scope=row>8</th><td>8           </td><td>Rednimdox   </td><td>Construction</td><td>2013        </td><td> 73         </td><td>NY          </td><td>Woodside    </td><td> 9055059    </td><td>     NA     </td><td>      NA    </td><td>10          </td></tr>\n",
       "\t<tr><th scope=row>15</th><td>17          </td><td>Ganzlax     </td><td>IT Services </td><td>2011        </td><td> 75         </td><td>NJ          </td><td>Iselin      </td><td>14001180    </td><td>     NA     </td><td>11901180    </td><td>18          </td></tr>\n",
       "\t<tr><th scope=row>20</th><td>22          </td><td>Lathotline  </td><td>Health      </td><td>NA          </td><td>103         </td><td>VA          </td><td>McLean      </td><td> 9418303    </td><td>7567233     </td><td> 1851070    </td><td> 2          </td></tr>\n",
       "\t<tr><th scope=row>42</th><td>44          </td><td>Ganzgreen   </td><td>Construction</td><td>2010        </td><td>224         </td><td>TN          </td><td>Franklin    </td><td> 9055059    </td><td>     NA     </td><td>      NA    </td><td> 9          </td></tr>\n",
       "</tbody>\n",
       "</table>\n"
      ],
      "text/latex": [
       "\\begin{tabular}{r|lllllllllll}\n",
       "  & ID & Name & Industry & Inception & Employees & State & City & Revenue & Expenses & Profit & Growth\\\\\n",
       "\\hline\n",
       "\t8 & 8            & Rednimdox    & Construction & 2013         &  73          & NY           & Woodside     &  9055059     &      NA      &       NA     & 10          \\\\\n",
       "\t15 & 17           & Ganzlax      & IT Services  & 2011         &  75          & NJ           & Iselin       & 14001180     &      NA      & 11901180     & 18          \\\\\n",
       "\t20 & 22           & Lathotline   & Health       & NA           & 103          & VA           & McLean       &  9418303     & 7567233      &  1851070     &  2          \\\\\n",
       "\t42 & 44           & Ganzgreen    & Construction & 2010         & 224          & TN           & Franklin     &  9055059     &      NA      &       NA     &  9          \\\\\n",
       "\\end{tabular}\n"
      ],
      "text/markdown": [
       "\n",
       "| <!--/--> | ID | Name | Industry | Inception | Employees | State | City | Revenue | Expenses | Profit | Growth | \n",
       "|---|---|---|---|\n",
       "| 8 | 8            | Rednimdox    | Construction | 2013         |  73          | NY           | Woodside     |  9055059     |      NA      |       NA     | 10           | \n",
       "| 15 | 17           | Ganzlax      | IT Services  | 2011         |  75          | NJ           | Iselin       | 14001180     |      NA      | 11901180     | 18           | \n",
       "| 20 | 22           | Lathotline   | Health       | NA           | 103          | VA           | McLean       |  9418303     | 7567233      |  1851070     |  2           | \n",
       "| 42 | 44           | Ganzgreen    | Construction | 2010         | 224          | TN           | Franklin     |  9055059     |      NA      |       NA     |  9           | \n",
       "\n",
       "\n"
      ],
      "text/plain": [
       "   ID Name       Industry     Inception Employees State City     Revenue \n",
       "8  8  Rednimdox  Construction 2013       73       NY    Woodside  9055059\n",
       "15 17 Ganzlax    IT Services  2011       75       NJ    Iselin   14001180\n",
       "20 22 Lathotline Health       NA        103       VA    McLean    9418303\n",
       "42 44 Ganzgreen  Construction 2010      224       TN    Franklin  9055059\n",
       "   Expenses Profit   Growth\n",
       "8       NA        NA 10    \n",
       "15      NA  11901180 18    \n",
       "20 7567233   1851070  2    \n",
       "42      NA        NA  9    "
      ]
     },
     "metadata": {},
     "output_type": "display_data"
    }
   ],
   "source": [
    "fin[!complete.cases(fin),]"
   ]
  },
  {
   "cell_type": "code",
   "execution_count": 145,
   "metadata": {},
   "outputs": [],
   "source": [
    "med_exp_constr = median(fin[fin$Industry==\"Construction\", \"Expenses\"], na.rm=TRUE)"
   ]
  },
  {
   "cell_type": "code",
   "execution_count": 146,
   "metadata": {},
   "outputs": [
    {
     "data": {
      "text/html": [
       "4506975.5"
      ],
      "text/latex": [
       "4506975.5"
      ],
      "text/markdown": [
       "4506975.5"
      ],
      "text/plain": [
       "[1] 4506976"
      ]
     },
     "metadata": {},
     "output_type": "display_data"
    }
   ],
   "source": [
    "med_exp_constr"
   ]
  },
  {
   "cell_type": "code",
   "execution_count": 147,
   "metadata": {},
   "outputs": [],
   "source": [
    "fin[is.na(fin$Expenses) & fin$Industry==\"Construction\" & is.na(fin$Profit), \"Expenses\"] = med_exp_constr"
   ]
  },
  {
   "cell_type": "code",
   "execution_count": 148,
   "metadata": {},
   "outputs": [
    {
     "data": {
      "text/html": [
       "<table>\n",
       "<thead><tr><th></th><th scope=col>ID</th><th scope=col>Name</th><th scope=col>Industry</th><th scope=col>Inception</th><th scope=col>Employees</th><th scope=col>State</th><th scope=col>City</th><th scope=col>Revenue</th><th scope=col>Expenses</th><th scope=col>Profit</th><th scope=col>Growth</th></tr></thead>\n",
       "<tbody>\n",
       "\t<tr><th scope=row>8</th><td>8           </td><td>Rednimdox   </td><td>Construction</td><td>2013        </td><td> 73         </td><td>NY          </td><td>Woodside    </td><td> 9055059    </td><td>4506976     </td><td>      NA    </td><td>10          </td></tr>\n",
       "\t<tr><th scope=row>15</th><td>17          </td><td>Ganzlax     </td><td>IT Services </td><td>2011        </td><td> 75         </td><td>NJ          </td><td>Iselin      </td><td>14001180    </td><td>     NA     </td><td>11901180    </td><td>18          </td></tr>\n",
       "\t<tr><th scope=row>20</th><td>22          </td><td>Lathotline  </td><td>Health      </td><td>NA          </td><td>103         </td><td>VA          </td><td>McLean      </td><td> 9418303    </td><td>7567233     </td><td> 1851070    </td><td> 2          </td></tr>\n",
       "\t<tr><th scope=row>42</th><td>44          </td><td>Ganzgreen   </td><td>Construction</td><td>2010        </td><td>224         </td><td>TN          </td><td>Franklin    </td><td> 9055059    </td><td>4506976     </td><td>      NA    </td><td> 9          </td></tr>\n",
       "</tbody>\n",
       "</table>\n"
      ],
      "text/latex": [
       "\\begin{tabular}{r|lllllllllll}\n",
       "  & ID & Name & Industry & Inception & Employees & State & City & Revenue & Expenses & Profit & Growth\\\\\n",
       "\\hline\n",
       "\t8 & 8            & Rednimdox    & Construction & 2013         &  73          & NY           & Woodside     &  9055059     & 4506976      &       NA     & 10          \\\\\n",
       "\t15 & 17           & Ganzlax      & IT Services  & 2011         &  75          & NJ           & Iselin       & 14001180     &      NA      & 11901180     & 18          \\\\\n",
       "\t20 & 22           & Lathotline   & Health       & NA           & 103          & VA           & McLean       &  9418303     & 7567233      &  1851070     &  2          \\\\\n",
       "\t42 & 44           & Ganzgreen    & Construction & 2010         & 224          & TN           & Franklin     &  9055059     & 4506976      &       NA     &  9          \\\\\n",
       "\\end{tabular}\n"
      ],
      "text/markdown": [
       "\n",
       "| <!--/--> | ID | Name | Industry | Inception | Employees | State | City | Revenue | Expenses | Profit | Growth | \n",
       "|---|---|---|---|\n",
       "| 8 | 8            | Rednimdox    | Construction | 2013         |  73          | NY           | Woodside     |  9055059     | 4506976      |       NA     | 10           | \n",
       "| 15 | 17           | Ganzlax      | IT Services  | 2011         |  75          | NJ           | Iselin       | 14001180     |      NA      | 11901180     | 18           | \n",
       "| 20 | 22           | Lathotline   | Health       | NA           | 103          | VA           | McLean       |  9418303     | 7567233      |  1851070     |  2           | \n",
       "| 42 | 44           | Ganzgreen    | Construction | 2010         | 224          | TN           | Franklin     |  9055059     | 4506976      |       NA     |  9           | \n",
       "\n",
       "\n"
      ],
      "text/plain": [
       "   ID Name       Industry     Inception Employees State City     Revenue \n",
       "8  8  Rednimdox  Construction 2013       73       NY    Woodside  9055059\n",
       "15 17 Ganzlax    IT Services  2011       75       NJ    Iselin   14001180\n",
       "20 22 Lathotline Health       NA        103       VA    McLean    9418303\n",
       "42 44 Ganzgreen  Construction 2010      224       TN    Franklin  9055059\n",
       "   Expenses Profit   Growth\n",
       "8  4506976        NA 10    \n",
       "15      NA  11901180 18    \n",
       "20 7567233   1851070  2    \n",
       "42 4506976        NA  9    "
      ]
     },
     "metadata": {},
     "output_type": "display_data"
    }
   ],
   "source": [
    "fin[!complete.cases(fin),]"
   ]
  },
  {
   "cell_type": "markdown",
   "metadata": {},
   "source": [
    "# Replace missing data: deriving values method"
   ]
  },
  {
   "cell_type": "markdown",
   "metadata": {},
   "source": [
    "We are nearing the end of our data preparation, and can soon analyze the data. We just have to calculate the null Expenses and Profit values using the following equations:\n",
    "\n",
    "Expenses = Revenue - Profit\n",
    "Profit = Revenue - Expenses"
   ]
  },
  {
   "cell_type": "code",
   "execution_count": 149,
   "metadata": {},
   "outputs": [
    {
     "data": {
      "text/html": [
       "<table>\n",
       "<thead><tr><th></th><th scope=col>ID</th><th scope=col>Name</th><th scope=col>Industry</th><th scope=col>Inception</th><th scope=col>Employees</th><th scope=col>State</th><th scope=col>City</th><th scope=col>Revenue</th><th scope=col>Expenses</th><th scope=col>Profit</th><th scope=col>Growth</th></tr></thead>\n",
       "<tbody>\n",
       "\t<tr><th scope=row>8</th><td>8           </td><td>Rednimdox   </td><td>Construction</td><td>2013        </td><td> 73         </td><td>NY          </td><td>Woodside    </td><td>9055059     </td><td>4506976     </td><td>NA          </td><td>10          </td></tr>\n",
       "\t<tr><th scope=row>42</th><td>44          </td><td>Ganzgreen   </td><td>Construction</td><td>2010        </td><td>224         </td><td>TN          </td><td>Franklin    </td><td>9055059     </td><td>4506976     </td><td>NA          </td><td> 9          </td></tr>\n",
       "</tbody>\n",
       "</table>\n"
      ],
      "text/latex": [
       "\\begin{tabular}{r|lllllllllll}\n",
       "  & ID & Name & Industry & Inception & Employees & State & City & Revenue & Expenses & Profit & Growth\\\\\n",
       "\\hline\n",
       "\t8 & 8            & Rednimdox    & Construction & 2013         &  73          & NY           & Woodside     & 9055059      & 4506976      & NA           & 10          \\\\\n",
       "\t42 & 44           & Ganzgreen    & Construction & 2010         & 224          & TN           & Franklin     & 9055059      & 4506976      & NA           &  9          \\\\\n",
       "\\end{tabular}\n"
      ],
      "text/markdown": [
       "\n",
       "| <!--/--> | ID | Name | Industry | Inception | Employees | State | City | Revenue | Expenses | Profit | Growth | \n",
       "|---|---|\n",
       "| 8 | 8            | Rednimdox    | Construction | 2013         |  73          | NY           | Woodside     | 9055059      | 4506976      | NA           | 10           | \n",
       "| 42 | 44           | Ganzgreen    | Construction | 2010         | 224          | TN           | Franklin     | 9055059      | 4506976      | NA           |  9           | \n",
       "\n",
       "\n"
      ],
      "text/plain": [
       "   ID Name      Industry     Inception Employees State City     Revenue\n",
       "8  8  Rednimdox Construction 2013       73       NY    Woodside 9055059\n",
       "42 44 Ganzgreen Construction 2010      224       TN    Franklin 9055059\n",
       "   Expenses Profit Growth\n",
       "8  4506976  NA     10    \n",
       "42 4506976  NA      9    "
      ]
     },
     "metadata": {},
     "output_type": "display_data"
    }
   ],
   "source": [
    "fin[is.na(fin$Profit),]"
   ]
  },
  {
   "cell_type": "code",
   "execution_count": 150,
   "metadata": {},
   "outputs": [],
   "source": [
    "fin[is.na(fin$Profit),\"Profit\"] = fin[is.na(fin$Profit), \"Revenue\"] - fin[is.na(fin$Profit), \"Expenses\"]"
   ]
  },
  {
   "cell_type": "code",
   "execution_count": 151,
   "metadata": {
    "scrolled": true
   },
   "outputs": [
    {
     "data": {
      "text/html": [
       "<table>\n",
       "<thead><tr><th></th><th scope=col>ID</th><th scope=col>Name</th><th scope=col>Industry</th><th scope=col>Inception</th><th scope=col>Employees</th><th scope=col>State</th><th scope=col>City</th><th scope=col>Revenue</th><th scope=col>Expenses</th><th scope=col>Profit</th><th scope=col>Growth</th></tr></thead>\n",
       "<tbody>\n",
       "\t<tr><th scope=row>8</th><td>8           </td><td>Rednimdox   </td><td>Construction</td><td>2013        </td><td> 73         </td><td>NY          </td><td>Woodside    </td><td>9055059     </td><td>4506976     </td><td>4548083     </td><td>10          </td></tr>\n",
       "\t<tr><th scope=row>42</th><td>44          </td><td>Ganzgreen   </td><td>Construction</td><td>2010        </td><td>224         </td><td>TN          </td><td>Franklin    </td><td>9055059     </td><td>4506976     </td><td>4548083     </td><td> 9          </td></tr>\n",
       "</tbody>\n",
       "</table>\n"
      ],
      "text/latex": [
       "\\begin{tabular}{r|lllllllllll}\n",
       "  & ID & Name & Industry & Inception & Employees & State & City & Revenue & Expenses & Profit & Growth\\\\\n",
       "\\hline\n",
       "\t8 & 8            & Rednimdox    & Construction & 2013         &  73          & NY           & Woodside     & 9055059      & 4506976      & 4548083      & 10          \\\\\n",
       "\t42 & 44           & Ganzgreen    & Construction & 2010         & 224          & TN           & Franklin     & 9055059      & 4506976      & 4548083      &  9          \\\\\n",
       "\\end{tabular}\n"
      ],
      "text/markdown": [
       "\n",
       "| <!--/--> | ID | Name | Industry | Inception | Employees | State | City | Revenue | Expenses | Profit | Growth | \n",
       "|---|---|\n",
       "| 8 | 8            | Rednimdox    | Construction | 2013         |  73          | NY           | Woodside     | 9055059      | 4506976      | 4548083      | 10           | \n",
       "| 42 | 44           | Ganzgreen    | Construction | 2010         | 224          | TN           | Franklin     | 9055059      | 4506976      | 4548083      |  9           | \n",
       "\n",
       "\n"
      ],
      "text/plain": [
       "   ID Name      Industry     Inception Employees State City     Revenue\n",
       "8  8  Rednimdox Construction 2013       73       NY    Woodside 9055059\n",
       "42 44 Ganzgreen Construction 2010      224       TN    Franklin 9055059\n",
       "   Expenses Profit  Growth\n",
       "8  4506976  4548083 10    \n",
       "42 4506976  4548083  9    "
      ]
     },
     "metadata": {},
     "output_type": "display_data"
    }
   ],
   "source": [
    "fin[c(8,42),]"
   ]
  },
  {
   "cell_type": "code",
   "execution_count": 152,
   "metadata": {},
   "outputs": [],
   "source": [
    "fin[is.na(fin$Expenses),\"Expenses\"] = fin[is.na(fin$Expenses),\"Revenue\"] - fin[is.na(fin$Expenses),\"Profit\"]"
   ]
  },
  {
   "cell_type": "code",
   "execution_count": 153,
   "metadata": {
    "scrolled": true
   },
   "outputs": [
    {
     "data": {
      "text/html": [
       "<table>\n",
       "<thead><tr><th></th><th scope=col>ID</th><th scope=col>Name</th><th scope=col>Industry</th><th scope=col>Inception</th><th scope=col>Employees</th><th scope=col>State</th><th scope=col>City</th><th scope=col>Revenue</th><th scope=col>Expenses</th><th scope=col>Profit</th><th scope=col>Growth</th></tr></thead>\n",
       "<tbody>\n",
       "\t<tr><th scope=row>15</th><td>17         </td><td>Ganzlax    </td><td>IT Services</td><td>2011       </td><td>75         </td><td>NJ         </td><td>Iselin     </td><td>14001180   </td><td>2100000    </td><td>11901180   </td><td>18         </td></tr>\n",
       "</tbody>\n",
       "</table>\n"
      ],
      "text/latex": [
       "\\begin{tabular}{r|lllllllllll}\n",
       "  & ID & Name & Industry & Inception & Employees & State & City & Revenue & Expenses & Profit & Growth\\\\\n",
       "\\hline\n",
       "\t15 & 17          & Ganzlax     & IT Services & 2011        & 75          & NJ          & Iselin      & 14001180    & 2100000     & 11901180    & 18         \\\\\n",
       "\\end{tabular}\n"
      ],
      "text/markdown": [
       "\n",
       "| <!--/--> | ID | Name | Industry | Inception | Employees | State | City | Revenue | Expenses | Profit | Growth | \n",
       "|---|\n",
       "| 15 | 17          | Ganzlax     | IT Services | 2011        | 75          | NJ          | Iselin      | 14001180    | 2100000     | 11901180    | 18          | \n",
       "\n",
       "\n"
      ],
      "text/plain": [
       "   ID Name    Industry    Inception Employees State City   Revenue  Expenses\n",
       "15 17 Ganzlax IT Services 2011      75        NJ    Iselin 14001180 2100000 \n",
       "   Profit   Growth\n",
       "15 11901180 18    "
      ]
     },
     "metadata": {},
     "output_type": "display_data"
    }
   ],
   "source": [
    "fin[15,]"
   ]
  },
  {
   "cell_type": "code",
   "execution_count": 154,
   "metadata": {
    "scrolled": true
   },
   "outputs": [
    {
     "data": {
      "text/html": [
       "<table>\n",
       "<thead><tr><th></th><th scope=col>ID</th><th scope=col>Name</th><th scope=col>Industry</th><th scope=col>Inception</th><th scope=col>Employees</th><th scope=col>State</th><th scope=col>City</th><th scope=col>Revenue</th><th scope=col>Expenses</th><th scope=col>Profit</th><th scope=col>Growth</th></tr></thead>\n",
       "<tbody>\n",
       "\t<tr><th scope=row>20</th><td>22        </td><td>Lathotline</td><td>Health    </td><td>NA        </td><td>103       </td><td>VA        </td><td>McLean    </td><td>9418303   </td><td>7567233   </td><td>1851070   </td><td>2         </td></tr>\n",
       "</tbody>\n",
       "</table>\n"
      ],
      "text/latex": [
       "\\begin{tabular}{r|lllllllllll}\n",
       "  & ID & Name & Industry & Inception & Employees & State & City & Revenue & Expenses & Profit & Growth\\\\\n",
       "\\hline\n",
       "\t20 & 22         & Lathotline & Health     & NA         & 103        & VA         & McLean     & 9418303    & 7567233    & 1851070    & 2         \\\\\n",
       "\\end{tabular}\n"
      ],
      "text/markdown": [
       "\n",
       "| <!--/--> | ID | Name | Industry | Inception | Employees | State | City | Revenue | Expenses | Profit | Growth | \n",
       "|---|\n",
       "| 20 | 22         | Lathotline | Health     | NA         | 103        | VA         | McLean     | 9418303    | 7567233    | 1851070    | 2          | \n",
       "\n",
       "\n"
      ],
      "text/plain": [
       "   ID Name       Industry Inception Employees State City   Revenue Expenses\n",
       "20 22 Lathotline Health   NA        103       VA    McLean 9418303 7567233 \n",
       "   Profit  Growth\n",
       "20 1851070 2     "
      ]
     },
     "metadata": {},
     "output_type": "display_data"
    }
   ],
   "source": [
    "fin[!complete.cases(fin),]"
   ]
  },
  {
   "cell_type": "markdown",
   "metadata": {},
   "source": [
    "We note that there is only one remaining incomplete record. However, the null value belongs to the Inception column, which is unimportant for our required analyses. Our data preparation is complete."
   ]
  },
  {
   "cell_type": "markdown",
   "metadata": {},
   "source": [
    "# Visualizing Results"
   ]
  },
  {
   "cell_type": "code",
   "execution_count": 155,
   "metadata": {},
   "outputs": [],
   "source": [
    "# We need:\n",
    "# A scatterplot classified by industry showing revenue, expenses, profit\n",
    "# A scatterplot that includes industry trends for the expenses-revenue relationship\n",
    "# BoxPlots showing growth by industry"
   ]
  },
  {
   "cell_type": "code",
   "execution_count": 156,
   "metadata": {},
   "outputs": [],
   "source": [
    "library(ggplot2)"
   ]
  },
  {
   "cell_type": "code",
   "execution_count": 157,
   "metadata": {},
   "outputs": [
    {
     "data": {},
     "metadata": {},
     "output_type": "display_data"
    },
    {
     "name": "stderr",
     "output_type": "stream",
     "text": [
      "`geom_smooth()` using method = 'loess'\n"
     ]
    },
    {
     "data": {},
     "metadata": {},
     "output_type": "display_data"
    },
    {
     "data": {
      "image/png": "[encoded data removed]",
      "text/plain": [
       "plot without title"
      ]
     },
     "metadata": {},
     "output_type": "display_data"
    },
    {
     "data": {},
     "metadata": {},
     "output_type": "display_data"
    },
    {
     "data": {
      "image/png": "[encoded data removed]",
      "text/plain": [
       "plot without title"
      ]
     },
     "metadata": {},
     "output_type": "display_data"
    },
    {
     "data": {
      "image/png": "[encoded data removed]",
      "text/plain": [
       "plot without title"
      ]
     },
     "metadata": {},
     "output_type": "display_data"
    }
   ],
   "source": [
    "# A scatterplot classified by industry showing revenue, expenses, profit\n",
    "\n",
    "p = ggplot(data=fin)\n",
    "p + geom_point(aes(x=Revenue, y=Expenses, colour=Industry, size=Profit))\n",
    "\n",
    "# A scatterplot that includes industry trends for the expenses~revenue relationship\n",
    "d = ggplot(data=fin, aes(x=Revenue, y=Expenses, colour=Industry))\n",
    "d + geom_point() + geom_smooth(fill=NA, size=1.2)\n",
    "# BoxPlots showing growth by industry\n",
    "\n",
    "f = ggplot(data=fin, aes(x=Industry, y=Growth, colour=Industry))\n",
    "f + geom_jitter() + geom_boxplot(size=1, alpha=0.5, outlier.color=NA)\n",
    "\n"
   ]
  },
  {
   "cell_type": "code",
   "execution_count": null,
   "metadata": {},
   "outputs": [],
   "source": []
  }
 ],
 "metadata": {
  "kernelspec": {
   "display_name": "R",
   "language": "R",
   "name": "ir"
  },
  "language_info": {
   "codemirror_mode": "r",
   "file_extension": ".r",
   "mimetype": "text/x-r-source",
   "name": "R",
   "pygments_lexer": "r",
   "version": "3.4.3"
  }
 },
 "nbformat": 4,
 "nbformat_minor": 2
}
